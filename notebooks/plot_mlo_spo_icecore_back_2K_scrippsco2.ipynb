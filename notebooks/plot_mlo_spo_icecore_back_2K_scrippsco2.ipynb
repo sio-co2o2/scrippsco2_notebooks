{
 "cells": [
  {
   "attachments": {},
   "cell_type": "markdown",
   "id": "635ec70d",
   "metadata": {},
   "source": [
    "<a href=\"https://colab.research.google.com/github/sio-co2o2/scrippsco2_notebooks/blob/main/notebooks/plot_mlo_spo_icecore_back_2K_scrippsco2.ipynb\" target=\"_parent\"><img src=\"https://colab.research.google.com/assets/colab-badge.svg\" alt=\"Open In Colab\"/></a>\n",
    "\n",
    "[![Binder](https://mybinder.org/badge_logo.svg)](https://mybinder.org/v2/gh/sio-co2o2/scrippsco2_notebooks/main?labpath=notebooks%2Fplot_mlo_spo_icecore_back_2K_scrippsco2.ipynb)"
   ]
  },
  {
   "cell_type": "markdown",
   "id": "d94b83b3",
   "metadata": {},
   "source": [
    "# Plot  CO2 of Mauna Loa and South Pole average plus Icecore Record back 2K"
   ]
  },
  {
   "cell_type": "markdown",
   "id": "b697565c",
   "metadata": {},
   "source": [
    "### Scripps CO2 Program\n",
    "https://scrippsco2.ucsd.edu\n",
    "\n",
    "This notebook creates pdf and png plot versions."
   ]
  },
  {
   "cell_type": "markdown",
   "id": "4a234df0",
   "metadata": {},
   "source": [
    "## Update directories and logo before running"
   ]
  },
  {
   "cell_type": "code",
   "execution_count": 1,
   "id": "0cd61aa7",
   "metadata": {},
   "outputs": [],
   "source": [
    "import re\n",
    "import pandas as pd\n",
    "import numpy as np\n",
    "import requests\n",
    "from datetime import datetime, date, timedelta\n",
    "from dateutil.relativedelta import relativedelta\n",
    "import pathlib\n",
    "import matplotlib.image as mpimg\n",
    "import matplotlib.pyplot as plt\n",
    "from matplotlib.pyplot import figure\n",
    "from matplotlib.ticker import (MultipleLocator, AutoMinorLocator)\n",
    "from matplotlib import ticker\n",
    "import os\n",
    "from PIL import Image\n",
    "\n",
    "%matplotlib inline"
   ]
  },
  {
   "cell_type": "code",
   "execution_count": 2,
   "id": "f6c5ec7a",
   "metadata": {},
   "outputs": [],
   "source": [
    "# This package is used to convert a vector svg into a png\n",
    "\n",
    "try:\n",
    "  from cairosvg import svg2png\n",
    "except:\n",
    "  ! pip install cairosvg\n",
    "  from cairosvg import svg2png"
   ]
  },
  {
   "cell_type": "code",
   "execution_count": 3,
   "id": "2a2ea349",
   "metadata": {},
   "outputs": [],
   "source": [
    "# This import is to enable Google Colab to save files ane then download them\n",
    "\n",
    "# This import does not exist unless the notebook is run in Google Colab\n",
    "# Put in a try except block if user wants to use notebook off of Google Colab\n",
    "\n",
    "try:\n",
    "    from google.colab import files\n",
    "except:\n",
    "    pass"
   ]
  },
  {
   "cell_type": "markdown",
   "id": "0ee378f8",
   "metadata": {},
   "source": [
    "## Set directories and file names for data,  plot, and logo"
   ]
  },
  {
   "cell_type": "code",
   "execution_count": 4,
   "id": "804adc16",
   "metadata": {},
   "outputs": [],
   "source": [
    "# Data from scrippsco2.ucsd.edu\n",
    "mlo_spo_average_icecore_dir = 'https://scrippsco2.ucsd.edu/assets/data/atmospheric/merged_ice_core_mlo_spo'\n",
    "\n",
    "averaged_data_dir = 'https://scrippsco2.ucsd.edu/assets/data/atmospheric/mlo_spo_average'\n",
    "\n",
    "# Data from bluemoon\n",
    "# mlo_spo_average_icecore_dir = 'data/to_post/merged_ice_core_mlo_spo'\n",
    "# averaged_data_dir = 'data/to_post/mlo_spo_average'\n",
    "\n",
    "merged_file = 'merged_ice_core_yearly.csv'\n",
    "merged_url = f\"{mlo_spo_average_icecore_dir}/{merged_file}\" \n",
    "\n",
    "merged_spline_file = 'spline_merged_ice_core_yearly.csv'\n",
    "merged_spline_url = f\"{mlo_spo_average_icecore_dir}/{merged_spline_file}\"\n",
    "\n",
    "mlo_spo_averaged_file = f\"{averaged_data_dir}/mlo_spo_annual_mean.csv\"\n",
    "\n",
    "# TODO\n",
    "# Get icecore data from its site\n",
    "# from bluemoon\n",
    "# icecore_file = 'data/supplemental/icecore/icecore_before_1958/icecore_back_2K_to_1958_span.csv'\n",
    "\n",
    "# from github\n",
    "icecore_file = 'https://raw.githubusercontent.com/sio-co2o2/scrippsco2_notebooks/main/data/icecore/icecore_back_2K_to_1958_span.csv'\n",
    "\n",
    "# Set plot directories for website graphics gallery\n",
    "plot_dir = pathlib.Path('./plots')\n",
    "plot_dir.mkdir(exist_ok=True)\n",
    "\n",
    "plot_pdf_dir = pathlib.Path(plot_dir / 'pdf')\n",
    "plot_pdf_dir.mkdir(exist_ok=True)\n",
    "\n",
    "plot_png_dir = pathlib.Path(plot_dir / 'png')\n",
    "plot_png_dir.mkdir(exist_ok=True)\n",
    "\n",
    "plot_display_dir = pathlib.Path(plot_dir / 'display')\n",
    "plot_display_dir.mkdir(exist_ok=True)\n",
    "\n",
    "plot_thumbnail_dir = pathlib.Path(plot_dir / 'thumbnails')\n",
    "plot_thumbnail_dir.mkdir(exist_ok=True)\n",
    "\n",
    "# logo_file = 'images/ucsd_sio_logo.svg'\n",
    "\n",
    "logo_file = 'https://github.com/sio-co2o2/keelingcurve_notebooks/raw/main/images/logos/ucsd_sio_logo.svg'\n",
    "\n",
    "plot_name = 'merged_ice_core_record_back_2k'\n",
    "\n",
    "pdf_file = plot_pdf_dir / f'{plot_name}.pdf'\n",
    "png_file = plot_png_dir / f'{plot_name}.png'\n",
    "png_display_file = plot_display_dir / f'{plot_name}.png'\n",
    "png_thumbnail_file = plot_thumbnail_dir / f'{plot_name}.png'\n"
   ]
  },
  {
   "cell_type": "markdown",
   "id": "2ddd2f6d",
   "metadata": {},
   "source": [
    "## Load in Data and process"
   ]
  },
  {
   "cell_type": "markdown",
   "id": "c23c538f",
   "metadata": {},
   "source": [
    "### Look at the file comments to see what the columns represent for the merged data\n",
    "The file is icecore data merged with the MLO and SPO average"
   ]
  },
  {
   "cell_type": "code",
   "execution_count": 5,
   "id": "59a9bdc6",
   "metadata": {
    "scrolled": true
   },
   "outputs": [
    {
     "name": "stdout",
     "output_type": "stream",
     "text": [
      "\"-------------------------------------------------------------------------------------------\"\n",
      "\"  Atmospheric CO2 record based on ice-core data before 1959 and yearly averages            \"\n",
      "\"  of direct observations from Mauna Loa and the South Pole after and                       \"\n",
      "\"  including 1959 (from Scripps CO2 Program).                                               \"\n",
      "\"                                                                                           \"\n",
      "\"  Ice core data from ncdc.noaa.gov/paleo-search/study/995 and                              \"\n",
      "\"  yearly averages of direct observations from Mauna Loa and the South Pole after and       \"\n",
      "\"  including 1959 from Scripps CO2 Program scrippsco2.ucsd.edu.                             \"\n",
      "\"                                                                                           \"\n",
      "\"  Cite the ice-core data as                                                                \"\n",
      "\"  MacFarling Meure, C., D. Etheridge, C. Trudinger, P. Steele, R. Langenfelds,             \"\n",
      "\"  T. van Ommen, A. Smith, and J. Elkins. 2006. Law Dome CO2, CH4 and N2O Ice Core Records  \"\n",
      "\"  Extended to 2000 years BP. Geophysical Research Letters, 33(14), L14810.                 \"\n",
      "\"  doi: 10.1029/2006GL026152                                                                \"\n",
      "\"                                                                                           \"\n",
      "\"  Mauna Loa Observatory, Hawaii: Latitude 19.5Â°N Longitude 155.6Â°W Elevation 3397m         \"\n",
      "\"  South Pole: Latitude 90.0Â°S Elevation 2810m                                              \"\n",
      "\"                                                                                           \"\n",
      "\"  Annual mean CO2 concentration for Mauna Loa and South Pole starting in 1959.             \"\n",
      "\"  These values are derived from seasonally detrended monthly mean values for each station  \"\n",
      "\"  that have been filled with values from the spline fit when monthly averages are          \"\n",
      "\"  not available. Average values are centered on 1-July of each year.                       \"\n",
      "\"                                                                                           \"\n",
      "\"  Mauna Loa and South Pole CO2 concentrations are measured on the '12' calibration scale   \"\n",
      "\"                                                                                           \"\n",
      "\"  Cite the Scripps CO2 Program Mauna Loa and South Pole data as                            \"\n",
      "\"  C. D. Keeling, S. C. Piper, R. B. Bacastow, M. Wahlen, T. P. Whorf, M. Heimann, and      \"\n",
      "\"  H. A. Meijer, Exchanges of atmospheric CO2 and 13CO2 with the terrestrial biosphere and  \"\n",
      "\"  oceans from 1978 to 2000. I. Global aspects, SIO Reference Series, No. 01-06,            \"\n",
      "\"  Scripps Institution of Oceanography, San Diego, 88 pages, 2001.                          \"\n",
      "\"                                                                                           \"\n",
      "\"   Scripps CO2 Source: R. F. Keeling, S. C. Piper, A. F. Bollenbacher and S. J. Walker     \"\n",
      "\"   Scripps CO2 Program (scrippsco2.ucsd.edu )                                              \"\n",
      "\"   Scripps Institution of Oceanography (SIO)                                               \"\n",
      "\"   University of California                                                                \"\n",
      "\"   La Jolla, California USA 92093-0244                                                     \"\n",
      "\"                                                                                           \"\n",
      "\"   Status of Scripps CO2 data and correspondence:                                          \"\n",
      "\"                                                                                           \"\n",
      "\"   These data are subject to revision based on recalibration of standard gases. Questions  \"\n",
      "\"   about the data should be directed to Dr. Ralph Keeling (rkeeling@ucsd.edu),             \"\n",
      "\"   Scripps CO2 Program.                                                                    \"\n",
      "\"                                                                                           \"\n",
      "\"-------------------------------------------------------------------------------------------\"\n",
      "\"                                                                                           \"\n",
      "\"  Sample Date, CO2                                                                         \"\n",
      "\"  (year CE),  (ppm)                                                                        \"\n"
     ]
    }
   ],
   "source": [
    "# Load from URL\n",
    "response = requests.get(merged_url)\n",
    "file_text = response.text\n",
    "text_lines = file_text.split('\\n')\n",
    "\n",
    "# Load from a file\n",
    "# with open(merged_url) as f:\n",
    "#     text_lines = f.readlines()\n",
    "\n",
    "# Currently, the column header is commented out.\n",
    "# So for now, read in the comments and the file header will be the last two lines.\n",
    "comments = [line for line in text_lines if line.startswith('\"')]\n",
    "print('\\n'.join(comments))"
   ]
  },
  {
   "cell_type": "markdown",
   "id": "806af20c",
   "metadata": {},
   "source": [
    "### Load in merged data"
   ]
  },
  {
   "cell_type": "code",
   "execution_count": 6,
   "id": "012a48fa",
   "metadata": {},
   "outputs": [
    {
     "data": {
      "text/html": [
       "<div>\n",
       "<style scoped>\n",
       "    .dataframe tbody tr th:only-of-type {\n",
       "        vertical-align: middle;\n",
       "    }\n",
       "\n",
       "    .dataframe tbody tr th {\n",
       "        vertical-align: top;\n",
       "    }\n",
       "\n",
       "    .dataframe thead th {\n",
       "        text-align: right;\n",
       "    }\n",
       "</style>\n",
       "<table border=\"1\" class=\"dataframe\">\n",
       "  <thead>\n",
       "    <tr style=\"text-align: right;\">\n",
       "      <th></th>\n",
       "      <th>date</th>\n",
       "      <th>co2</th>\n",
       "    </tr>\n",
       "  </thead>\n",
       "  <tbody>\n",
       "    <tr>\n",
       "      <th>0</th>\n",
       "      <td>13.3</td>\n",
       "      <td>276.75</td>\n",
       "    </tr>\n",
       "    <tr>\n",
       "      <th>1</th>\n",
       "      <td>29.5</td>\n",
       "      <td>277.88</td>\n",
       "    </tr>\n",
       "    <tr>\n",
       "      <th>2</th>\n",
       "      <td>56.0</td>\n",
       "      <td>277.38</td>\n",
       "    </tr>\n",
       "    <tr>\n",
       "      <th>3</th>\n",
       "      <td>104.5</td>\n",
       "      <td>277.51</td>\n",
       "    </tr>\n",
       "    <tr>\n",
       "      <th>4</th>\n",
       "      <td>136.0</td>\n",
       "      <td>278.13</td>\n",
       "    </tr>\n",
       "  </tbody>\n",
       "</table>\n",
       "</div>"
      ],
      "text/plain": [
       "    date     co2\n",
       "0   13.3  276.75\n",
       "1   29.5  277.88\n",
       "2   56.0  277.38\n",
       "3  104.5  277.51\n",
       "4  136.0  278.13"
      ]
     },
     "execution_count": 6,
     "metadata": {},
     "output_type": "execute_result"
    }
   ],
   "source": [
    "# File is in windows encoding due to degree symbol\n",
    "df = pd.read_csv(merged_url, encoding='cp1252', comment='\"', header=None, names=['date', 'co2'])\n",
    "df.head()"
   ]
  },
  {
   "cell_type": "markdown",
   "id": "5d189ccd",
   "metadata": {},
   "source": [
    "### Convert to numpy array for plotting"
   ]
  },
  {
   "cell_type": "code",
   "execution_count": 7,
   "id": "e8720682",
   "metadata": {},
   "outputs": [],
   "source": [
    "date_merged = df['date'].to_numpy()\n",
    "co2_merged = df['co2'].to_numpy()"
   ]
  },
  {
   "cell_type": "markdown",
   "id": "29c54c6f",
   "metadata": {},
   "source": [
    "### Look at file comments to find what the columns represent for the merged spline data"
   ]
  },
  {
   "cell_type": "code",
   "execution_count": 8,
   "id": "034124b4",
   "metadata": {},
   "outputs": [
    {
     "name": "stdout",
     "output_type": "stream",
     "text": [
      "\"-------------------------------------------------------------------------------------------\"\n",
      "\"  Spline of the atmospheric CO2 record based on ice core data before 1959 and              \"\n",
      "\"  yearly averages of direct observations from Mauna Loa and the South Pole after and       \"\n",
      "\"  including 1959 (from Scripps CO2 Program).                                               \"\n",
      "\"                                                                                           \"\n",
      "\"  Ice core data from ncdc.noaa.gov/paleo-search/study/995 and                              \"\n",
      "\"  yearly averages of direct observations from Mauna Loa and the South Pole after and       \"\n",
      "\"  including 1959 from Scripps CO2 Program scrippsco2.ucsd.edu.                             \"\n",
      "\"                                                                                           \"\n",
      "\"  Cite the ice-core data as                                                                \"\n",
      "\"  MacFarling Meure, C., D. Etheridge, C. Trudinger, P. Steele, R. Langenfelds,             \"\n",
      "\"  T. van Ommen, A. Smith, and J. Elkins. 2006. Law Dome CO2, CH4 and N2O Ice Core Records  \"\n",
      "\"  Extended to 2000 years BP. Geophysical Research Letters, 33(14), L14810.                 \"\n",
      "\"  doi: 10.1029/2006GL026152                                                                \"\n",
      "\"                                                                                           \"\n",
      "\"  Mauna Loa Observatory, Hawaii: Latitude 19.5Â°N Longitude 155.6Â°W Elevation 3397m         \"\n",
      "\"  South Pole: Latitude 90.0Â°S Elevation 2810m                                              \"\n",
      "\"                                                                                           \"\n",
      "\"  Annual mean CO2 concentration for Mauna Loa and South Pole starting in 1959.             \"\n",
      "\"  These values are derived from seasonally detrended monthly mean values for each station  \"\n",
      "\"  that have been filled with values from the spline fit when monthly averages are          \"\n",
      "\"  not available. Average values are centered on 1-July of each year.                       \"\n",
      "\"                                                                                           \"\n",
      "\"  Mauna Loa and South Pole CO2 concentrations are measured on the '12' calibration scale   \"\n",
      "\"                                                                                           \"\n",
      "\"  Cite the Scripps CO2 Program Mauna Loa and South Pole data as                            \"\n",
      "\"  C. D. Keeling, S. C. Piper, R. B. Bacastow, M. Wahlen, T. P. Whorf, M. Heimann, and      \"\n",
      "\"  H. A. Meijer, Exchanges of atmospheric CO2 and 13CO2 with the terrestrial biosphere and  \"\n",
      "\"  oceans from 1978 to 2000. I. Global aspects, SIO Reference Series, No. 01-06,            \"\n",
      "\"  Scripps Institution of Oceanography, San Diego, 88 pages, 2001.                          \"\n",
      "\"                                                                                           \"\n",
      "\"   Scripps CO2 Source: R. F. Keeling, S. C. Piper, A. F. Bollenbacher and S. J. Walker     \"\n",
      "\"   Scripps CO2 Program (scrippsco2.ucsd.edu )                                              \"\n",
      "\"   Scripps Institution of Oceanography (SIO)                                               \"\n",
      "\"   University of California                                                                \"\n",
      "\"   La Jolla, California USA 92093-0244                                                     \"\n",
      "\"                                                                                           \"\n",
      "\"   Status of Scripps CO2 data and correspondence:                                          \"\n",
      "\"                                                                                           \"\n",
      "\"   These data are subject to revision based on recalibration of standard gases. Questions  \"\n",
      "\"   about the data should be directed to Dr. Ralph Keeling (rkeeling@ucsd.edu),             \"\n",
      "\"   Scripps CO2 Program.                                                                    \"\n",
      "\"                                                                                           \"\n",
      "\"-------------------------------------------------------------------------------------------\"\n",
      "\"                                                                                           \"\n",
      "\"  Sample Date, CO2                                                                         \"\n",
      "\"  (year CE),  (ppm)                                                                        \"\n"
     ]
    }
   ],
   "source": [
    "# Load from URL\n",
    "response = requests.get(merged_spline_url)\n",
    "file_text = response.text\n",
    "text_lines = file_text.split('\\n')\n",
    "\n",
    "# Load from a file\n",
    "# with open(merged_spline_url) as f:\n",
    "#     text_lines = f.readlines()\n",
    "\n",
    "# Currently, the column header is commented out.\n",
    "# So for now, read in the comments and the file header will be the last two lines.\n",
    "comments = [line for line in text_lines if line.startswith('\"')]\n",
    "print('\\n'.join(comments))"
   ]
  },
  {
   "cell_type": "markdown",
   "id": "1a49ff3f",
   "metadata": {},
   "source": [
    "### Load in merged spline data"
   ]
  },
  {
   "cell_type": "code",
   "execution_count": 9,
   "id": "eb65cb88",
   "metadata": {},
   "outputs": [
    {
     "data": {
      "text/html": [
       "<div>\n",
       "<style scoped>\n",
       "    .dataframe tbody tr th:only-of-type {\n",
       "        vertical-align: middle;\n",
       "    }\n",
       "\n",
       "    .dataframe tbody tr th {\n",
       "        vertical-align: top;\n",
       "    }\n",
       "\n",
       "    .dataframe thead th {\n",
       "        text-align: right;\n",
       "    }\n",
       "</style>\n",
       "<table border=\"1\" class=\"dataframe\">\n",
       "  <thead>\n",
       "    <tr style=\"text-align: right;\">\n",
       "      <th></th>\n",
       "      <th>date</th>\n",
       "      <th>co2</th>\n",
       "    </tr>\n",
       "  </thead>\n",
       "  <tbody>\n",
       "    <tr>\n",
       "      <th>0</th>\n",
       "      <td>13.3</td>\n",
       "      <td>276.8006</td>\n",
       "    </tr>\n",
       "    <tr>\n",
       "      <th>1</th>\n",
       "      <td>13.8</td>\n",
       "      <td>276.8388</td>\n",
       "    </tr>\n",
       "    <tr>\n",
       "      <th>2</th>\n",
       "      <td>14.3</td>\n",
       "      <td>276.8771</td>\n",
       "    </tr>\n",
       "    <tr>\n",
       "      <th>3</th>\n",
       "      <td>14.8</td>\n",
       "      <td>276.9152</td>\n",
       "    </tr>\n",
       "    <tr>\n",
       "      <th>4</th>\n",
       "      <td>15.3</td>\n",
       "      <td>276.9533</td>\n",
       "    </tr>\n",
       "  </tbody>\n",
       "</table>\n",
       "</div>"
      ],
      "text/plain": [
       "   date       co2\n",
       "0  13.3  276.8006\n",
       "1  13.8  276.8388\n",
       "2  14.3  276.8771\n",
       "3  14.8  276.9152\n",
       "4  15.3  276.9533"
      ]
     },
     "execution_count": 9,
     "metadata": {},
     "output_type": "execute_result"
    }
   ],
   "source": [
    "# File is in windows encoding due to degree symbol\n",
    "df = pd.read_csv(merged_spline_url, encoding='cp1252', comment='\"',\n",
    "                 header=None, names=['date', 'co2'])\n",
    "df.head()\n"
   ]
  },
  {
   "cell_type": "markdown",
   "id": "04e2628a",
   "metadata": {},
   "source": [
    "### Convert to numpy array for plotting"
   ]
  },
  {
   "cell_type": "code",
   "execution_count": 10,
   "id": "1b230183",
   "metadata": {},
   "outputs": [],
   "source": [
    "date_merged_spline = df['date'].to_numpy()\n",
    "co2_merged_spline = df['co2'].to_numpy()"
   ]
  },
  {
   "cell_type": "markdown",
   "id": "138b1a24",
   "metadata": {},
   "source": [
    "### Load in icecore data"
   ]
  },
  {
   "cell_type": "code",
   "execution_count": 11,
   "id": "9112e7f4",
   "metadata": {},
   "outputs": [
    {
     "data": {
      "text/html": [
       "<div>\n",
       "<style scoped>\n",
       "    .dataframe tbody tr th:only-of-type {\n",
       "        vertical-align: middle;\n",
       "    }\n",
       "\n",
       "    .dataframe tbody tr th {\n",
       "        vertical-align: top;\n",
       "    }\n",
       "\n",
       "    .dataframe thead th {\n",
       "        text-align: right;\n",
       "    }\n",
       "</style>\n",
       "<table border=\"1\" class=\"dataframe\">\n",
       "  <thead>\n",
       "    <tr style=\"text-align: right;\">\n",
       "      <th></th>\n",
       "      <th>year</th>\n",
       "      <th>co2</th>\n",
       "    </tr>\n",
       "  </thead>\n",
       "  <tbody>\n",
       "    <tr>\n",
       "      <th>0</th>\n",
       "      <td>13.30</td>\n",
       "      <td>276.75</td>\n",
       "    </tr>\n",
       "    <tr>\n",
       "      <th>1</th>\n",
       "      <td>29.52</td>\n",
       "      <td>277.88</td>\n",
       "    </tr>\n",
       "    <tr>\n",
       "      <th>2</th>\n",
       "      <td>55.96</td>\n",
       "      <td>277.38</td>\n",
       "    </tr>\n",
       "    <tr>\n",
       "      <th>3</th>\n",
       "      <td>104.48</td>\n",
       "      <td>277.51</td>\n",
       "    </tr>\n",
       "    <tr>\n",
       "      <th>4</th>\n",
       "      <td>135.98</td>\n",
       "      <td>278.13</td>\n",
       "    </tr>\n",
       "  </tbody>\n",
       "</table>\n",
       "</div>"
      ],
      "text/plain": [
       "     year     co2\n",
       "0   13.30  276.75\n",
       "1   29.52  277.88\n",
       "2   55.96  277.38\n",
       "3  104.48  277.51\n",
       "4  135.98  278.13"
      ]
     },
     "execution_count": 11,
     "metadata": {},
     "output_type": "execute_result"
    }
   ],
   "source": [
    "df_icecore = pd.read_csv(icecore_file, skipinitialspace=True)\n",
    "df_icecore.head()"
   ]
  },
  {
   "cell_type": "markdown",
   "id": "6c1da580",
   "metadata": {},
   "source": [
    "### Convert to numpy arrays for plotting"
   ]
  },
  {
   "cell_type": "code",
   "execution_count": 12,
   "id": "53166037",
   "metadata": {},
   "outputs": [],
   "source": [
    "date_icecore = df_icecore['year'].to_numpy()\n",
    "co2_icecore = df_icecore['co2'].to_numpy()"
   ]
  },
  {
   "cell_type": "markdown",
   "id": "07a4a7d3",
   "metadata": {},
   "source": [
    "### Load in MLO and SPO averaged data"
   ]
  },
  {
   "cell_type": "code",
   "execution_count": 13,
   "id": "9da38bd7",
   "metadata": {},
   "outputs": [],
   "source": [
    "df_mlo_spo = pd.read_csv(mlo_spo_averaged_file, skipinitialspace=True,sep=',',comment='%', header=None)\n",
    "df_mlo_spo.columns = ['year', 'co2']"
   ]
  },
  {
   "cell_type": "markdown",
   "id": "5911d770",
   "metadata": {},
   "source": [
    "### Remove rows with fill values -99.99 or NaN"
   ]
  },
  {
   "cell_type": "code",
   "execution_count": 14,
   "id": "f297634c",
   "metadata": {},
   "outputs": [],
   "source": [
    "df_mlo_spo = df_mlo_spo[df_mlo_spo['co2'] != -99.99]\n",
    "df_mlo_spo = df_mlo_spo.dropna()"
   ]
  },
  {
   "cell_type": "markdown",
   "id": "bb311b16",
   "metadata": {},
   "source": [
    "### Convert to numpy arrays for plotting"
   ]
  },
  {
   "cell_type": "code",
   "execution_count": 15,
   "id": "28204b0b",
   "metadata": {},
   "outputs": [],
   "source": [
    "date_mlo_spo = df_mlo_spo['year'].to_numpy()\n",
    "co2_mlo_spo = df_mlo_spo['co2'].to_numpy()"
   ]
  },
  {
   "cell_type": "markdown",
   "id": "ca125c3b",
   "metadata": {},
   "source": [
    "## Define Plot Functions"
   ]
  },
  {
   "cell_type": "code",
   "execution_count": 16,
   "id": "0db3150c",
   "metadata": {},
   "outputs": [],
   "source": [
    "def set_matplotlib_properties():\n",
    "    \n",
    "    # Set default properties for matplotlib\n",
    "    \n",
    "    # Reset rcparams in case modified defaults in another notebook during same session \n",
    "    plt.rcParams.update(plt.rcParamsDefault)\n",
    "\n",
    "    plt.rcParams.update({'axes.linewidth':1.5})\n",
    "    \n",
    "    plt.rcParams.update({\n",
    "        \"text.usetex\": False,\n",
    "        \"font.family\": \"sans-serif\",\n",
    "        \"font.weight\":  \"normal\",\n",
    "        \"font.sans-serif\": [\"Arial\", \"Tahoma\", \"Helvetica\",\"FreeSans\", \"NimbusSans\", \"LiberationSans\",\"DejaVu Sans\"],\n",
    "        \"mathtext.default\":'regular',\n",
    "        \"mathtext.fontset\": \"dejavusans\"\n",
    "    })\n",
    "        \n",
    "    # http://phyletica.org/matplotlib-fonts/\n",
    "    # This causes matplotlib to use Type 42 (a.k.a. TrueType) fonts \n",
    "    # for PostScript and PDF files. This allows you to avoid Type 3 fonts.\n",
    "    # Turning on usetex also works\n",
    "    # Needed on Ubuntu for pdf fonts \n",
    "    plt.rcParams.update({\n",
    "      'pdf.fonttype': 42,\n",
    "        'ps.fonttype': 42 \n",
    "    })"
   ]
  },
  {
   "cell_type": "code",
   "execution_count": 17,
   "id": "bfe6bafb",
   "metadata": {},
   "outputs": [],
   "source": [
    "def set_website_plot_props(ax, fig, xmin, xmax, ymin, ymax, xlabel, ylabel):\n",
    "\n",
    "\n",
    "    # ------------------------------------\n",
    "    # Set properties to use for matplotlib\n",
    "    # ------------------------------------\n",
    "    \n",
    "    set_matplotlib_properties()\n",
    "\n",
    "\n",
    "    # ---------------------------------\n",
    "    # Plot properties for website plots\n",
    "    # ---------------------------------\n",
    "    \n",
    "    # Allow room at top for the titles\n",
    "    fig.subplots_adjust(top=0.85)\n",
    "\n",
    "    ax.tick_params(which='both', bottom=True, top=True, left=True, right=True)\n",
    "\n",
    "    ax.tick_params(axis='x', labelsize=14)\n",
    "    ax.tick_params(axis='y', labelsize=16)\n",
    "\n",
    "    ax.tick_params(axis='x', which='major', direction='in', length=8, width=1)\n",
    "    ax.tick_params(axis='y', which='major', direction='in', length=8, width=1)\n",
    "\n",
    "    tick_spacing = 100\n",
    "    ax.xaxis.set_major_locator(ticker.MultipleLocator(tick_spacing))\n",
    "    \n",
    "    tick_spacing = 10\n",
    "    ax.yaxis.set_major_locator(ticker.MultipleLocator(tick_spacing))\n",
    "    \n",
    "    # Display every other y major tick label\n",
    "    for label in ax.yaxis.get_ticklabels()[::2]:\n",
    "        label.set_visible(False)\n",
    "\n",
    "    # Display every other x major tick label\n",
    "    for label in ax.xaxis.get_ticklabels()[::2]:\n",
    "        label.set_visible(False)\n",
    "\n",
    "    labels = ax.get_xticklabels() + ax.get_yticklabels()\n",
    "    for label in labels: label.set_fontweight('bold')\n",
    "\n",
    "    tick_length = 5\n",
    "    ax.tick_params(axis='x', which='minor', direction='in', length=tick_length)\n",
    "       \n",
    "    tick_length = 4\n",
    "    ax.tick_params(axis='y', which='minor', direction='in', length=tick_length)\n",
    "        \n",
    "    ax.xaxis.set_minor_locator(AutoMinorLocator(5))\n",
    "    ax.yaxis.set_minor_locator(AutoMinorLocator(5))\n",
    "     \n",
    "    ax.set_xlabel(xlabel, fontweight='bold', fontsize=21, labelpad=5)\n",
    "    ax.set_ylabel(ylabel, fontweight='bold', fontsize=21, labelpad=8)\n",
    "    \n",
    "    ax.set_xlim(xmin, xmax)\n",
    "    ax.set_ylim(ymin, ymax)\n",
    "    \n",
    "    # ax.tick_params(which='both', bottom=True, top=True, left=True, right=True)\n",
    "\n",
    "    # ax.tick_params(axis='x', labelsize=14)\n",
    "    # ax.tick_params(axis='y', labelsize=16)\n",
    "\n",
    "    # ax.tick_params(axis='x', which='major', direction='in', length=8, width=1)\n",
    "    # ax.tick_params(axis='y', which='major', direction='in', length=8, width=1)\n",
    "\n",
    "    # tick_spacing = 100\n",
    "    # ax.xaxis.set_major_locator(ticker.MultipleLocator(tick_spacing))\n",
    "    \n",
    "    # tick_spacing = 50\n",
    "    # ax.yaxis.set_major_locator(ticker.MultipleLocator(tick_spacing))\n",
    "\n",
    "    # labels = ax.get_xticklabels() + ax.get_yticklabels()\n",
    "    # for label in labels: label.set_fontweight('bold')\n",
    "\n",
    "    # tick_length = 5\n",
    "    # ax.tick_params(axis='x', which='minor', direction='in', length=tick_length)\n",
    "          \n",
    "    # ax.xaxis.set_minor_locator(AutoMinorLocator(2))\n",
    "     \n",
    "    # ax.set_xlabel(xlabel, fontweight='bold', fontsize=21, labelpad=5)\n",
    "    # ax.set_ylabel(ylabel, fontweight='bold', fontsize=21, labelpad=8)\n",
    "    \n",
    "    # ax.set_xlim(xmin, xmax)\n",
    "    # ax.set_ylim(ymin, ymax)"
   ]
  },
  {
   "cell_type": "code",
   "execution_count": 18,
   "id": "8a6cef4f",
   "metadata": {},
   "outputs": [],
   "source": [
    "def add_plot_title(ax, title1, title2):\n",
    "\n",
    "    ax.annotate(title1, xy=(0,1.1), xycoords='axes fraction', fontsize=21,\n",
    "                    horizontalalignment='left', verticalalignment='top', fontweight=\"bold\")\n",
    "    ax.annotate(title2, xy=(0,1.04), xycoords='axes fraction', fontsize=12,\n",
    "                    horizontalalignment='left', verticalalignment='top', fontweight=\"normal\")"
   ]
  },
  {
   "cell_type": "code",
   "execution_count": 19,
   "id": "f8dc69a2",
   "metadata": {},
   "outputs": [],
   "source": [
    "def add_sio_logo(fig, logo_file, xpos, ypos):\n",
    "\n",
    "    # Convert the logo svg file to a png file with the\n",
    "    # given scale and dpi\n",
    "\n",
    "    logo_png = 'logo.png'\n",
    "\n",
    "    #logo_path = str(logo_file.resolve())\n",
    "    #svg2png(url=logo_path, write_to=logo_png, scale=10, dpi=300)\n",
    "    svg2png(url=logo_file, write_to=logo_png, scale=10, dpi=300)\n",
    "\n",
    "    logo = mpimg.imread(logo_png)\n",
    "\n",
    "    fig.add_axes([xpos, ypos, 0.2, 0.2], anchor='SE', zorder=1)\n",
    "\n",
    "    plt.imshow(logo)\n",
    "    plt.axis('off')\n",
    "\n",
    "    # Delete the logo png version\n",
    "    os.remove(logo_png)\n"
   ]
  },
  {
   "cell_type": "code",
   "execution_count": 20,
   "id": "35dcb398",
   "metadata": {},
   "outputs": [],
   "source": [
    "def save_plot_for_website(fig):\n",
    "\n",
    "    fig_width, fig_height = fig.get_size_inches()\n",
    "\n",
    "    # For pdf\n",
    "    width_in = 11\n",
    "    #height_in = 8.5\n",
    "    height_in = (fig_height/fig_width) * width_in\n",
    "\n",
    "    fig.set_size_inches(width_in, height_in)\n",
    "\n",
    "    plt.subplots_adjust(left=0.109, right=0.95, top=0.85, bottom=0.15)\n",
    "\n",
    "    # Save to a high dpi so that logo png file has a high resolution\n",
    "    fig.savefig(pdf_file, facecolor='w', edgecolor='w',\n",
    "                orientation='landscape', format=None,\n",
    "                transparent=False, bbox_inches='tight', dpi=600)\n",
    "\n",
    "    # Save png version\n",
    "    png_dpi = 600\n",
    "\n",
    "    fig.savefig(png_file, facecolor='w', edgecolor='w',\n",
    "                orientation='landscape', dpi=png_dpi, bbox_inches='tight')\n",
    "\n",
    "    # For display png\n",
    "    # width = 1200px\n",
    "\n",
    "    # Now resize the image\n",
    "    img = Image.open(png_file)\n",
    "    img_width, img_height = img.size\n",
    "\n",
    "    width_px = 1200\n",
    "    img_scale = (width_px / img_width)\n",
    "    height_px = int((float(img_height) * float(img_scale)))\n",
    "\n",
    "    img = img.resize((width_px, height_px), Image.LANCZOS)\n",
    "    img.save(png_display_file)\n",
    "\n",
    "    # For thumbail png\n",
    "    # width = 250px\n",
    "\n",
    "    # Now resize the image\n",
    "    img = Image.open(png_file)\n",
    "    img_width, img_height = img.size\n",
    "\n",
    "    width_px = 250\n",
    "    img_scale = (width_px / img_width)\n",
    "    height_px = int((float(img_height) * float(img_scale)))\n",
    "\n",
    "    img = img.resize((width_px, height_px), Image.LANCZOS)\n",
    "    img.save(png_thumbnail_file)\n"
   ]
  },
  {
   "cell_type": "markdown",
   "id": "ee0bdd2e",
   "metadata": {},
   "source": [
    "## Set plot limits and labeling"
   ]
  },
  {
   "cell_type": "markdown",
   "id": "6b2555e3",
   "metadata": {},
   "source": [
    "### Functions to convert dates into various formats\n",
    "For plot limits and labeling"
   ]
  },
  {
   "cell_type": "code",
   "execution_count": 21,
   "id": "7a89eb1a",
   "metadata": {},
   "outputs": [],
   "source": [
    "# Function to convert datetime to a float\n",
    "def dt2t(adatetime):\n",
    "    \"\"\"\n",
    "    Convert adatetime into a float. The integer part of the float should\n",
    "    represent the year.\n",
    "    Order should be preserved. If adate<bdate, then d2t(adate)<d2t(bdate)\n",
    "    time distances should be preserved: If bdate-adate=ddate-cdate then\n",
    "    dt2t(bdate)-dt2t(adate) = dt2t(ddate)-dt2t(cdate)\n",
    "    \"\"\"\n",
    "    year = adatetime.year\n",
    "    boy = datetime(year, 1, 1)\n",
    "    eoy = datetime(year + 1, 1, 1)\n",
    "    return year + ((adatetime - boy).total_seconds() / ((eoy - boy).total_seconds()))"
   ]
  },
  {
   "cell_type": "code",
   "execution_count": 22,
   "id": "41404b69",
   "metadata": {},
   "outputs": [],
   "source": [
    "def get_todays_date_variations():\n",
    "    \n",
    "    now = datetime.now()\n",
    "    todays_decimal =  dt2t(now)\n",
    "    \n",
    "    today = date.today()\n",
    "\n",
    "    todays_day = today.day\n",
    "    todays_month = today.strftime(\"%B\")\n",
    "    todays_year = today.year\n",
    "    todays_date_moyr = today.strftime(\"%B %Y\")\n",
    "    todays_date_modyyr = f\"{todays_month} {todays_day}, {todays_year}\"\n",
    "\n",
    "    return todays_date_moyr, todays_date_modyyr, todays_decimal, todays_year"
   ]
  },
  {
   "cell_type": "code",
   "execution_count": 23,
   "id": "acd89f91",
   "metadata": {},
   "outputs": [],
   "source": [
    "#  https://stackoverflow.com/questions/19305991/convert-fractional-years-to-a-real-date-in-python\n",
    "def t2dt(atime):\n",
    "    \"\"\"\n",
    "    Convert atime (a float) to DT.datetime\n",
    "    This is the inverse of dt2t.\n",
    "    assert dt2t(t2dt(atime)) == atime\n",
    "    \"\"\"\n",
    "    year = int(atime)\n",
    "    remainder = atime - year\n",
    "    boy = datetime(year, 1, 1)\n",
    "    eoy = datetime(year + 1, 1, 1)\n",
    "    seconds = remainder * (eoy - boy).total_seconds()\n",
    "    return boy + timedelta(seconds=seconds)"
   ]
  },
  {
   "cell_type": "markdown",
   "id": "a3644c02",
   "metadata": {},
   "source": [
    "### Get Todays date for title"
   ]
  },
  {
   "cell_type": "code",
   "execution_count": 24,
   "id": "f3a28b68",
   "metadata": {},
   "outputs": [],
   "source": [
    "# ------------------------------------------------\n",
    "# Get todays date in various formats for labeling\n",
    "# ------------------------------------------------\n",
    "todays_date_moyr, todays_date_modyyr, todays_decimal, todays_year = get_todays_date_variations()"
   ]
  },
  {
   "cell_type": "markdown",
   "id": "ee338cd4",
   "metadata": {},
   "source": [
    "### Set titles and axes labels"
   ]
  },
  {
   "cell_type": "code",
   "execution_count": 25,
   "id": "8d59f9b0",
   "metadata": {},
   "outputs": [],
   "source": [
    "xlabel = 'Year'\n",
    "ylabel = \"$\\mathregular{CO}\\\\bf{_2}$\" + \" Concentration (ppm)\"\n",
    "\n",
    "title1 = 'Merged Ice-Core Record'\n",
    "title2 = f\"Last updated {todays_date_moyr}\""
   ]
  },
  {
   "cell_type": "markdown",
   "id": "ba013eda",
   "metadata": {},
   "source": [
    "### Set yaxis min and max limits"
   ]
  },
  {
   "cell_type": "code",
   "execution_count": 26,
   "id": "fd930232",
   "metadata": {},
   "outputs": [],
   "source": [
    "ymin = 250\n",
    "ymax = 425"
   ]
  },
  {
   "cell_type": "markdown",
   "id": "a8674b15",
   "metadata": {},
   "source": [
    "### Set xaxis min and max limits\n",
    "The decimal date is the midpoint of each month for the monthly record and for the concatenated daily data from the end of the monthly data to now is at the mid day."
   ]
  },
  {
   "cell_type": "code",
   "execution_count": 27,
   "id": "9d36cd38",
   "metadata": {},
   "outputs": [],
   "source": [
    "xmin = 0\n",
    "xmax = todays_year + 2"
   ]
  },
  {
   "cell_type": "markdown",
   "id": "bff3a6fd",
   "metadata": {},
   "source": [
    "## Create plot and save"
   ]
  },
  {
   "cell_type": "code",
   "execution_count": 28,
   "id": "490f920d",
   "metadata": {},
   "outputs": [
    {
     "data": {
      "image/png": "[encoded data removed]",
      "text/plain": [
       "<Figure size 792x528 with 1 Axes>"
      ]
     },
     "metadata": {
      "needs_background": "light"
     },
     "output_type": "display_data"
    }
   ],
   "source": [
    "fig = plt.figure()\n",
    "\n",
    "ax = fig.add_subplot()\n",
    "\n",
    "\n",
    "# -------------\n",
    "# Plot the data\n",
    "# -------------\n",
    "\n",
    "ax.plot(date_merged_spline, co2_merged_spline, '-', color='black', linewidth=0.5)\n",
    "\n",
    "ax.plot(date_mlo_spo, co2_mlo_spo, 'o', color='black',\n",
    "         markersize=3.5, linewidth=1,\n",
    "         markerfacecolor='black', markeredgecolor='black', markeredgewidth=0)\n",
    "\n",
    "ax.plot(date_icecore, co2_icecore, 'o', color='black',\n",
    "         markersize=5, linewidth=1,\n",
    "         markeredgecolor='black', markeredgewidth=1, markerfacecolor='none')\n",
    "\n",
    "# -------------------\n",
    "# Set plot properties\n",
    "# -------------------\n",
    "set_website_plot_props(ax, fig, xmin, xmax, ymin, ymax, xlabel, ylabel)\n",
    "\n",
    "# ---------------\n",
    "# Add plot titles\n",
    "# ---------------\n",
    "add_plot_title(ax, title1, title2)\n",
    "\n",
    "\n",
    "# --------------------\n",
    "# Add SIO logo to plot\n",
    "# --------------------\n",
    "xpos = 0.73\n",
    "ypos = 0.18\n",
    "\n",
    "#add_sio_logo(fig, logo_file, xpos, ypos)\n",
    "\n",
    "\n",
    "# ---------------------\n",
    "# Save plot for website\n",
    "# ---------------------\n",
    "fig = plt.gcf()\n",
    "\n",
    "save_plot_for_website(fig)\n",
    "\n",
    "\n",
    "plt.show()"
   ]
  },
  {
   "cell_type": "code",
   "execution_count": null,
   "id": "20a87f6d",
   "metadata": {},
   "outputs": [],
   "source": []
  }
 ],
 "metadata": {
  "kernelspec": {
   "display_name": "Python 3.8.5 64-bit ('notebooks')",
   "language": "python",
   "name": "python3"
  },
  "language_info": {
   "codemirror_mode": {
    "name": "ipython",
    "version": 3
   },
   "file_extension": ".py",
   "mimetype": "text/x-python",
   "name": "python",
   "nbconvert_exporter": "python",
   "pygments_lexer": "ipython3",
   "version": "3.8.5"
  },
  "vscode": {
   "interpreter": {
    "hash": "756fd7f3f44ab1b408c61a336bc63dd8b2b1c2a4bc9346285fbb85e9c22b620b"
   }
  }
 },
 "nbformat": 4,
 "nbformat_minor": 5
}
