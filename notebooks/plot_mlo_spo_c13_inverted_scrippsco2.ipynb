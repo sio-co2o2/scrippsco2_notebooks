{
 "cells": [
  {
   "cell_type": "markdown",
   "metadata": {},
   "source": [
    "# Plot Mauna Loa and South Pole Isotopic C13 Ratio Inverted"
   ]
  },
  {
   "cell_type": "markdown",
   "metadata": {},
   "source": [
    "### Scripps CO2 Program\n",
    "https://scrippsco2.ucsd.edu\n",
    "\n",
    "This notebook creates pdf and png plot versions."
   ]
  },
  {
   "cell_type": "markdown",
   "metadata": {},
   "source": [
    "## Import packages"
   ]
  },
  {
   "cell_type": "code",
   "execution_count": 13,
   "metadata": {},
   "outputs": [],
   "source": [
    "import re\n",
    "import pandas as pd\n",
    "import numpy as np\n",
    "import requests\n",
    "from datetime import datetime, date, timedelta\n",
    "from dateutil.relativedelta import relativedelta\n",
    "import pathlib\n",
    "import matplotlib.image as mpimg\n",
    "import matplotlib.pyplot as plt\n",
    "from matplotlib.pyplot import figure\n",
    "from matplotlib.ticker import (MultipleLocator, AutoMinorLocator)\n",
    "from matplotlib import ticker\n",
    "import os\n",
    "from cairosvg import svg2png\n",
    "from PIL import Image\n",
    "\n",
    "%matplotlib inline"
   ]
  },
  {
   "cell_type": "markdown",
   "metadata": {},
   "source": [
    "## Set directories and file names for data,  plot, and logo"
   ]
  },
  {
   "cell_type": "code",
   "execution_count": 14,
   "metadata": {},
   "outputs": [],
   "source": [
    "# Data from scrippsco2.ucsd.edu\n",
    "isotope_dir = 'https://scrippsco2.ucsd.edu/assets/data/atmospheric/stations/flask_isotopic/monthly'\n",
    "\n",
    "# Data from bluemoon\n",
    "# isotope_dir = 'data/to_post/flask_isotopic/monthly'\n",
    "\n",
    "monthly_mlo_file = 'monthly_flask_c13_mlo.csv'\n",
    "mlo_url = f\"{isotope_dir}/{monthly_mlo_file}\"\n",
    "\n",
    "monthly_spo_file = 'monthly_flask_c13_spo.csv'\n",
    "spo_url = f\"{isotope_dir}/{monthly_spo_file}\"\n",
    "\n",
    "# Set plot directories for website graphics gallery\n",
    "plot_dir = pathlib.Path('./plots')\n",
    "plot_dir.mkdir(exist_ok=True)\n",
    "\n",
    "plot_pdf_dir = pathlib.Path(plot_dir / 'pdf')\n",
    "plot_pdf_dir.mkdir(exist_ok=True)\n",
    "\n",
    "plot_png_dir = pathlib.Path(plot_dir / 'png')\n",
    "plot_png_dir.mkdir(exist_ok=True)\n",
    "\n",
    "plot_display_dir = pathlib.Path(plot_dir / 'display')\n",
    "plot_display_dir.mkdir(exist_ok=True)\n",
    "\n",
    "plot_thumbnail_dir = pathlib.Path(plot_dir / 'thumbnails')\n",
    "plot_thumbnail_dir.mkdir(exist_ok=True)\n",
    "\n",
    "logo_dir = pathlib.Path('./images')\n",
    "logo_dir.mkdir(exist_ok=True)\n",
    "\n",
    "logo_file = logo_dir / 'ucsd_sio_logo.svg'\n",
    "\n",
    "plot_name = 'c13_inverted_mlo_spo'\n",
    "\n",
    "pdf_file = plot_pdf_dir / f'{plot_name}.pdf'\n",
    "png_file = plot_png_dir / f'{plot_name}.png'\n",
    "png_display_file = plot_display_dir / f'{plot_name}.png'\n",
    "png_thumbnail_file = plot_thumbnail_dir / f'{plot_name}.png'\n"
   ]
  },
  {
   "cell_type": "markdown",
   "metadata": {},
   "source": [
    "## Load in Data and process"
   ]
  },
  {
   "cell_type": "markdown",
   "id": "93cbab2a",
   "metadata": {},
   "source": [
    "### Functions common to all data sets"
   ]
  },
  {
   "cell_type": "markdown",
   "id": "3458f335",
   "metadata": {},
   "source": [
    "#### The data fits can extend beyond the data end points, so will remove this\n"
   ]
  },
  {
   "cell_type": "code",
   "execution_count": 15,
   "id": "7124d659",
   "metadata": {},
   "outputs": [],
   "source": [
    "def remove_endpoint_nans(df, elem):\n",
    "\n",
    "    # reset index\n",
    "    df = df.reset_index(drop=True)\n",
    "\n",
    "    # Since read in strings from the extra header lines, convert columns back to numeric values\n",
    "    df = df.apply(pd.to_numeric, errors='coerce')\n",
    "\n",
    "    # The spline fit extends past the data, and for the plot,\n",
    "    # will want both the data and spline fit to have the same endpoints\n",
    "    # Find row indices extending past data point\n",
    "\n",
    "    # Replace -99.99 with np.nan so can do the following\n",
    "    # checks to remove splines extending past endpoints\n",
    "    df = df.replace(-99.99, np.nan)\n",
    "\n",
    "    # First find the row index of the last finite value\n",
    "    last_finite_elem_index = df[elem].last_valid_index()\n",
    "\n",
    "    # Then drop rows past this row index\n",
    "    df = df.drop(df.index[(last_finite_elem_index+1):])\n",
    "\n",
    "    # Do the same for the beginning of the spline\n",
    "    # Remove any points before the first point\n",
    "    first_finite_elem_index = df[elem].first_valid_index()\n",
    "\n",
    "    # Then drop rows before this row index\n",
    "    df = df.drop(df.index[:first_finite_elem_index])\n",
    "\n",
    "    # reset index\n",
    "    df = df.reset_index(drop=True)\n",
    "\n",
    "    return df\n"
   ]
  },
  {
   "cell_type": "markdown",
   "metadata": {},
   "source": [
    "### Load in MLO data"
   ]
  },
  {
   "cell_type": "markdown",
   "metadata": {},
   "source": [
    "#### Look at the file comments to see what the columns represent"
   ]
  },
  {
   "cell_type": "code",
   "execution_count": 16,
   "metadata": {},
   "outputs": [
    {
     "name": "stdout",
     "output_type": "stream",
     "text": [
      "\" The data file below contains 10 columns.  Columns 1-4 give the dates in several redundant \"\n",
      "\" formats. Column 5 below gives monthly isotope concentrations in per-mil.  This is the     \"\n",
      "\" standard version of the data most often sought.  The monthly values have been adjusted    \"\n",
      "\" to 24:00 hours on the 15th of each month.  Column 6 gives the same data after a seasonal  \"\n",
      "\" adjustment to remove the quasi-regular seasonal cycle.  The adjustment involves           \"\n",
      "\" subtracting from the data a 4-harmonic fit with a linear gain factor.  Column 7 is a      \"\n",
      "\" smoothed version of the data generated from a stiff cubic spline function plus 4-harmonic \"\n",
      "\" functions with linear gain.  Column 8 is the same smoothed version with the seasonal      \"\n",
      "\" cycle removed.  Column 9 is identical to Column 5 except that the missing values from     \"\n",
      "\" Column 5 have been filled with values from Column 7.  Column 10 is identical to Column 6  \"\n",
      "\" except missing values have been filled with values from Column 8.  Missing values are     \"\n",
      "\" denoted by -99.99                                                                         \"\n",
      "\"                                                                                           \"\n",
      "\" CO2 concentrations are reported on the Scripps '12' Calibration scale                     \"\n",
      "\"                                                                                           \"\n"
     ]
    }
   ],
   "source": [
    "# Load from URL\n",
    "response = requests.get(mlo_url)\n",
    "file_text = response.text\n",
    "text_lines = file_text.split('\\n')\n",
    "\n",
    "# Load from a file\n",
    "# with open(mlo_url) as f:\n",
    "#     text_lines = f.readlines()\n",
    "\n",
    "# From looking at the file, the column description comments start with\n",
    "# the words 'The data file below'\n",
    "comments = [line for line in text_lines if line.startswith('\"')]\n",
    "\n",
    "search_str = 'The data file below'\n",
    "desc_line_start = [index for index, comment in enumerate(comments) if search_str in comment]\n",
    "\n",
    "if desc_line_start:\n",
    "    col_desc = comments[desc_line_start[0]:]\n",
    "    print('\\n'.join(col_desc))"
   ]
  },
  {
   "cell_type": "markdown",
   "metadata": {},
   "source": [
    "### Load in data"
   ]
  },
  {
   "cell_type": "code",
   "execution_count": 17,
   "metadata": {
    "scrolled": true
   },
   "outputs": [
    {
     "data": {
      "text/html": [
       "<div>\n",
       "<style scoped>\n",
       "    .dataframe tbody tr th:only-of-type {\n",
       "        vertical-align: middle;\n",
       "    }\n",
       "\n",
       "    .dataframe tbody tr th {\n",
       "        vertical-align: top;\n",
       "    }\n",
       "\n",
       "    .dataframe thead th {\n",
       "        text-align: right;\n",
       "    }\n",
       "</style>\n",
       "<table border=\"1\" class=\"dataframe\">\n",
       "  <thead>\n",
       "    <tr style=\"text-align: right;\">\n",
       "      <th></th>\n",
       "      <th>Yr</th>\n",
       "      <th>Mn</th>\n",
       "      <th>Date</th>\n",
       "      <th>Date.1</th>\n",
       "      <th>13C</th>\n",
       "      <th>seasonally</th>\n",
       "      <th>fit</th>\n",
       "      <th>seasonally.1</th>\n",
       "      <th>13C.1</th>\n",
       "      <th>seasonally.2</th>\n",
       "    </tr>\n",
       "  </thead>\n",
       "  <tbody>\n",
       "    <tr>\n",
       "      <th>0</th>\n",
       "      <td>NaN</td>\n",
       "      <td>NaN</td>\n",
       "      <td>NaN</td>\n",
       "      <td>NaN</td>\n",
       "      <td>NaN</td>\n",
       "      <td>adjusted</td>\n",
       "      <td>NaN</td>\n",
       "      <td>adjusted fit</td>\n",
       "      <td>filled</td>\n",
       "      <td>adjusted filled</td>\n",
       "    </tr>\n",
       "    <tr>\n",
       "      <th>1</th>\n",
       "      <td>NaN</td>\n",
       "      <td>NaN</td>\n",
       "      <td>Excel</td>\n",
       "      <td>NaN</td>\n",
       "      <td>per-mil</td>\n",
       "      <td>per-mil</td>\n",
       "      <td>per-mil</td>\n",
       "      <td>per-mil</td>\n",
       "      <td>per-mil</td>\n",
       "      <td>per-mil</td>\n",
       "    </tr>\n",
       "    <tr>\n",
       "      <th>2</th>\n",
       "      <td>1980.0</td>\n",
       "      <td>1.0</td>\n",
       "      <td>29235</td>\n",
       "      <td>1980.0410</td>\n",
       "      <td>NaN</td>\n",
       "      <td>NaN</td>\n",
       "      <td>-7.51</td>\n",
       "      <td>-7.51</td>\n",
       "      <td>-7.51</td>\n",
       "      <td>-7.51</td>\n",
       "    </tr>\n",
       "    <tr>\n",
       "      <th>3</th>\n",
       "      <td>1980.0</td>\n",
       "      <td>2.0</td>\n",
       "      <td>29266</td>\n",
       "      <td>1980.1257</td>\n",
       "      <td>-7.60</td>\n",
       "      <td>-7.55</td>\n",
       "      <td>-7.56</td>\n",
       "      <td>-7.52</td>\n",
       "      <td>-7.60</td>\n",
       "      <td>-7.55</td>\n",
       "    </tr>\n",
       "    <tr>\n",
       "      <th>4</th>\n",
       "      <td>1980.0</td>\n",
       "      <td>3.0</td>\n",
       "      <td>29295</td>\n",
       "      <td>1980.2049</td>\n",
       "      <td>-7.64</td>\n",
       "      <td>-7.55</td>\n",
       "      <td>-7.62</td>\n",
       "      <td>-7.53</td>\n",
       "      <td>-7.64</td>\n",
       "      <td>-7.55</td>\n",
       "    </tr>\n",
       "  </tbody>\n",
       "</table>\n",
       "</div>"
      ],
      "text/plain": [
       "       Yr   Mn   Date     Date.1      13C seasonally      fit  seasonally.1  \\\n",
       "0     NaN  NaN    NaN        NaN      NaN   adjusted      NaN  adjusted fit   \n",
       "1     NaN  NaN  Excel        NaN  per-mil    per-mil  per-mil       per-mil   \n",
       "2  1980.0  1.0  29235  1980.0410      NaN        NaN    -7.51         -7.51   \n",
       "3  1980.0  2.0  29266  1980.1257    -7.60      -7.55    -7.56         -7.52   \n",
       "4  1980.0  3.0  29295  1980.2049    -7.64      -7.55    -7.62         -7.53   \n",
       "\n",
       "     13C.1     seasonally.2  \n",
       "0   filled  adjusted filled  \n",
       "1  per-mil          per-mil  \n",
       "2    -7.51            -7.51  \n",
       "3    -7.60            -7.55  \n",
       "4    -7.64            -7.55  "
      ]
     },
     "execution_count": 17,
     "metadata": {},
     "output_type": "execute_result"
    }
   ],
   "source": [
    "df = pd.read_csv(mlo_url,skipinitialspace=True,comment='\"')\n",
    "df.head()"
   ]
  },
  {
   "cell_type": "markdown",
   "metadata": {},
   "source": [
    "### To plot, want the decimal date (col 4) along with CO2 (col 5) and CO2 fit (col 7)\n",
    "Due to the column headers spread over 3 lines and the top line repeating col names, pandas denotes the identical string with a subscript."
   ]
  },
  {
   "cell_type": "markdown",
   "metadata": {},
   "source": [
    "### Rename columns for Pandas and the user"
   ]
  },
  {
   "cell_type": "code",
   "execution_count": 18,
   "metadata": {},
   "outputs": [
    {
     "data": {
      "text/html": [
       "<div>\n",
       "<style scoped>\n",
       "    .dataframe tbody tr th:only-of-type {\n",
       "        vertical-align: middle;\n",
       "    }\n",
       "\n",
       "    .dataframe tbody tr th {\n",
       "        vertical-align: top;\n",
       "    }\n",
       "\n",
       "    .dataframe thead th {\n",
       "        text-align: right;\n",
       "    }\n",
       "</style>\n",
       "<table border=\"1\" class=\"dataframe\">\n",
       "  <thead>\n",
       "    <tr style=\"text-align: right;\">\n",
       "      <th></th>\n",
       "      <th>year</th>\n",
       "      <th>month</th>\n",
       "      <th>excel_date</th>\n",
       "      <th>dec_date</th>\n",
       "      <th>c13</th>\n",
       "      <th>c13_seasonal</th>\n",
       "      <th>c13_fit</th>\n",
       "      <th>c13_seasonal_fit</th>\n",
       "      <th>c13_filled</th>\n",
       "      <th>c13_seasonal_filled</th>\n",
       "    </tr>\n",
       "  </thead>\n",
       "  <tbody>\n",
       "    <tr>\n",
       "      <th>0</th>\n",
       "      <td>NaN</td>\n",
       "      <td>NaN</td>\n",
       "      <td>NaN</td>\n",
       "      <td>NaN</td>\n",
       "      <td>NaN</td>\n",
       "      <td>adjusted</td>\n",
       "      <td>NaN</td>\n",
       "      <td>adjusted fit</td>\n",
       "      <td>filled</td>\n",
       "      <td>adjusted filled</td>\n",
       "    </tr>\n",
       "    <tr>\n",
       "      <th>1</th>\n",
       "      <td>NaN</td>\n",
       "      <td>NaN</td>\n",
       "      <td>Excel</td>\n",
       "      <td>NaN</td>\n",
       "      <td>per-mil</td>\n",
       "      <td>per-mil</td>\n",
       "      <td>per-mil</td>\n",
       "      <td>per-mil</td>\n",
       "      <td>per-mil</td>\n",
       "      <td>per-mil</td>\n",
       "    </tr>\n",
       "    <tr>\n",
       "      <th>2</th>\n",
       "      <td>1980.0</td>\n",
       "      <td>1.0</td>\n",
       "      <td>29235</td>\n",
       "      <td>1980.0410</td>\n",
       "      <td>NaN</td>\n",
       "      <td>NaN</td>\n",
       "      <td>-7.51</td>\n",
       "      <td>-7.51</td>\n",
       "      <td>-7.51</td>\n",
       "      <td>-7.51</td>\n",
       "    </tr>\n",
       "    <tr>\n",
       "      <th>3</th>\n",
       "      <td>1980.0</td>\n",
       "      <td>2.0</td>\n",
       "      <td>29266</td>\n",
       "      <td>1980.1257</td>\n",
       "      <td>-7.60</td>\n",
       "      <td>-7.55</td>\n",
       "      <td>-7.56</td>\n",
       "      <td>-7.52</td>\n",
       "      <td>-7.60</td>\n",
       "      <td>-7.55</td>\n",
       "    </tr>\n",
       "    <tr>\n",
       "      <th>4</th>\n",
       "      <td>1980.0</td>\n",
       "      <td>3.0</td>\n",
       "      <td>29295</td>\n",
       "      <td>1980.2049</td>\n",
       "      <td>-7.64</td>\n",
       "      <td>-7.55</td>\n",
       "      <td>-7.62</td>\n",
       "      <td>-7.53</td>\n",
       "      <td>-7.64</td>\n",
       "      <td>-7.55</td>\n",
       "    </tr>\n",
       "  </tbody>\n",
       "</table>\n",
       "</div>"
      ],
      "text/plain": [
       "     year  month excel_date   dec_date      c13 c13_seasonal  c13_fit  \\\n",
       "0     NaN    NaN        NaN        NaN      NaN     adjusted      NaN   \n",
       "1     NaN    NaN      Excel        NaN  per-mil      per-mil  per-mil   \n",
       "2  1980.0    1.0      29235  1980.0410      NaN          NaN    -7.51   \n",
       "3  1980.0    2.0      29266  1980.1257    -7.60        -7.55    -7.56   \n",
       "4  1980.0    3.0      29295  1980.2049    -7.64        -7.55    -7.62   \n",
       "\n",
       "  c13_seasonal_fit c13_filled c13_seasonal_filled  \n",
       "0     adjusted fit     filled     adjusted filled  \n",
       "1          per-mil    per-mil             per-mil  \n",
       "2            -7.51      -7.51               -7.51  \n",
       "3            -7.52      -7.60               -7.55  \n",
       "4            -7.53      -7.64               -7.55  "
      ]
     },
     "execution_count": 18,
     "metadata": {},
     "output_type": "execute_result"
    }
   ],
   "source": [
    "col_mapping ={df.columns[0]:'year', df.columns[1]: 'month', df.columns[2]: 'excel_date', \n",
    "              df.columns[3]: 'dec_date', df.columns[4]: 'c13', df.columns[5]: 'c13_seasonal',\n",
    "              df.columns[6]: 'c13_fit', df.columns[7]: 'c13_seasonal_fit', \n",
    "              df.columns[8]:'c13_filled', df.columns[9]: 'c13_seasonal_filled'}\n",
    "df = df.rename(columns=col_mapping)\n",
    "df.head()"
   ]
  },
  {
   "cell_type": "markdown",
   "metadata": {},
   "source": [
    "### Remove the first two column descriptor lines\n",
    "and since Pandas read in the data with a string in a column, reformat the columns as a number"
   ]
  },
  {
   "cell_type": "code",
   "execution_count": 19,
   "metadata": {},
   "outputs": [],
   "source": [
    "df = df.iloc[2:]\n",
    "df = df.apply(pd.to_numeric)"
   ]
  },
  {
   "cell_type": "markdown",
   "id": "1af02450",
   "metadata": {},
   "source": [
    "### Remove fits beyond data end points"
   ]
  },
  {
   "cell_type": "code",
   "execution_count": 20,
   "id": "302a52c1",
   "metadata": {},
   "outputs": [],
   "source": [
    "df = remove_endpoint_nans(df, 'c13')\n"
   ]
  },
  {
   "cell_type": "markdown",
   "metadata": {},
   "source": [
    "### Break into 2 dataframes. One for CO2 and one for the CO2 fit (spline)\n",
    "The decimal date is the midpoint of each month for the monthly record"
   ]
  },
  {
   "cell_type": "code",
   "execution_count": 21,
   "metadata": {},
   "outputs": [],
   "source": [
    "df_c13 = df[['dec_date', 'c13']].copy()\n",
    "df_c13_spline = df[['dec_date', 'c13_fit']].copy()"
   ]
  },
  {
   "cell_type": "markdown",
   "metadata": {},
   "source": [
    "### Remove rows with fill values -99.99 or NaN"
   ]
  },
  {
   "cell_type": "code",
   "execution_count": 22,
   "metadata": {
    "scrolled": true
   },
   "outputs": [],
   "source": [
    "df_c13 = df_c13[df_c13['c13'] != -99.99]\n",
    "df_c13_spline = df_c13_spline[df_c13_spline['c13_fit'] != -99.99]\n",
    "\n",
    "df_c13 = df_c13.dropna()\n",
    "df_c13_spline = df_c13_spline.dropna()"
   ]
  },
  {
   "cell_type": "markdown",
   "metadata": {},
   "source": [
    "### Convert to numpy arrays for plotting"
   ]
  },
  {
   "cell_type": "code",
   "execution_count": 23,
   "metadata": {},
   "outputs": [],
   "source": [
    "mlo_date_c13 = df_c13['dec_date'].to_numpy()\n",
    "mlo_c13 = df_c13['c13'].to_numpy()\n",
    "mlo_date_c13_spline = df_c13_spline['dec_date'].to_numpy()\n",
    "mlo_c13_spline = df_c13_spline['c13_fit'].to_numpy()"
   ]
  },
  {
   "cell_type": "markdown",
   "metadata": {},
   "source": [
    "### Load in SPO data"
   ]
  },
  {
   "cell_type": "markdown",
   "metadata": {},
   "source": [
    "#### Look at file comments to find what the columns represent"
   ]
  },
  {
   "cell_type": "code",
   "execution_count": 24,
   "metadata": {},
   "outputs": [
    {
     "name": "stdout",
     "output_type": "stream",
     "text": [
      "\" The data file below contains 10 columns.  Columns 1-4 give the dates in several redundant \" \" formats. Column 5 below gives monthly isotope concentrations in per-mil.  This is the     \" \" standard version of the data most often sought.  The monthly values have been adjusted    \" \" to 24:00 hours on the 15th of each month.  Column 6 gives the same data after a seasonal  \" \" adjustment to remove the quasi-regular seasonal cycle.  The adjustment involves           \" \" subtracting from the data a 4-harmonic fit with a linear gain factor.  Column 7 is a      \" \" smoothed version of the data generated from a stiff cubic spline function plus 4-harmonic \" \" functions with linear gain.  Column 8 is the same smoothed version with the seasonal      \" \" cycle removed.  Column 9 is identical to Column 5 except that the missing values from     \" \" Column 5 have been filled with values from Column 7.  Column 10 is identical to Column 6  \" \" except missing values have been filled with values from Column 8.  Missing values are     \" \" denoted by -99.99                                                                         \" \"                                                                                           \" \" CO2 concentrations are reported on the Scripps '12' Calibration scale                     \" \"                                                                                           \"\n"
     ]
    }
   ],
   "source": [
    "# Load from URL\n",
    "response = requests.get(spo_url)\n",
    "file_text = response.text\n",
    "text_lines = file_text.split('\\n')\n",
    "\n",
    "# Load from a file\n",
    "# with open(spo_url) as f:\n",
    "#     text_lines = f.readlines()\n",
    "\n",
    "# From looking at the file, the column description comments start with\n",
    "# the words 'The data file below'\n",
    "comments = [line for line in text_lines if line.startswith('\"')]\n",
    "\n",
    "search_str = 'The data file below'\n",
    "desc_line_start = [index for index, comment in enumerate(comments) if search_str in comment]\n",
    "\n",
    "if desc_line_start:\n",
    "    col_desc = comments[desc_line_start[0]:]\n",
    "    print(' '.join(col_desc))"
   ]
  },
  {
   "cell_type": "markdown",
   "metadata": {},
   "source": [
    "### Load in data"
   ]
  },
  {
   "cell_type": "code",
   "execution_count": 25,
   "metadata": {
    "scrolled": true
   },
   "outputs": [
    {
     "data": {
      "text/html": [
       "<div>\n",
       "<style scoped>\n",
       "    .dataframe tbody tr th:only-of-type {\n",
       "        vertical-align: middle;\n",
       "    }\n",
       "\n",
       "    .dataframe tbody tr th {\n",
       "        vertical-align: top;\n",
       "    }\n",
       "\n",
       "    .dataframe thead th {\n",
       "        text-align: right;\n",
       "    }\n",
       "</style>\n",
       "<table border=\"1\" class=\"dataframe\">\n",
       "  <thead>\n",
       "    <tr style=\"text-align: right;\">\n",
       "      <th></th>\n",
       "      <th>Yr</th>\n",
       "      <th>Mn</th>\n",
       "      <th>Date</th>\n",
       "      <th>Date.1</th>\n",
       "      <th>13C</th>\n",
       "      <th>seasonally</th>\n",
       "      <th>fit</th>\n",
       "      <th>seasonally.1</th>\n",
       "      <th>13C.1</th>\n",
       "      <th>seasonally.2</th>\n",
       "    </tr>\n",
       "  </thead>\n",
       "  <tbody>\n",
       "    <tr>\n",
       "      <th>0</th>\n",
       "      <td>NaN</td>\n",
       "      <td>NaN</td>\n",
       "      <td>NaN</td>\n",
       "      <td>NaN</td>\n",
       "      <td>NaN</td>\n",
       "      <td>adjusted</td>\n",
       "      <td>NaN</td>\n",
       "      <td>adjusted fit</td>\n",
       "      <td>filled</td>\n",
       "      <td>adjusted filled</td>\n",
       "    </tr>\n",
       "    <tr>\n",
       "      <th>1</th>\n",
       "      <td>NaN</td>\n",
       "      <td>NaN</td>\n",
       "      <td>Excel</td>\n",
       "      <td>NaN</td>\n",
       "      <td>per-mil</td>\n",
       "      <td>per-mil</td>\n",
       "      <td>per-mil</td>\n",
       "      <td>per-mil</td>\n",
       "      <td>per-mil</td>\n",
       "      <td>per-mil</td>\n",
       "    </tr>\n",
       "    <tr>\n",
       "      <th>2</th>\n",
       "      <td>1977.0</td>\n",
       "      <td>1.0</td>\n",
       "      <td>28140</td>\n",
       "      <td>1977.0411</td>\n",
       "      <td>NaN</td>\n",
       "      <td>NaN</td>\n",
       "      <td>-7.51</td>\n",
       "      <td>-7.50</td>\n",
       "      <td>-7.51</td>\n",
       "      <td>-7.50</td>\n",
       "    </tr>\n",
       "    <tr>\n",
       "      <th>3</th>\n",
       "      <td>1977.0</td>\n",
       "      <td>2.0</td>\n",
       "      <td>28171</td>\n",
       "      <td>1977.1260</td>\n",
       "      <td>NaN</td>\n",
       "      <td>NaN</td>\n",
       "      <td>-7.50</td>\n",
       "      <td>-7.51</td>\n",
       "      <td>-7.50</td>\n",
       "      <td>-7.51</td>\n",
       "    </tr>\n",
       "    <tr>\n",
       "      <th>4</th>\n",
       "      <td>1977.0</td>\n",
       "      <td>3.0</td>\n",
       "      <td>28199</td>\n",
       "      <td>1977.2027</td>\n",
       "      <td>-7.49</td>\n",
       "      <td>-7.50</td>\n",
       "      <td>-7.49</td>\n",
       "      <td>-7.51</td>\n",
       "      <td>-7.49</td>\n",
       "      <td>-7.50</td>\n",
       "    </tr>\n",
       "  </tbody>\n",
       "</table>\n",
       "</div>"
      ],
      "text/plain": [
       "       Yr   Mn   Date     Date.1      13C seasonally      fit  seasonally.1  \\\n",
       "0     NaN  NaN    NaN        NaN      NaN   adjusted      NaN  adjusted fit   \n",
       "1     NaN  NaN  Excel        NaN  per-mil    per-mil  per-mil       per-mil   \n",
       "2  1977.0  1.0  28140  1977.0411      NaN        NaN    -7.51         -7.50   \n",
       "3  1977.0  2.0  28171  1977.1260      NaN        NaN    -7.50         -7.51   \n",
       "4  1977.0  3.0  28199  1977.2027    -7.49      -7.50    -7.49         -7.51   \n",
       "\n",
       "     13C.1     seasonally.2  \n",
       "0   filled  adjusted filled  \n",
       "1  per-mil          per-mil  \n",
       "2    -7.51            -7.50  \n",
       "3    -7.50            -7.51  \n",
       "4    -7.49            -7.50  "
      ]
     },
     "execution_count": 25,
     "metadata": {},
     "output_type": "execute_result"
    }
   ],
   "source": [
    "df = pd.read_csv(spo_url,skipinitialspace=True,comment='\"')\n",
    "df.head()"
   ]
  },
  {
   "cell_type": "markdown",
   "metadata": {},
   "source": [
    "### To plot, want the decimal date (col 3) along with CO2 (col 5) and CO2 fit (col 7)\n",
    "Due to the column headers spread over 3 lines and the top line repeating col names, pandas denotes the identical string with a subscript."
   ]
  },
  {
   "cell_type": "markdown",
   "metadata": {},
   "source": [
    "### Rename columns for Pandas and the user"
   ]
  },
  {
   "cell_type": "code",
   "execution_count": 26,
   "metadata": {},
   "outputs": [
    {
     "data": {
      "text/html": [
       "<div>\n",
       "<style scoped>\n",
       "    .dataframe tbody tr th:only-of-type {\n",
       "        vertical-align: middle;\n",
       "    }\n",
       "\n",
       "    .dataframe tbody tr th {\n",
       "        vertical-align: top;\n",
       "    }\n",
       "\n",
       "    .dataframe thead th {\n",
       "        text-align: right;\n",
       "    }\n",
       "</style>\n",
       "<table border=\"1\" class=\"dataframe\">\n",
       "  <thead>\n",
       "    <tr style=\"text-align: right;\">\n",
       "      <th></th>\n",
       "      <th>year</th>\n",
       "      <th>month</th>\n",
       "      <th>excel_date</th>\n",
       "      <th>dec_date</th>\n",
       "      <th>c13</th>\n",
       "      <th>c13_seasonal</th>\n",
       "      <th>c13_fit</th>\n",
       "      <th>c13_seasonal_fit</th>\n",
       "      <th>c13_filled</th>\n",
       "      <th>c13_seasonal_filled</th>\n",
       "    </tr>\n",
       "  </thead>\n",
       "  <tbody>\n",
       "    <tr>\n",
       "      <th>0</th>\n",
       "      <td>NaN</td>\n",
       "      <td>NaN</td>\n",
       "      <td>NaN</td>\n",
       "      <td>NaN</td>\n",
       "      <td>NaN</td>\n",
       "      <td>adjusted</td>\n",
       "      <td>NaN</td>\n",
       "      <td>adjusted fit</td>\n",
       "      <td>filled</td>\n",
       "      <td>adjusted filled</td>\n",
       "    </tr>\n",
       "    <tr>\n",
       "      <th>1</th>\n",
       "      <td>NaN</td>\n",
       "      <td>NaN</td>\n",
       "      <td>Excel</td>\n",
       "      <td>NaN</td>\n",
       "      <td>per-mil</td>\n",
       "      <td>per-mil</td>\n",
       "      <td>per-mil</td>\n",
       "      <td>per-mil</td>\n",
       "      <td>per-mil</td>\n",
       "      <td>per-mil</td>\n",
       "    </tr>\n",
       "    <tr>\n",
       "      <th>2</th>\n",
       "      <td>1977.0</td>\n",
       "      <td>1.0</td>\n",
       "      <td>28140</td>\n",
       "      <td>1977.0411</td>\n",
       "      <td>NaN</td>\n",
       "      <td>NaN</td>\n",
       "      <td>-7.51</td>\n",
       "      <td>-7.50</td>\n",
       "      <td>-7.51</td>\n",
       "      <td>-7.50</td>\n",
       "    </tr>\n",
       "    <tr>\n",
       "      <th>3</th>\n",
       "      <td>1977.0</td>\n",
       "      <td>2.0</td>\n",
       "      <td>28171</td>\n",
       "      <td>1977.1260</td>\n",
       "      <td>NaN</td>\n",
       "      <td>NaN</td>\n",
       "      <td>-7.50</td>\n",
       "      <td>-7.51</td>\n",
       "      <td>-7.50</td>\n",
       "      <td>-7.51</td>\n",
       "    </tr>\n",
       "    <tr>\n",
       "      <th>4</th>\n",
       "      <td>1977.0</td>\n",
       "      <td>3.0</td>\n",
       "      <td>28199</td>\n",
       "      <td>1977.2027</td>\n",
       "      <td>-7.49</td>\n",
       "      <td>-7.50</td>\n",
       "      <td>-7.49</td>\n",
       "      <td>-7.51</td>\n",
       "      <td>-7.49</td>\n",
       "      <td>-7.50</td>\n",
       "    </tr>\n",
       "  </tbody>\n",
       "</table>\n",
       "</div>"
      ],
      "text/plain": [
       "     year  month excel_date   dec_date      c13 c13_seasonal  c13_fit  \\\n",
       "0     NaN    NaN        NaN        NaN      NaN     adjusted      NaN   \n",
       "1     NaN    NaN      Excel        NaN  per-mil      per-mil  per-mil   \n",
       "2  1977.0    1.0      28140  1977.0411      NaN          NaN    -7.51   \n",
       "3  1977.0    2.0      28171  1977.1260      NaN          NaN    -7.50   \n",
       "4  1977.0    3.0      28199  1977.2027    -7.49        -7.50    -7.49   \n",
       "\n",
       "  c13_seasonal_fit c13_filled c13_seasonal_filled  \n",
       "0     adjusted fit     filled     adjusted filled  \n",
       "1          per-mil    per-mil             per-mil  \n",
       "2            -7.50      -7.51               -7.50  \n",
       "3            -7.51      -7.50               -7.51  \n",
       "4            -7.51      -7.49               -7.50  "
      ]
     },
     "execution_count": 26,
     "metadata": {},
     "output_type": "execute_result"
    }
   ],
   "source": [
    "col_mapping ={df.columns[0]:'year', df.columns[1]: 'month', df.columns[2]: 'excel_date', \n",
    "              df.columns[3]: 'dec_date', df.columns[4]: 'c13', df.columns[5]: 'c13_seasonal',\n",
    "              df.columns[6]: 'c13_fit', df.columns[7]: 'c13_seasonal_fit', \n",
    "              df.columns[8]:'c13_filled', df.columns[9]: 'c13_seasonal_filled'}\n",
    "df = df.rename(columns=col_mapping)\n",
    "df.head()"
   ]
  },
  {
   "cell_type": "markdown",
   "metadata": {},
   "source": [
    "### Remove the first two column descriptor lines\n",
    "and since Pandas read in the data with a string in a column, reformat the columns as a number"
   ]
  },
  {
   "cell_type": "code",
   "execution_count": 27,
   "metadata": {},
   "outputs": [],
   "source": [
    "df = df.iloc[2:]\n",
    "df = df.apply(pd.to_numeric)"
   ]
  },
  {
   "cell_type": "markdown",
   "id": "8fc5d1b9",
   "metadata": {},
   "source": [
    "### Remove fits beyond data end points"
   ]
  },
  {
   "cell_type": "code",
   "execution_count": 28,
   "id": "bd4bd831",
   "metadata": {},
   "outputs": [],
   "source": [
    "df = remove_endpoint_nans(df, 'c13')\n"
   ]
  },
  {
   "cell_type": "markdown",
   "metadata": {},
   "source": [
    "### Break into 2 dataframes. One for CO2 and one for the CO2 fit (spline)\n",
    "The decimal date is the midpoint of each month for the monthly record"
   ]
  },
  {
   "cell_type": "code",
   "execution_count": 29,
   "metadata": {},
   "outputs": [],
   "source": [
    "df_c13 = df[['dec_date', 'c13']].copy()\n",
    "df_c13_spline = df[['dec_date', 'c13_fit']].copy()"
   ]
  },
  {
   "cell_type": "markdown",
   "metadata": {},
   "source": [
    "### Remove rows with fill values -99.99 or NaN"
   ]
  },
  {
   "cell_type": "code",
   "execution_count": 30,
   "metadata": {
    "scrolled": true
   },
   "outputs": [],
   "source": [
    "df_c13 = df_c13[df_c13['c13'] != -99.99]\n",
    "df_c13_spline = df_c13_spline[df_c13_spline['c13_fit'] != -99.99]\n",
    "\n",
    "df_c13 = df_c13.dropna()\n",
    "df_c13_spline = df_c13_spline.dropna()"
   ]
  },
  {
   "cell_type": "markdown",
   "metadata": {},
   "source": [
    "### Convert to numpy arrays for plotting"
   ]
  },
  {
   "cell_type": "code",
   "execution_count": 31,
   "metadata": {},
   "outputs": [],
   "source": [
    "spo_date_c13 = df_c13['dec_date'].to_numpy()\n",
    "spo_c13 = df_c13['c13'].to_numpy()\n",
    "spo_date_c13_spline = df_c13_spline['dec_date'].to_numpy()\n",
    "spo_c13_spline = df_c13_spline['c13_fit'].to_numpy()"
   ]
  },
  {
   "cell_type": "markdown",
   "metadata": {},
   "source": [
    "## Define plot functions"
   ]
  },
  {
   "cell_type": "code",
   "execution_count": 32,
   "metadata": {},
   "outputs": [],
   "source": [
    "def set_matplotlib_properties():\n",
    "    \n",
    "    # Set default properties for matplotlib\n",
    "    \n",
    "    # Reset rcparams in case modified defaults in another notebook during same session \n",
    "    plt.rcParams.update(plt.rcParamsDefault)\n",
    "\n",
    "    plt.rcParams.update({'axes.linewidth':1.5})\n",
    "    \n",
    "    plt.rcParams.update({\n",
    "        \"text.usetex\": False,\n",
    "        \"font.family\": \"sans-serif\",\n",
    "        \"font.weight\":  \"normal\",\n",
    "        \"font.sans-serif\": [\"Arial\", \"Tahoma\", \"Helvetica\",\"FreeSans\", \"NimbusSans\", \"LiberationSans\",\"DejaVu Sans\"],\n",
    "        \"mathtext.default\":'regular',\n",
    "        \"mathtext.fontset\": \"dejavusans\"\n",
    "    })\n",
    "        \n",
    "    # http://phyletica.org/matplotlib-fonts/\n",
    "    # This causes matplotlib to use Type 42 (a.k.a. TrueType) fonts \n",
    "    # for PostScript and PDF files. This allows you to avoid Type 3 fonts.\n",
    "    # Turning on usetex also works\n",
    "    # Needed on Ubuntu for pdf fonts \n",
    "    plt.rcParams.update({\n",
    "      'pdf.fonttype': 42,\n",
    "        'ps.fonttype': 42 \n",
    "    })"
   ]
  },
  {
   "cell_type": "code",
   "execution_count": 33,
   "metadata": {},
   "outputs": [],
   "source": [
    "def set_website_plot_props(ax, fig, xmin, xmax, ymin, ymax, xlabel, ylabel):\n",
    "\n",
    "\n",
    "    # ------------------------------------\n",
    "    # Set attributes to use for matplotlib\n",
    "    # ------------------------------------\n",
    "    \n",
    "    set_matplotlib_properties()\n",
    "\n",
    "\n",
    "    # ---------------------------------\n",
    "    # Plot properties for website plots\n",
    "    # ---------------------------------\n",
    "    \n",
    "    # Allow room at top for the titles\n",
    "    fig.subplots_adjust(top=0.85)\n",
    "\n",
    "    # invert y axis\n",
    "    ax.invert_yaxis()\n",
    "\n",
    "    ax.tick_params(which='both', bottom=True, top=True, left=True, right=True)\n",
    "\n",
    "    ax.tick_params(axis='x', labelsize=14)\n",
    "    ax.tick_params(axis='y', labelsize=16)\n",
    "\n",
    "    ax.tick_params(axis='x', which='major', direction='in', length=8, width=1)\n",
    "    ax.tick_params(axis='y', which='major', direction='in', length=8, width=1)\n",
    "\n",
    "    tick_spacing = 5\n",
    "    ax.xaxis.set_major_locator(ticker.MultipleLocator(tick_spacing))\n",
    "    \n",
    "    tick_spacing = 0.1\n",
    "    ax.yaxis.set_major_locator(ticker.MultipleLocator(tick_spacing))\n",
    "    \n",
    "    # Display every other y major tick label\n",
    "    for label in ax.yaxis.get_ticklabels()[::2]:\n",
    "        label.set_visible(False)\n",
    "\n",
    "\n",
    "    # Don't display first year since runs into y axis numbers\n",
    "    # xtick labels can start before xmin, so set all before and\n",
    "    # including xmin to not be visible\n",
    "    xticks_locs = ax.get_xticks()\n",
    "    xtick_labels = ax.xaxis.get_ticklabels()\n",
    "    for index, loc in enumerate(xticks_locs):\n",
    "        if loc <= xmin:\n",
    "            xtick_labels[index].set_visible(False)\n",
    "\n",
    "    labels = ax.get_xticklabels() + ax.get_yticklabels()\n",
    "    for label in labels: \n",
    "        label.set_fontweight('bold')\n",
    "\n",
    "    tick_length = 5\n",
    "    ax.tick_params(axis='x', which='minor', direction='in', length=tick_length)\n",
    "          \n",
    "    ax.xaxis.set_minor_locator(AutoMinorLocator(5))\n",
    "     \n",
    "    ax.set_xlabel(xlabel, fontweight='bold', fontsize=21, labelpad=5)\n",
    "    ax.set_ylabel(ylabel, fontweight='bold', fontsize=21, labelpad=8)\n",
    "    \n",
    "    ax.set_xlim(xmin, xmax)\n",
    "    ax.set_ylim(ymin, ymax)"
   ]
  },
  {
   "cell_type": "code",
   "execution_count": 34,
   "metadata": {},
   "outputs": [],
   "source": [
    "def add_plot_title(ax, title1, title2, title3):\n",
    "\n",
    "    ax.annotate(title1, xy=(0, 1.18), xycoords='axes fraction', fontsize=21,\n",
    "                horizontalalignment='left', verticalalignment='top', fontweight=\"bold\")\n",
    "    ax.annotate(title2, xy=(0, 1.12), xycoords='axes fraction', fontsize=21,\n",
    "                horizontalalignment='left', verticalalignment='top', fontweight=\"bold\")\n",
    "     \n",
    "    ax.annotate(title3, xy=(0, 1.05), xycoords='axes fraction', fontsize=12,\n",
    "                horizontalalignment='left', verticalalignment='top', fontweight=\"normal\")"
   ]
  },
  {
   "cell_type": "code",
   "execution_count": 35,
   "metadata": {},
   "outputs": [],
   "source": [
    "def add_sio_logo(fig, logo_file, xpos, ypos):\n",
    "\n",
    "    logo_path = str(logo_file.resolve())\n",
    "\n",
    "    # Convert the logo svg file to a png file with the\n",
    "    # given scale and dpi\n",
    "    logo_png = 'logo.png'\n",
    "    svg2png(url=logo_path, write_to=logo_png, scale=10, dpi=600)\n",
    "\n",
    "    logo = mpimg.imread(logo_png)\n",
    "\n",
    "    fig.add_axes([xpos, ypos, 0.2, 0.2], anchor='SE', zorder=1)\n",
    "\n",
    "    plt.imshow(logo)\n",
    "    plt.axis('off')\n",
    "\n",
    "    # Delete the logo png version\n",
    "    os.remove(logo_png)\n"
   ]
  },
  {
   "cell_type": "code",
   "execution_count": 36,
   "metadata": {},
   "outputs": [],
   "source": [
    "def save_plot_for_website(fig):\n",
    "\n",
    "    fig_width, fig_height = fig.get_size_inches()\n",
    "\n",
    "    # For pdf\n",
    "    width_in = 11\n",
    "    #height_in = 8.5\n",
    "    height_in = (fig_height/fig_width) * width_in\n",
    "\n",
    "    fig.set_size_inches(width_in, height_in)\n",
    "\n",
    "    plt.subplots_adjust(left=0.109, right=0.95, top=0.85, bottom=0.15)\n",
    "\n",
    "    # Save to a high dpi so that logo png file has a high resolution\n",
    "    fig.savefig(pdf_file, facecolor='w', edgecolor='w',\n",
    "                orientation='landscape', format=None,\n",
    "                transparent=False, bbox_inches='tight', dpi=600)\n",
    "\n",
    "    # Save png version\n",
    "    png_dpi = 600\n",
    "\n",
    "    fig.savefig(png_file, facecolor='w', edgecolor='w',\n",
    "                orientation='landscape', dpi=png_dpi, bbox_inches='tight')\n",
    "\n",
    "    # For display png\n",
    "    # width = 1200px\n",
    "\n",
    "    # Now resize the image\n",
    "    img = Image.open(png_file)\n",
    "    img_width, img_height = img.size\n",
    "\n",
    "    width_px = 1200\n",
    "    img_scale = (width_px / img_width)\n",
    "    height_px = int((float(img_height) * float(img_scale)))\n",
    "\n",
    "    img = img.resize((width_px, height_px), Image.ANTIALIAS)\n",
    "    img.save(png_display_file)\n",
    "\n",
    "    # For thumbail png\n",
    "    # width = 250px\n",
    "\n",
    "    # Now resize the image\n",
    "    img = Image.open(png_file)\n",
    "    img_width, img_height = img.size\n",
    "\n",
    "    width_px = 250\n",
    "    img_scale = (width_px / img_width)\n",
    "    height_px = int((float(img_height) * float(img_scale)))\n",
    "\n",
    "    img = img.resize((width_px, height_px), Image.ANTIALIAS)\n",
    "    img.save(png_thumbnail_file)\n"
   ]
  },
  {
   "cell_type": "markdown",
   "metadata": {},
   "source": [
    "## Set plot limits and labeling"
   ]
  },
  {
   "cell_type": "markdown",
   "metadata": {},
   "source": [
    "### Functions to convert dates into various formats\n",
    "For plot limits and labeling"
   ]
  },
  {
   "cell_type": "code",
   "execution_count": 37,
   "metadata": {},
   "outputs": [],
   "source": [
    "# Function to convert datetime to a float\n",
    "def dt2t(adatetime):\n",
    "    \"\"\"\n",
    "    Convert adatetime into a float. The integer part of the float should\n",
    "    represent the year.\n",
    "    Order should be preserved. If adate<bdate, then d2t(adate)<d2t(bdate)\n",
    "    time distances should be preserved: If bdate-adate=ddate-cdate then\n",
    "    dt2t(bdate)-dt2t(adate) = dt2t(ddate)-dt2t(cdate)\n",
    "    \"\"\"\n",
    "    year = adatetime.year\n",
    "    boy = datetime(year, 1, 1)\n",
    "    eoy = datetime(year + 1, 1, 1)\n",
    "    return year + ((adatetime - boy).total_seconds() / ((eoy - boy).total_seconds()))"
   ]
  },
  {
   "cell_type": "code",
   "execution_count": 38,
   "metadata": {},
   "outputs": [],
   "source": [
    "def get_todays_date_variations():\n",
    "    \n",
    "    now = datetime.now()\n",
    "    todays_decimal =  dt2t(now)\n",
    "    \n",
    "    today = date.today()\n",
    "\n",
    "    todays_day = today.day\n",
    "    todays_month = today.strftime(\"%B\")\n",
    "    todays_year = today.year\n",
    "    todays_date_moyr = today.strftime(\"%B %Y\")\n",
    "    todays_date_modyyr = f\"{todays_month} {todays_day}, {todays_year}\"\n",
    "\n",
    "    return todays_date_moyr, todays_date_modyyr, todays_decimal, todays_year"
   ]
  },
  {
   "cell_type": "code",
   "execution_count": 39,
   "metadata": {},
   "outputs": [],
   "source": [
    "#  https://stackoverflow.com/questions/19305991/convert-fractional-years-to-a-real-date-in-python\n",
    "def t2dt(atime):\n",
    "    \"\"\"\n",
    "    Convert atime (a float) to DT.datetime\n",
    "    This is the inverse of dt2t.\n",
    "    assert dt2t(t2dt(atime)) == atime\n",
    "    \"\"\"\n",
    "    year = int(atime)\n",
    "    remainder = atime - year\n",
    "    boy = datetime(year, 1, 1)\n",
    "    eoy = datetime(year + 1, 1, 1)\n",
    "    seconds = remainder * (eoy - boy).total_seconds()\n",
    "    return boy + timedelta(seconds=seconds)"
   ]
  },
  {
   "cell_type": "code",
   "execution_count": 40,
   "metadata": {},
   "outputs": [],
   "source": [
    "def get_data_end_date(date_data):\n",
    "    last_date = np.max(date_data)\n",
    "    last_date_datetime = t2dt(last_date)\n",
    "    \n",
    "    # Convert date format to month_name day, year\n",
    "    day = last_date_datetime.day\n",
    "    month = last_date_datetime.strftime(\"%B\")\n",
    "    year = last_date_datetime.year\n",
    "    date_modyyr = f\"{month} {day}, {year}\"\n",
    "    return date_modyyr"
   ]
  },
  {
   "cell_type": "markdown",
   "metadata": {},
   "source": [
    "### Get Todays date for title"
   ]
  },
  {
   "cell_type": "code",
   "execution_count": 41,
   "metadata": {},
   "outputs": [],
   "source": [
    "# ------------------------------------------------\n",
    "# Get todays date in various formats for labeling\n",
    "# ------------------------------------------------\n",
    "todays_date_moyr, todays_date_modyyr, todays_decimal, todays_year = get_todays_date_variations()"
   ]
  },
  {
   "cell_type": "markdown",
   "metadata": {},
   "source": [
    "### Set titles and axes labels"
   ]
  },
  {
   "cell_type": "code",
   "execution_count": 42,
   "metadata": {},
   "outputs": [],
   "source": [
    "xlabel = 'Year'\n",
    "ylabel = \"$\\delta^{13}$\" + \"C (per mil)\"\n",
    "\n",
    "title1 = 'Mauna Loa Observatory, Hawaii and South Pole, Antarctica'\n",
    "title2 = 'Monthly Average ' + \"$\\delta^{13}$\" + \"C Trends\"\n",
    "title3 = \"Data from Scripps \" + \"$CO\\mathregular{_2}$\" + f\" Program   Last updated {todays_date_moyr}\""
   ]
  },
  {
   "cell_type": "markdown",
   "metadata": {},
   "source": [
    "### Set yaxis min and max limits"
   ]
  },
  {
   "cell_type": "code",
   "execution_count": 43,
   "metadata": {},
   "outputs": [],
   "source": [
    "# Since plot is inverted on the yaxis, ymin refers to bottom of yaxis\n",
    "ymin = -7.3\n",
    "ymax = -8.9"
   ]
  },
  {
   "cell_type": "markdown",
   "metadata": {},
   "source": [
    "### Set xaxis min and max limits\n",
    "The decimal date is the midpoint of each month for the monthly record and for the concatenated daily data from the end of the monthly data to now is at the mid day."
   ]
  },
  {
   "cell_type": "code",
   "execution_count": 44,
   "metadata": {},
   "outputs": [],
   "source": [
    "xmin = 1975\n",
    "xmax = todays_year + 2"
   ]
  },
  {
   "cell_type": "markdown",
   "metadata": {},
   "source": [
    "## Create plot and save"
   ]
  },
  {
   "cell_type": "code",
   "execution_count": 45,
   "metadata": {
    "scrolled": false
   },
   "outputs": [
    {
     "data": {
      "image/png": "[encoded data removed]",
      "text/plain": [
       "<Figure size 792x528 with 2 Axes>"
      ]
     },
     "metadata": {
      "needs_background": "light"
     },
     "output_type": "display_data"
    }
   ],
   "source": [
    "fig = plt.figure()\n",
    "\n",
    "ax = plt.axes([0.11, 0.12, 0.83, 0.54])\n",
    "\n",
    "# -------------\n",
    "# Plot the data\n",
    "# -------------\n",
    "\n",
    "ax.plot(mlo_date_c13, mlo_c13, 'o', color='black',markersize=3.5, \n",
    "         markerfacecolor='black', markeredgecolor='black', markeredgewidth=0)\n",
    "\n",
    "ax.plot(mlo_date_c13_spline, mlo_c13_spline, '-', color='black', linewidth=0.5)\n",
    "\n",
    "\n",
    "red_color = (0.6, 0, 0)\n",
    "\n",
    "ax.plot(spo_date_c13, spo_c13, 'o', color=red_color,markersize=3.5, \n",
    "         markerfacecolor=red_color, markeredgecolor=red_color, markeredgewidth=0)\n",
    "\n",
    "ax.plot(spo_date_c13_spline, spo_c13_spline, '-', color=red_color, linewidth=0.5)\n",
    "\n",
    "# -------------------\n",
    "# Set plot properties\n",
    "# -------------------\n",
    "set_website_plot_props(ax, fig, xmin, xmax, ymin, ymax, xlabel, ylabel)\n",
    "\n",
    "# ---------------\n",
    "# Add plot titles\n",
    "# ---------------   \n",
    "add_plot_title(ax, title1, title2, title3)\n",
    "\n",
    "# --------------------\n",
    "# Add SIO logo to plot\n",
    "# --------------------\n",
    "xpos = 0.7\n",
    "ypos = 0.18\n",
    "\n",
    "add_sio_logo(fig, logo_file, xpos, ypos)\n",
    "\n",
    "\n",
    "# ---------------------\n",
    "# Save plot for website\n",
    "# ---------------------\n",
    "fig = plt.gcf()\n",
    "\n",
    "save_plot_for_website(fig)\n",
    "\n",
    "\n",
    "plt.show()"
   ]
  },
  {
   "cell_type": "code",
   "execution_count": null,
   "metadata": {},
   "outputs": [],
   "source": []
  }
 ],
 "metadata": {
  "kernelspec": {
   "display_name": "Python 3.8.5 64-bit ('notebooks': pyenv)",
   "language": "python",
   "name": "python3"
  },
  "language_info": {
   "codemirror_mode": {
    "name": "ipython",
    "version": 3
   },
   "file_extension": ".py",
   "mimetype": "text/x-python",
   "name": "python",
   "nbconvert_exporter": "python",
   "pygments_lexer": "ipython3",
   "version": "3.8.5"
  },
  "vscode": {
   "interpreter": {
    "hash": "756fd7f3f44ab1b408c61a336bc63dd8b2b1c2a4bc9346285fbb85e9c22b620b"
   }
  }
 },
 "nbformat": 4,
 "nbformat_minor": 5
}
