{
 "cells": [
  {
   "attachments": {},
   "cell_type": "markdown",
   "id": "853979c8",
   "metadata": {},
   "source": [
    "<a href=\"https://colab.research.google.com/github/sio-co2o2/scrippsco2_notebooks/blob/main/notebooks/plot_global_co2_fluxes_scrippsco2.ipynb\" target=\"_parent\"><img src=\"https://colab.research.google.com/assets/colab-badge.svg\" alt=\"Open In Colab\"/></a>\n",
    "\n",
    "[![Binder](https://mybinder.org/badge_logo.svg)](https://mybinder.org/v2/gh/sio-co2o2/scrippsco2_notebooks/main?labpath=notebooks%2Fplot_global_co2_fluxes_scrippsco2.ipynb)"
   ]
  },
  {
   "cell_type": "markdown",
   "id": "075a49b0",
   "metadata": {},
   "source": [
    "# Plot Global CO2 Fluxes"
   ]
  },
  {
   "cell_type": "markdown",
   "metadata": {},
   "source": [
    "### Scripps CO2 Program\n",
    "https://scrippsco2.ucsd.edu\n",
    "\n",
    "This notebook creates pdf and png plot versions."
   ]
  },
  {
   "cell_type": "markdown",
   "metadata": {},
   "source": [
    "Will be plotting the following:\n",
    "\n",
    "Blue Curve: CO2 rate of change based on Mauna Loa Record.\n",
    "\n",
    "Black Curve: CO2 rate of change based on the Antarctic ice core record from Law Dome before 1958 (Macfarling Meure, C. et al., 2006: Law Dome CO2, CH4 and N2O ice core records extended to 2000 years BP. Geophysical Research Letters, 33.) and a seasonally detrended arithmetic average of monthly air measurements from Mauna Loa and the South Pole from the Scripps CO2 program after and including 1958. The records were combined without adjustment. Ice core data are rejected after 1958 which overlap direct measurements. The ice core data are interpolated to monthly resolution using a spline with a stiffness of 0.8. The curve is smoothed to suppress short-term interannual variability, for example, due to El Nino events.\n",
    "\n",
    "Red Curve: Fossil fuel CO2 emissions."
   ]
  },
  {
   "attachments": {},
   "cell_type": "markdown",
   "metadata": {},
   "source": [
    "## Import packages"
   ]
  },
  {
   "cell_type": "code",
   "execution_count": 1,
   "metadata": {},
   "outputs": [],
   "source": [
    "import re\n",
    "import pandas as pd\n",
    "import numpy as np\n",
    "import requests\n",
    "from datetime import datetime, date, timedelta\n",
    "from dateutil.relativedelta import relativedelta\n",
    "import pathlib\n",
    "import matplotlib.image as mpimg\n",
    "import matplotlib.pyplot as plt\n",
    "from matplotlib.pyplot import figure\n",
    "from matplotlib.ticker import (MultipleLocator, AutoMinorLocator)\n",
    "from matplotlib import ticker\n",
    "import os\n",
    "from PIL import Image\n",
    "\n",
    "%matplotlib inline"
   ]
  },
  {
   "cell_type": "code",
   "execution_count": 2,
   "id": "1de13f7f",
   "metadata": {},
   "outputs": [],
   "source": [
    "# This package is used to convert a vector svg into a png\n",
    "\n",
    "try:\n",
    "  from cairosvg import svg2png\n",
    "except:\n",
    "  ! pip install cairosvg\n",
    "  from cairosvg import svg2png"
   ]
  },
  {
   "cell_type": "code",
   "execution_count": 3,
   "id": "69bef168",
   "metadata": {},
   "outputs": [],
   "source": [
    "# This import is to enable Google Colab to save files ane then download them\n",
    "\n",
    "# This import does not exist unless the notebook is run in Google Colab\n",
    "# Put in a try except block if user wants to use notebook off of Google Colab\n",
    "\n",
    "try:\n",
    "    from google.colab import files\n",
    "except:\n",
    "    pass"
   ]
  },
  {
   "cell_type": "markdown",
   "metadata": {},
   "source": [
    "## Set directories and file names for data,  plot, and logo"
   ]
  },
  {
   "cell_type": "code",
   "execution_count": 4,
   "metadata": {},
   "outputs": [],
   "source": [
    "# From bluemoon\n",
    "# ff_file = './data/supplemental/fossil_fuel/modified/cum_ff_rate_trend.csv'\n",
    "# cum_rate_trend_file = './data/supplemental/merged_ice_core_mlo_spo/cumulativeIcecoreMloSpoRateTrend.csv'\n",
    "# mlo_rate_trend_file = './data/supplemental/co2_rate_trend/mlo_co2_rate_trend.csv'\n",
    "\n",
    "# From github\n",
    "ff_file = 'https://raw.githubusercontent.com/sio-co2o2/scrippsco2_notebooks/main/data/fossil_fuel/cum_ff_rate_trend.csv'\n",
    "cum_rate_trend_file = 'https://raw.githubusercontent.com/sio-co2o2/scrippsco2_notebooks/main/data/icecore/cumulativeIcecoreMloSpoRateTrend.csv'\n",
    "mlo_rate_trend_file = 'https://raw.githubusercontent.com/sio-co2o2/scrippsco2_notebooks/main/data/co2/mlo_co2_rate_trend.csv'\n",
    "\n",
    "# Set plot directories for website graphics gallery\n",
    "plot_dir = pathlib.Path('./plots')\n",
    "plot_dir.mkdir(exist_ok=True)\n",
    "\n",
    "plot_pdf_dir = pathlib.Path(plot_dir / 'pdf')\n",
    "plot_pdf_dir.mkdir(exist_ok=True)\n",
    "\n",
    "plot_png_dir = pathlib.Path(plot_dir / 'png')\n",
    "plot_png_dir.mkdir(exist_ok=True)\n",
    "\n",
    "plot_display_dir = pathlib.Path(plot_dir / 'display')\n",
    "plot_display_dir.mkdir(exist_ok=True)\n",
    "\n",
    "plot_thumbnail_dir = pathlib.Path(plot_dir / 'thumbnails')\n",
    "plot_thumbnail_dir.mkdir(exist_ok=True)\n",
    "\n",
    "# logo_file = 'images/ucsd_sio_logo.svg'\n",
    "\n",
    "logo_file = 'https://github.com/sio-co2o2/keelingcurve_notebooks/raw/main/images/logos/ucsd_sio_logo.svg'\n",
    "\n",
    "plot_name = 'global_co2_fluxes'\n",
    "\n",
    "pdf_file = plot_pdf_dir / f'{plot_name}.pdf'\n",
    "png_file = plot_png_dir / f'{plot_name}.png'\n",
    "png_display_file = plot_display_dir / f'{plot_name}.png'\n",
    "png_thumbnail_file = plot_thumbnail_dir / f'{plot_name}.png'\n"
   ]
  },
  {
   "cell_type": "markdown",
   "metadata": {},
   "source": [
    "## Load in Data and process"
   ]
  },
  {
   "cell_type": "markdown",
   "metadata": {},
   "source": [
    "### Load in rate of change of Fossil Fuel data"
   ]
  },
  {
   "cell_type": "code",
   "execution_count": 5,
   "metadata": {},
   "outputs": [
    {
     "data": {
      "text/html": [
       "<div>\n",
       "<style scoped>\n",
       "    .dataframe tbody tr th:only-of-type {\n",
       "        vertical-align: middle;\n",
       "    }\n",
       "\n",
       "    .dataframe tbody tr th {\n",
       "        vertical-align: top;\n",
       "    }\n",
       "\n",
       "    .dataframe thead th {\n",
       "        text-align: right;\n",
       "    }\n",
       "</style>\n",
       "<table border=\"1\" class=\"dataframe\">\n",
       "  <thead>\n",
       "    <tr style=\"text-align: right;\">\n",
       "      <th></th>\n",
       "      <th>year</th>\n",
       "      <th>ff_rate_trend</th>\n",
       "    </tr>\n",
       "  </thead>\n",
       "  <tbody>\n",
       "    <tr>\n",
       "      <th>0</th>\n",
       "      <td>1740</td>\n",
       "      <td>0.000000</td>\n",
       "    </tr>\n",
       "    <tr>\n",
       "      <th>1</th>\n",
       "      <td>1752</td>\n",
       "      <td>0.002999</td>\n",
       "    </tr>\n",
       "    <tr>\n",
       "      <th>2</th>\n",
       "      <td>1753</td>\n",
       "      <td>0.003000</td>\n",
       "    </tr>\n",
       "    <tr>\n",
       "      <th>3</th>\n",
       "      <td>1754</td>\n",
       "      <td>0.003000</td>\n",
       "    </tr>\n",
       "    <tr>\n",
       "      <th>4</th>\n",
       "      <td>1755</td>\n",
       "      <td>0.003000</td>\n",
       "    </tr>\n",
       "  </tbody>\n",
       "</table>\n",
       "</div>"
      ],
      "text/plain": [
       "   year  ff_rate_trend\n",
       "0  1740       0.000000\n",
       "1  1752       0.002999\n",
       "2  1753       0.003000\n",
       "3  1754       0.003000\n",
       "4  1755       0.003000"
      ]
     },
     "execution_count": 5,
     "metadata": {},
     "output_type": "execute_result"
    }
   ],
   "source": [
    "# TODO\n",
    "# Get data off github\n",
    "\n",
    "df_ff = pd.read_csv(ff_file)\n",
    "df_ff.head()\n"
   ]
  },
  {
   "cell_type": "markdown",
   "metadata": {},
   "source": [
    "### Convert to numpy arrays for plotting"
   ]
  },
  {
   "cell_type": "code",
   "execution_count": 6,
   "metadata": {},
   "outputs": [],
   "source": [
    "date_ff = df_ff['year'].to_numpy()\n",
    "trend_ff = df_ff['ff_rate_trend'].to_numpy()"
   ]
  },
  {
   "cell_type": "markdown",
   "metadata": {},
   "source": [
    "### Load in rate of change of icecore data merged with MLO and SPO averaged"
   ]
  },
  {
   "cell_type": "code",
   "execution_count": 7,
   "metadata": {},
   "outputs": [
    {
     "data": {
      "text/html": [
       "<div>\n",
       "<style scoped>\n",
       "    .dataframe tbody tr th:only-of-type {\n",
       "        vertical-align: middle;\n",
       "    }\n",
       "\n",
       "    .dataframe tbody tr th {\n",
       "        vertical-align: top;\n",
       "    }\n",
       "\n",
       "    .dataframe thead th {\n",
       "        text-align: right;\n",
       "    }\n",
       "</style>\n",
       "<table border=\"1\" class=\"dataframe\">\n",
       "  <thead>\n",
       "    <tr style=\"text-align: right;\">\n",
       "      <th></th>\n",
       "      <th>year</th>\n",
       "      <th>rate_trend</th>\n",
       "    </tr>\n",
       "  </thead>\n",
       "  <tbody>\n",
       "    <tr>\n",
       "      <th>0</th>\n",
       "      <td>1740.3</td>\n",
       "      <td>-0.183</td>\n",
       "    </tr>\n",
       "    <tr>\n",
       "      <th>1</th>\n",
       "      <td>1740.8</td>\n",
       "      <td>-0.185</td>\n",
       "    </tr>\n",
       "    <tr>\n",
       "      <th>2</th>\n",
       "      <td>1741.3</td>\n",
       "      <td>-0.187</td>\n",
       "    </tr>\n",
       "    <tr>\n",
       "      <th>3</th>\n",
       "      <td>1741.8</td>\n",
       "      <td>-0.185</td>\n",
       "    </tr>\n",
       "    <tr>\n",
       "      <th>4</th>\n",
       "      <td>1742.3</td>\n",
       "      <td>-0.185</td>\n",
       "    </tr>\n",
       "  </tbody>\n",
       "</table>\n",
       "</div>"
      ],
      "text/plain": [
       "     year  rate_trend\n",
       "0  1740.3      -0.183\n",
       "1  1740.8      -0.185\n",
       "2  1741.3      -0.187\n",
       "3  1741.8      -0.185\n",
       "4  1742.3      -0.185"
      ]
     },
     "execution_count": 7,
     "metadata": {},
     "output_type": "execute_result"
    }
   ],
   "source": [
    "df_ice_mlo_spo = pd.read_csv(cum_rate_trend_file, header=None)\n",
    "df_ice_mlo_spo.columns = ['year', 'rate_trend']\n",
    "df_ice_mlo_spo.head()"
   ]
  },
  {
   "cell_type": "markdown",
   "id": "66cb60b2",
   "metadata": {},
   "source": [
    "### Convert to numpy arrays for plotting"
   ]
  },
  {
   "cell_type": "code",
   "execution_count": 8,
   "id": "538f0724",
   "metadata": {},
   "outputs": [],
   "source": [
    "date_ice_mlo_spo = df_ice_mlo_spo['year'].to_numpy()\n",
    "trend_ice_mlo_spo = df_ice_mlo_spo['rate_trend'].to_numpy()"
   ]
  },
  {
   "cell_type": "markdown",
   "id": "0de12e16",
   "metadata": {},
   "source": [
    "## Load in rate of change of MLO"
   ]
  },
  {
   "cell_type": "code",
   "execution_count": 9,
   "id": "9015dcd9",
   "metadata": {},
   "outputs": [
    {
     "data": {
      "text/html": [
       "<div>\n",
       "<style scoped>\n",
       "    .dataframe tbody tr th:only-of-type {\n",
       "        vertical-align: middle;\n",
       "    }\n",
       "\n",
       "    .dataframe tbody tr th {\n",
       "        vertical-align: top;\n",
       "    }\n",
       "\n",
       "    .dataframe thead th {\n",
       "        text-align: right;\n",
       "    }\n",
       "</style>\n",
       "<table border=\"1\" class=\"dataframe\">\n",
       "  <thead>\n",
       "    <tr style=\"text-align: right;\">\n",
       "      <th></th>\n",
       "      <th>year</th>\n",
       "      <th>co2_rate_trend</th>\n",
       "    </tr>\n",
       "  </thead>\n",
       "  <tbody>\n",
       "    <tr>\n",
       "      <th>0</th>\n",
       "      <td>1958.2452</td>\n",
       "      <td>2.0352</td>\n",
       "    </tr>\n",
       "    <tr>\n",
       "      <th>1</th>\n",
       "      <td>1958.3288</td>\n",
       "      <td>2.0352</td>\n",
       "    </tr>\n",
       "    <tr>\n",
       "      <th>2</th>\n",
       "      <td>1958.4123</td>\n",
       "      <td>2.0352</td>\n",
       "    </tr>\n",
       "    <tr>\n",
       "      <th>3</th>\n",
       "      <td>1958.4959</td>\n",
       "      <td>1.7808</td>\n",
       "    </tr>\n",
       "    <tr>\n",
       "      <th>4</th>\n",
       "      <td>1958.5795</td>\n",
       "      <td>1.7808</td>\n",
       "    </tr>\n",
       "  </tbody>\n",
       "</table>\n",
       "</div>"
      ],
      "text/plain": [
       "        year  co2_rate_trend\n",
       "0  1958.2452          2.0352\n",
       "1  1958.3288          2.0352\n",
       "2  1958.4123          2.0352\n",
       "3  1958.4959          1.7808\n",
       "4  1958.5795          1.7808"
      ]
     },
     "execution_count": 9,
     "metadata": {},
     "output_type": "execute_result"
    }
   ],
   "source": [
    "df_mlo = pd.read_csv(mlo_rate_trend_file, header=None)\n",
    "df_mlo.columns = ['year', 'co2_rate_trend']\n",
    "df_mlo.head()\n"
   ]
  },
  {
   "cell_type": "markdown",
   "metadata": {},
   "source": [
    "### Convert to numpy arrays for plotting"
   ]
  },
  {
   "cell_type": "code",
   "execution_count": 10,
   "metadata": {},
   "outputs": [],
   "source": [
    "date_mlo = df_mlo['year'].to_numpy()\n",
    "trend_mlo = df_mlo['co2_rate_trend'].to_numpy()"
   ]
  },
  {
   "cell_type": "markdown",
   "metadata": {},
   "source": [
    "## Define Plot Functions"
   ]
  },
  {
   "cell_type": "code",
   "execution_count": 11,
   "metadata": {},
   "outputs": [],
   "source": [
    "def set_matplotlib_properties():\n",
    "    \n",
    "    # Set default properties for matplotlib\n",
    "    \n",
    "    # Reset rcparams in case modified defaults in another notebook during same session \n",
    "    plt.rcParams.update(plt.rcParamsDefault)\n",
    "\n",
    "    plt.rcParams.update({'axes.linewidth':1.5})\n",
    "    \n",
    "    plt.rcParams.update({\n",
    "        \"text.usetex\": False,\n",
    "        \"font.family\": \"sans-serif\",\n",
    "        \"font.weight\":  \"normal\",\n",
    "        \"font.sans-serif\": [\"Arial\", \"Tahoma\", \"Helvetica\",\"FreeSans\", \"NimbusSans\", \"LiberationSans\",\"DejaVu Sans\"],\n",
    "        \"mathtext.default\":'regular',\n",
    "        \"mathtext.fontset\": \"dejavusans\"\n",
    "    })\n",
    "        \n",
    "    # http://phyletica.org/matplotlib-fonts/\n",
    "    # This causes matplotlib to use Type 42 (a.k.a. TrueType) fonts \n",
    "    # for PostScript and PDF files. This allows you to avoid Type 3 fonts.\n",
    "    # Turning on usetex also works\n",
    "    # Needed on Ubuntu for pdf fonts \n",
    "    plt.rcParams.update({\n",
    "      'pdf.fonttype': 42,\n",
    "        'ps.fonttype': 42 \n",
    "    })"
   ]
  },
  {
   "cell_type": "code",
   "execution_count": 12,
   "metadata": {},
   "outputs": [],
   "source": [
    "def set_website_plot_props(ax, fig, xmin, xmax, ymin, ymax, xlabel, ylabel):\n",
    "\n",
    "\n",
    "    # ------------------------------------\n",
    "    # Set properties to use for matplotlib\n",
    "    # ------------------------------------\n",
    "    \n",
    "    set_matplotlib_properties()\n",
    "\n",
    "\n",
    "    # ---------------------------------\n",
    "    # Plot properties for website plots\n",
    "    # ---------------------------------\n",
    "    \n",
    "    # Allow room at top for the titles\n",
    "    fig.subplots_adjust(top=0.85)\n",
    "\n",
    "    \n",
    "    ax.tick_params(which='both', bottom=True, top=True, left=True, right=True)\n",
    "\n",
    "    ax.tick_params(axis='x', labelsize=14)\n",
    "    ax.tick_params(axis='y', labelsize=16)\n",
    "\n",
    "    ax.tick_params(axis='x', which='major', direction='in', length=8, width=1, pad=8)\n",
    "    ax.tick_params(axis='y', which='major', direction='in', length=8, width=1)\n",
    "\n",
    "    tick_spacing = 20\n",
    "    ax.xaxis.set_major_locator(ticker.MultipleLocator(tick_spacing))\n",
    "    \n",
    "    tick_spacing = 1\n",
    "    ax.yaxis.set_major_locator(ticker.MultipleLocator(tick_spacing))\n",
    "\n",
    "    labels = ax.get_xticklabels() + ax.get_yticklabels()\n",
    "    for label in labels: label.set_fontweight('bold')\n",
    "\n",
    "    tick_length = 5\n",
    "    ax.tick_params(axis='x', which='minor', direction='in', length=tick_length)\n",
    "       \n",
    "    tick_length = 4\n",
    "    ax.tick_params(axis='y', which='minor', direction='in', length=tick_length)\n",
    "        \n",
    "    ax.xaxis.set_minor_locator(AutoMinorLocator(2))\n",
    "     \n",
    "    ax.set_xlabel(xlabel, fontweight='bold', fontsize=21, labelpad=8)\n",
    "    ax.set_ylabel(ylabel, fontweight='bold', fontsize=21, labelpad=8)\n",
    "    \n",
    "    ax.set_xlim(xmin, xmax)\n",
    "    ax.set_ylim(ymin, ymax)"
   ]
  },
  {
   "cell_type": "code",
   "execution_count": 13,
   "metadata": {},
   "outputs": [],
   "source": [
    "def add_plot_title(ax, title1, title2):\n",
    "\n",
    "    ax.annotate(title1, xy=(0, 1.095), xycoords='axes fraction', fontsize=21,\n",
    "                horizontalalignment='left', verticalalignment='top', fontweight=\"bold\")\n",
    "     \n",
    "    ax.annotate(title2, xy=(0, 1.04), xycoords='axes fraction', fontsize=12,\n",
    "                horizontalalignment='left', verticalalignment='top', fontweight=\"normal\")"
   ]
  },
  {
   "cell_type": "code",
   "execution_count": 14,
   "metadata": {},
   "outputs": [],
   "source": [
    "def add_sio_logo(fig, logo_file, xpos, ypos):\n",
    "\n",
    "    # Convert the logo svg file to a png file with the\n",
    "    # given scale and dpi\n",
    "\n",
    "    logo_png = 'logo.png'\n",
    "\n",
    "    #logo_path = str(logo_file.resolve())\n",
    "    #svg2png(url=logo_path, write_to=logo_png, scale=10, dpi=300)\n",
    "    svg2png(url=logo_file, write_to=logo_png, scale=10, dpi=300)\n",
    "\n",
    "    logo = mpimg.imread(logo_png)\n",
    "\n",
    "    fig.add_axes([xpos, ypos, 0.2, 0.2], anchor='SE', zorder=1)\n",
    "\n",
    "    plt.imshow(logo)\n",
    "    plt.axis('off')\n",
    "\n",
    "    # Delete the logo png version\n",
    "    os.remove(logo_png)\n"
   ]
  },
  {
   "cell_type": "code",
   "execution_count": 15,
   "metadata": {},
   "outputs": [],
   "source": [
    "def save_plot_for_website(fig):\n",
    "\n",
    "    fig_width, fig_height = fig.get_size_inches()\n",
    "\n",
    "    # For pdf\n",
    "    width_in = 11\n",
    "    #height_in = 8.5\n",
    "    height_in = (fig_height/fig_width) * width_in\n",
    "\n",
    "    fig.set_size_inches(width_in, height_in)\n",
    "\n",
    "    plt.subplots_adjust(left=0.109, right=0.95, top=0.85, bottom=0.15)\n",
    "\n",
    "    # Save to a high dpi so that logo png file has a high resolution\n",
    "    fig.savefig(pdf_file, facecolor='w', edgecolor='w',\n",
    "                orientation='landscape', format=None,\n",
    "                transparent=False, bbox_inches='tight', dpi=600)\n",
    "\n",
    "    # Save png version\n",
    "    png_dpi = 600\n",
    "\n",
    "    fig.savefig(png_file, facecolor='w', edgecolor='w',\n",
    "                orientation='landscape', dpi=png_dpi, bbox_inches='tight')\n",
    "\n",
    "    # For display png\n",
    "    # width = 1200px\n",
    "\n",
    "    # Now resize the image\n",
    "    img = Image.open(png_file)\n",
    "    img_width, img_height = img.size\n",
    "\n",
    "    width_px = 1200\n",
    "    img_scale = (width_px / img_width)\n",
    "    height_px = int((float(img_height) * float(img_scale)))\n",
    "\n",
    "    img = img.resize((width_px, height_px), Image.LANCZOS)\n",
    "    img.save(png_display_file)\n",
    "\n",
    "    # For thumbail png\n",
    "    # width = 250px\n",
    "\n",
    "    # Now resize the image\n",
    "    img = Image.open(png_file)\n",
    "    img_width, img_height = img.size\n",
    "\n",
    "    width_px = 250\n",
    "    img_scale = (width_px / img_width)\n",
    "    height_px = int((float(img_height) * float(img_scale)))\n",
    "\n",
    "    img = img.resize((width_px, height_px), Image.LANCZOS)\n",
    "    img.save(png_thumbnail_file)\n"
   ]
  },
  {
   "cell_type": "markdown",
   "metadata": {},
   "source": [
    "## Set plot limits and labeling"
   ]
  },
  {
   "cell_type": "markdown",
   "metadata": {},
   "source": [
    "### Functions to convert dates into various formats\n",
    "For plot limits and labeling"
   ]
  },
  {
   "cell_type": "code",
   "execution_count": 16,
   "metadata": {},
   "outputs": [],
   "source": [
    "# Function to convert datetime to a float\n",
    "def dt2t(adatetime):\n",
    "    \"\"\"\n",
    "    Convert adatetime into a float. The integer part of the float should\n",
    "    represent the year.\n",
    "    Order should be preserved. If adate<bdate, then d2t(adate)<d2t(bdate)\n",
    "    time distances should be preserved: If bdate-adate=ddate-cdate then\n",
    "    dt2t(bdate)-dt2t(adate) = dt2t(ddate)-dt2t(cdate)\n",
    "    \"\"\"\n",
    "    year = adatetime.year\n",
    "    boy = datetime(year, 1, 1)\n",
    "    eoy = datetime(year + 1, 1, 1)\n",
    "    return year + ((adatetime - boy).total_seconds() / ((eoy - boy).total_seconds()))"
   ]
  },
  {
   "cell_type": "code",
   "execution_count": 17,
   "metadata": {},
   "outputs": [],
   "source": [
    "def get_todays_date_variations():\n",
    "    \n",
    "    now = datetime.now()\n",
    "    todays_decimal =  dt2t(now)\n",
    "    \n",
    "    today = date.today()\n",
    "\n",
    "    todays_day = today.day\n",
    "    todays_month = today.strftime(\"%B\")\n",
    "    todays_year = today.year\n",
    "    todays_date_moyr = today.strftime(\"%B %Y\")\n",
    "    todays_date_modyyr = f\"{todays_month} {todays_day}, {todays_year}\"\n",
    "\n",
    "    return todays_date_moyr, todays_date_modyyr, todays_decimal, todays_year"
   ]
  },
  {
   "cell_type": "code",
   "execution_count": 18,
   "metadata": {},
   "outputs": [],
   "source": [
    "#  https://stackoverflow.com/questions/19305991/convert-fractional-years-to-a-real-date-in-python\n",
    "def t2dt(atime):\n",
    "    \"\"\"\n",
    "    Convert atime (a float) to DT.datetime\n",
    "    This is the inverse of dt2t.\n",
    "    assert dt2t(t2dt(atime)) == atime\n",
    "    \"\"\"\n",
    "    year = int(atime)\n",
    "    remainder = atime - year\n",
    "    boy = datetime(year, 1, 1)\n",
    "    eoy = datetime(year + 1, 1, 1)\n",
    "    seconds = remainder * (eoy - boy).total_seconds()\n",
    "    return boy + timedelta(seconds=seconds)"
   ]
  },
  {
   "cell_type": "code",
   "execution_count": 19,
   "metadata": {},
   "outputs": [],
   "source": [
    "def get_data_end_date(date_data):\n",
    "    last_date = np.max(date_data)\n",
    "    last_date_datetime = t2dt(last_date)\n",
    "    \n",
    "    # Convert date format to month_name day, year\n",
    "    day = last_date_datetime.day\n",
    "    month = last_date_datetime.strftime(\"%B\")\n",
    "    year = last_date_datetime.year\n",
    "    date_modyyr = f\"{month} {day}, {year}\"\n",
    "    return date_modyyr"
   ]
  },
  {
   "cell_type": "markdown",
   "metadata": {},
   "source": [
    "### Get Todays date for title"
   ]
  },
  {
   "cell_type": "code",
   "execution_count": 20,
   "metadata": {},
   "outputs": [],
   "source": [
    "# ------------------------------------------------\n",
    "# Get todays date in various formats for labeling\n",
    "# ------------------------------------------------\n",
    "todays_date_moyr, todays_date_modyyr, todays_decimal, todays_year = get_todays_date_variations()"
   ]
  },
  {
   "cell_type": "markdown",
   "metadata": {},
   "source": [
    "### Set titles and axes labels"
   ]
  },
  {
   "cell_type": "code",
   "execution_count": 21,
   "metadata": {},
   "outputs": [],
   "source": [
    "xlabel = 'Year'\n",
    "ylabel = \"Flux (PgC/year)\"\n",
    "\n",
    "title1 = \"Observed Global \" + \"$\\mathregular{CO}\\\\bf{_2}$\" + \" Fluxes\"\n",
    "title2 = f'Last updated {todays_date_moyr}'"
   ]
  },
  {
   "cell_type": "markdown",
   "metadata": {},
   "source": [
    "### Set yaxis min and max limits"
   ]
  },
  {
   "cell_type": "code",
   "execution_count": 22,
   "metadata": {},
   "outputs": [],
   "source": [
    "ymin = -1\n",
    "ymax = 11"
   ]
  },
  {
   "cell_type": "markdown",
   "metadata": {},
   "source": [
    "### Set xaxis min and max limits\n",
    "The decimal date is the midpoint of each month for the monthly record and for the concatenated daily data from the end of the monthly data to now is at the mid day."
   ]
  },
  {
   "cell_type": "code",
   "execution_count": 23,
   "metadata": {},
   "outputs": [],
   "source": [
    "xmin = 1720\n",
    "xmax = todays_year + 2"
   ]
  },
  {
   "cell_type": "markdown",
   "metadata": {},
   "source": [
    "## Create plot and save"
   ]
  },
  {
   "cell_type": "code",
   "execution_count": 24,
   "metadata": {},
   "outputs": [
    {
     "data": {
      "image/png": "[encoded data removed]",
      "text/plain": [
       "<Figure size 792x528 with 1 Axes>"
      ]
     },
     "metadata": {
      "needs_background": "light"
     },
     "output_type": "display_data"
    }
   ],
   "source": [
    "fig = plt.figure()\n",
    "\n",
    "ax = fig.add_subplot()\n",
    "\n",
    "\n",
    "# -------------\n",
    "# Plot the data\n",
    "# -------------\n",
    "\n",
    "ax.plot(date_ff, trend_ff, '-', color='red', linewidth=1.25)\n",
    "\n",
    "ax.plot(date_ice_mlo_spo, trend_ice_mlo_spo, '-', color='black', linewidth=1.25)\n",
    "\n",
    "ax.plot(date_mlo, trend_mlo, '-', color='blue', linewidth=1.25)\n",
    "\n",
    "# -------------------\n",
    "# Set plot properties\n",
    "# -------------------\n",
    "set_website_plot_props(ax, fig, xmin, xmax, ymin, ymax, xlabel, ylabel)\n",
    "\n",
    "# ---------------\n",
    "# Add plot titles\n",
    "# ---------------\n",
    "add_plot_title(ax, title1, title2)\n",
    "\n",
    "\n",
    "# --------------------\n",
    "# Add SIO logo to plot\n",
    "# --------------------\n",
    "xpos = 0.73\n",
    "ypos = 0.17\n",
    "\n",
    "#add_sio_logo(fig, logo_file, xpos, ypos)\n",
    "\n",
    "\n",
    "# ---------------------\n",
    "# Save plot for website\n",
    "# ---------------------\n",
    "fig = plt.gcf()\n",
    "\n",
    "save_plot_for_website(fig)\n",
    "\n",
    "\n",
    "plt.show()"
   ]
  },
  {
   "cell_type": "code",
   "execution_count": null,
   "metadata": {},
   "outputs": [],
   "source": []
  }
 ],
 "metadata": {
  "interpreter": {
   "hash": "756fd7f3f44ab1b408c61a336bc63dd8b2b1c2a4bc9346285fbb85e9c22b620b"
  },
  "kernelspec": {
   "display_name": "Python 3.8.5 64-bit ('notebooks')",
   "language": "python",
   "name": "python3"
  },
  "language_info": {
   "codemirror_mode": {
    "name": "ipython",
    "version": 3
   },
   "file_extension": ".py",
   "mimetype": "text/x-python",
   "name": "python",
   "nbconvert_exporter": "python",
   "pygments_lexer": "ipython3",
   "version": "3.8.5"
  }
 },
 "nbformat": 4,
 "nbformat_minor": 5
}
