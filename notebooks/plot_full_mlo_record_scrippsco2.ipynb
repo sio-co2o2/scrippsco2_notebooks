{
  "cells": [
    {
      "attachments": {},
      "cell_type": "markdown",
      "id": "f75da416",
      "metadata": {
        "id": "f75da416"
      },
      "source": [
        "<a href=\"https://colab.research.google.com/github/sio-co2o2/scrippsco2_notebooks/blob/main/notebooks/plot_full_mlo_record_scrippsco2.ipynb\" target=\"_parent\"><img src=\"https://colab.research.google.com/assets/colab-badge.svg\" alt=\"Open In Colab\"/></a>\n",
        "\n",
        "[![Binder](https://mybinder.org/badge_logo.svg)](https://mybinder.org/v2/gh/sio-co2o2/scrippsco2_notebooks/main?labpath=notebooks%2Fplot_full_mlo_record_scrippsco2.ipynb)"
      ]
    },
    {
      "attachments": {},
      "cell_type": "markdown",
      "id": "158ed729",
      "metadata": {},
      "source": [
        "# Plot full CO2 record at Mauna Loa, Hawaii"
      ]
    },
    {
      "cell_type": "markdown",
      "id": "1663c056",
      "metadata": {
        "id": "1663c056"
      },
      "source": [
        "### Scripps CO2 Program\n",
        "https://scrippsco2.ucsd.edu\n",
        "\n",
        "This notebook creates pdf and png plot versions."
      ]
    },
    {
      "cell_type": "markdown",
      "id": "915f50ee",
      "metadata": {
        "id": "915f50ee"
      },
      "source": [
        "## Import packages"
      ]
    },
    {
      "cell_type": "code",
      "execution_count": 89,
      "id": "48547514",
      "metadata": {
        "id": "48547514"
      },
      "outputs": [],
      "source": [
        "import re\n",
        "import pandas as pd\n",
        "import numpy as np\n",
        "import requests\n",
        "from datetime import datetime, date, timedelta\n",
        "from dateutil.relativedelta import relativedelta\n",
        "import pathlib\n",
        "import matplotlib.image as mpimg\n",
        "import matplotlib.pyplot as plt\n",
        "from matplotlib.pyplot import figure\n",
        "from matplotlib.ticker import (MultipleLocator, AutoMinorLocator)\n",
        "from matplotlib import ticker\n",
        "import os\n",
        "from PIL import Image\n",
        "\n",
        "%matplotlib inline"
      ]
    },
    {
      "cell_type": "code",
      "execution_count": 90,
      "id": "5d371ddd",
      "metadata": {
        "id": "5d371ddd"
      },
      "outputs": [],
      "source": [
        "# This package is used to convert a vector svg into a png\n",
        "\n",
        "try:\n",
        "  from cairosvg import svg2png\n",
        "except:\n",
        "  ! pip install cairosvg\n",
        "  from cairosvg import svg2png"
      ]
    },
    {
      "cell_type": "code",
      "execution_count": 91,
      "id": "3c8dc9dc",
      "metadata": {
        "id": "3c8dc9dc"
      },
      "outputs": [],
      "source": [
        "# This import is to enable Google Colab to save files ane then download them\n",
        "\n",
        "# This import does not exist unless the notebook is run in Google Colab\n",
        "# Put in a try except block if user wants to use notebook off of Google Colab\n",
        "\n",
        "try:\n",
        "    from google.colab import files\n",
        "except:\n",
        "    pass"
      ]
    },
    {
      "cell_type": "markdown",
      "id": "bdc06745",
      "metadata": {
        "id": "bdc06745"
      },
      "source": [
        "## Set directories and file names for data,  plot, and logo"
      ]
    },
    {
      "cell_type": "code",
      "execution_count": 57,
      "id": "5961abfa",
      "metadata": {
        "id": "5961abfa"
      },
      "outputs": [],
      "source": [
        "# Data from scrippsco2.ucsd.edu\n",
        "insitu_data_dir = 'https://scrippsco2.ucsd.edu/assets/data/atmospheric/stations/in_situ_co2/monthly'\n",
        "\n",
        "#insitu_data_dir = 'data/to_post/in_situ_co2/monthly'\n",
        "\n",
        "monthly_mlo_file = 'monthly_in_situ_co2_mlo.csv'\n",
        "data_url = f\"{insitu_data_dir}/{monthly_mlo_file}\" \n",
        "\n",
        "# Set plot directories for website graphics gallery\n",
        "plot_dir = pathlib.Path('./plots')\n",
        "plot_dir.mkdir(exist_ok=True)\n",
        "\n",
        "plot_pdf_dir = pathlib.Path(plot_dir / 'pdf')\n",
        "plot_pdf_dir.mkdir(exist_ok=True)\n",
        "\n",
        "plot_png_dir = pathlib.Path(plot_dir / 'png')\n",
        "plot_png_dir.mkdir(exist_ok=True)\n",
        "\n",
        "plot_display_dir = pathlib.Path(plot_dir / 'display')\n",
        "plot_display_dir.mkdir(exist_ok=True)\n",
        "\n",
        "plot_thumbnail_dir = pathlib.Path(plot_dir / 'thumbnails')\n",
        "plot_thumbnail_dir.mkdir(exist_ok=True)\n",
        "\n",
        "# logo_file = 'images/ucsd_sio_logo.svg'\n",
        "\n",
        "logo_file = 'https://github.com/sio-co2o2/keelingcurve_notebooks/raw/main/images/logos/ucsd_sio_logo.svg'\n",
        "\n",
        "plot_name = 'mlo_record'\n",
        "\n",
        "pdf_file = plot_pdf_dir / f'{plot_name}.pdf'\n",
        "png_file = plot_png_dir / f'{plot_name}.png'\n",
        "png_display_file = plot_display_dir / f'{plot_name}.png'\n",
        "png_thumbnail_file = plot_thumbnail_dir / f'{plot_name}.png'\n",
        "\n"
      ]
    },
    {
      "cell_type": "markdown",
      "id": "e1278b77",
      "metadata": {
        "id": "e1278b77"
      },
      "source": [
        "## Load in Data and process"
      ]
    },
    {
      "cell_type": "markdown",
      "id": "e00c8c05",
      "metadata": {
        "id": "e00c8c05"
      },
      "source": [
        "### Look at the file comments to see what the columns represent"
      ]
    },
    {
      "cell_type": "code",
      "execution_count": 93,
      "id": "a7bdc816",
      "metadata": {
        "colab": {
          "base_uri": "https://localhost:8080/"
        },
        "id": "a7bdc816",
        "outputId": "44176511-fe5e-4189-e295-a11615b85756"
      },
      "outputs": [
        {
          "name": "stdout",
          "output_type": "stream",
          "text": [
            "\" The data file below contains 10 columns.  Columns 1-4 give the dates in several redundant \"\n",
            "\" formats. Column 5 below gives monthly Mauna Loa CO2 concentrations in micro-mol CO2 per   \"\n",
            "\" mole (ppm), reported on the 2012 SIO manometric mole fraction scale.  This is the        \"\n",
            "\" standard version of the data most often sought.  The monthly values have been adjusted    \"\n",
            "\" to 24:00 hours on the 15th of each month.  Column 6 gives the same data after a seasonal  \"\n",
            "\" adjustment to remove the quasi-regular seasonal cycle.  The adjustment involves           \"\n",
            "\" subtracting from the data a 4-harmonic fit with a linear gain factor.  Column 7 is a      \"\n",
            "\" smoothed version of the data generated from a stiff cubic spline function plus 4-harmonic \"\n",
            "\" functions with linear gain.  Column 8 is the same smoothed version with the seasonal      \"\n",
            "\" cycle removed.  Column 9 is identical to Column 5 except that the missing values from     \"\n",
            "\" Column 5 have been filled with values from Column 7.  Column 10 is identical to Column 6  \"\n",
            "\" except missing values have been filled with values from Column 8.  Missing values are     \"\n",
            "\" denoted by -99.99                                                                         \"\n",
            "\" Column 11 is the 3-digit sampling station identifier\"\n",
            "\"                                                                                           \"\n",
            "\" CO2 concentrations are measured on the '12' calibration scale                             \"\n",
            "\"                                                                                           \"\n"
          ]
        }
      ],
      "source": [
        "# Fetch with URL\n",
        "response = requests.get(data_url)\n",
        "file_text = response.text\n",
        "text_lines = file_text.split('\\n')\n",
        "\n",
        "# Fetch with file\n",
        "# with open(data_url) as f:\n",
        "#     text_lines = f.readlines()\n",
        "\n",
        "# From looking at the file, the column description comments start with\n",
        "# the words 'The data file below'\n",
        "comments = [line for line in text_lines if line.startswith('\"')]\n",
        "\n",
        "search_str = 'The data file below'\n",
        "desc_line_start = [index for index, comment in enumerate(comments) if search_str in comment]\n",
        "\n",
        "if desc_line_start:\n",
        "    col_desc = comments[desc_line_start[0]:]\n",
        "    print('\\n'.join(col_desc))"
      ]
    },
    {
      "cell_type": "markdown",
      "id": "be8b6a76",
      "metadata": {
        "id": "be8b6a76"
      },
      "source": [
        "### Load in data"
      ]
    },
    {
      "cell_type": "code",
      "execution_count": 94,
      "id": "b0a78cce",
      "metadata": {
        "colab": {
          "base_uri": "https://localhost:8080/",
          "height": 206
        },
        "id": "b0a78cce",
        "outputId": "ec19c6b9-6450-46a0-e392-ef979a766222",
        "scrolled": true
      },
      "outputs": [
        {
          "data": {
            "text/html": [
              "\n",
              "  <div id=\"df-20397e1f-9a49-42fd-90b8-218fdbe97ec3\">\n",
              "    <div class=\"colab-df-container\">\n",
              "      <div>\n",
              "<style scoped>\n",
              "    .dataframe tbody tr th:only-of-type {\n",
              "        vertical-align: middle;\n",
              "    }\n",
              "\n",
              "    .dataframe tbody tr th {\n",
              "        vertical-align: top;\n",
              "    }\n",
              "\n",
              "    .dataframe thead th {\n",
              "        text-align: right;\n",
              "    }\n",
              "</style>\n",
              "<table border=\"1\" class=\"dataframe\">\n",
              "  <thead>\n",
              "    <tr style=\"text-align: right;\">\n",
              "      <th></th>\n",
              "      <th>Yr</th>\n",
              "      <th>Mn</th>\n",
              "      <th>Date</th>\n",
              "      <th>Date.1</th>\n",
              "      <th>CO2</th>\n",
              "      <th>seasonally</th>\n",
              "      <th>fit</th>\n",
              "      <th>seasonally.1</th>\n",
              "      <th>CO2.1</th>\n",
              "      <th>seasonally.2</th>\n",
              "      <th>Sta</th>\n",
              "    </tr>\n",
              "  </thead>\n",
              "  <tbody>\n",
              "    <tr>\n",
              "      <th>0</th>\n",
              "      <td>NaN</td>\n",
              "      <td>NaN</td>\n",
              "      <td>NaN</td>\n",
              "      <td>NaN</td>\n",
              "      <td>NaN</td>\n",
              "      <td>adjusted</td>\n",
              "      <td>NaN</td>\n",
              "      <td>adjusted fit</td>\n",
              "      <td>filled</td>\n",
              "      <td>adjusted filled</td>\n",
              "      <td>NaN</td>\n",
              "    </tr>\n",
              "    <tr>\n",
              "      <th>1</th>\n",
              "      <td>NaN</td>\n",
              "      <td>NaN</td>\n",
              "      <td>Excel</td>\n",
              "      <td>NaN</td>\n",
              "      <td>[ppm]</td>\n",
              "      <td>[ppm]</td>\n",
              "      <td>[ppm]</td>\n",
              "      <td>[ppm]</td>\n",
              "      <td>[ppm]</td>\n",
              "      <td>[ppm]</td>\n",
              "      <td>NaN</td>\n",
              "    </tr>\n",
              "    <tr>\n",
              "      <th>2</th>\n",
              "      <td>1958.0</td>\n",
              "      <td>1.0</td>\n",
              "      <td>21200</td>\n",
              "      <td>1958.0411</td>\n",
              "      <td>-99.99</td>\n",
              "      <td>-99.99</td>\n",
              "      <td>-99.99</td>\n",
              "      <td>-99.99</td>\n",
              "      <td>-99.99</td>\n",
              "      <td>-99.99</td>\n",
              "      <td>MLO</td>\n",
              "    </tr>\n",
              "    <tr>\n",
              "      <th>3</th>\n",
              "      <td>1958.0</td>\n",
              "      <td>2.0</td>\n",
              "      <td>21231</td>\n",
              "      <td>1958.1260</td>\n",
              "      <td>-99.99</td>\n",
              "      <td>-99.99</td>\n",
              "      <td>-99.99</td>\n",
              "      <td>-99.99</td>\n",
              "      <td>-99.99</td>\n",
              "      <td>-99.99</td>\n",
              "      <td>MLO</td>\n",
              "    </tr>\n",
              "    <tr>\n",
              "      <th>4</th>\n",
              "      <td>1958.0</td>\n",
              "      <td>3.0</td>\n",
              "      <td>21259</td>\n",
              "      <td>1958.2027</td>\n",
              "      <td>315.71</td>\n",
              "      <td>314.43</td>\n",
              "      <td>316.20</td>\n",
              "      <td>314.90</td>\n",
              "      <td>315.71</td>\n",
              "      <td>314.43</td>\n",
              "      <td>MLO</td>\n",
              "    </tr>\n",
              "  </tbody>\n",
              "</table>\n",
              "</div>\n",
              "      <button class=\"colab-df-convert\" onclick=\"convertToInteractive('df-20397e1f-9a49-42fd-90b8-218fdbe97ec3')\"\n",
              "              title=\"Convert this dataframe to an interactive table.\"\n",
              "              style=\"display:none;\">\n",
              "        \n",
              "  <svg xmlns=\"http://www.w3.org/2000/svg\" height=\"24px\"viewBox=\"0 0 24 24\"\n",
              "       width=\"24px\">\n",
              "    <path d=\"M0 0h24v24H0V0z\" fill=\"none\"/>\n",
              "    <path d=\"M18.56 5.44l.94 2.06.94-2.06 2.06-.94-2.06-.94-.94-2.06-.94 2.06-2.06.94zm-11 1L8.5 8.5l.94-2.06 2.06-.94-2.06-.94L8.5 2.5l-.94 2.06-2.06.94zm10 10l.94 2.06.94-2.06 2.06-.94-2.06-.94-.94-2.06-.94 2.06-2.06.94z\"/><path d=\"M17.41 7.96l-1.37-1.37c-.4-.4-.92-.59-1.43-.59-.52 0-1.04.2-1.43.59L10.3 9.45l-7.72 7.72c-.78.78-.78 2.05 0 2.83L4 21.41c.39.39.9.59 1.41.59.51 0 1.02-.2 1.41-.59l7.78-7.78 2.81-2.81c.8-.78.8-2.07 0-2.86zM5.41 20L4 18.59l7.72-7.72 1.47 1.35L5.41 20z\"/>\n",
              "  </svg>\n",
              "      </button>\n",
              "      \n",
              "  <style>\n",
              "    .colab-df-container {\n",
              "      display:flex;\n",
              "      flex-wrap:wrap;\n",
              "      gap: 12px;\n",
              "    }\n",
              "\n",
              "    .colab-df-convert {\n",
              "      background-color: #E8F0FE;\n",
              "      border: none;\n",
              "      border-radius: 50%;\n",
              "      cursor: pointer;\n",
              "      display: none;\n",
              "      fill: #1967D2;\n",
              "      height: 32px;\n",
              "      padding: 0 0 0 0;\n",
              "      width: 32px;\n",
              "    }\n",
              "\n",
              "    .colab-df-convert:hover {\n",
              "      background-color: #E2EBFA;\n",
              "      box-shadow: 0px 1px 2px rgba(60, 64, 67, 0.3), 0px 1px 3px 1px rgba(60, 64, 67, 0.15);\n",
              "      fill: #174EA6;\n",
              "    }\n",
              "\n",
              "    [theme=dark] .colab-df-convert {\n",
              "      background-color: #3B4455;\n",
              "      fill: #D2E3FC;\n",
              "    }\n",
              "\n",
              "    [theme=dark] .colab-df-convert:hover {\n",
              "      background-color: #434B5C;\n",
              "      box-shadow: 0px 1px 3px 1px rgba(0, 0, 0, 0.15);\n",
              "      filter: drop-shadow(0px 1px 2px rgba(0, 0, 0, 0.3));\n",
              "      fill: #FFFFFF;\n",
              "    }\n",
              "  </style>\n",
              "\n",
              "      <script>\n",
              "        const buttonEl =\n",
              "          document.querySelector('#df-20397e1f-9a49-42fd-90b8-218fdbe97ec3 button.colab-df-convert');\n",
              "        buttonEl.style.display =\n",
              "          google.colab.kernel.accessAllowed ? 'block' : 'none';\n",
              "\n",
              "        async function convertToInteractive(key) {\n",
              "          const element = document.querySelector('#df-20397e1f-9a49-42fd-90b8-218fdbe97ec3');\n",
              "          const dataTable =\n",
              "            await google.colab.kernel.invokeFunction('convertToInteractive',\n",
              "                                                     [key], {});\n",
              "          if (!dataTable) return;\n",
              "\n",
              "          const docLinkHtml = 'Like what you see? Visit the ' +\n",
              "            '<a target=\"_blank\" href=https://colab.research.google.com/notebooks/data_table.ipynb>data table notebook</a>'\n",
              "            + ' to learn more about interactive tables.';\n",
              "          element.innerHTML = '';\n",
              "          dataTable['output_type'] = 'display_data';\n",
              "          await google.colab.output.renderOutput(dataTable, element);\n",
              "          const docLink = document.createElement('div');\n",
              "          docLink.innerHTML = docLinkHtml;\n",
              "          element.appendChild(docLink);\n",
              "        }\n",
              "      </script>\n",
              "    </div>\n",
              "  </div>\n",
              "  "
            ],
            "text/plain": [
              "       Yr   Mn   Date     Date.1     CO2 seasonally     fit  seasonally.1  \\\n",
              "0     NaN  NaN    NaN        NaN     NaN   adjusted     NaN  adjusted fit   \n",
              "1     NaN  NaN  Excel        NaN   [ppm]     [ppm]    [ppm]         [ppm]   \n",
              "2  1958.0  1.0  21200  1958.0411  -99.99     -99.99  -99.99        -99.99   \n",
              "3  1958.0  2.0  21231  1958.1260  -99.99     -99.99  -99.99        -99.99   \n",
              "4  1958.0  3.0  21259  1958.2027  315.71     314.43  316.20        314.90   \n",
              "\n",
              "    CO2.1     seasonally.2  Sta  \n",
              "0  filled  adjusted filled  NaN  \n",
              "1   [ppm]            [ppm]  NaN  \n",
              "2  -99.99           -99.99  MLO  \n",
              "3  -99.99           -99.99  MLO  \n",
              "4  315.71           314.43  MLO  "
            ]
          },
          "execution_count": 94,
          "metadata": {},
          "output_type": "execute_result"
        }
      ],
      "source": [
        "df = pd.read_csv(data_url,skipinitialspace=True,comment='\"')\n",
        "df.head()"
      ]
    },
    {
      "cell_type": "markdown",
      "id": "b119b3a2",
      "metadata": {
        "id": "b119b3a2"
      },
      "source": [
        "### To plot, want the decimal date (col 4) along with CO2 (col 5) and CO2 fit (col 7)\n",
        "Due to the column headers spread over 3 lines and the top line repeating col names, pandas denotes the identical string with a subscript."
      ]
    },
    {
      "cell_type": "markdown",
      "id": "f321f835",
      "metadata": {
        "id": "f321f835"
      },
      "source": [
        "### Rename columns for Pandas and the user"
      ]
    },
    {
      "cell_type": "code",
      "execution_count": 95,
      "id": "5b2e9425",
      "metadata": {
        "colab": {
          "base_uri": "https://localhost:8080/",
          "height": 206
        },
        "id": "5b2e9425",
        "outputId": "9011a490-278e-496c-a136-625438ab735c"
      },
      "outputs": [
        {
          "data": {
            "text/html": [
              "\n",
              "  <div id=\"df-03d299a5-ffd4-4350-8a28-bf5caaecca92\">\n",
              "    <div class=\"colab-df-container\">\n",
              "      <div>\n",
              "<style scoped>\n",
              "    .dataframe tbody tr th:only-of-type {\n",
              "        vertical-align: middle;\n",
              "    }\n",
              "\n",
              "    .dataframe tbody tr th {\n",
              "        vertical-align: top;\n",
              "    }\n",
              "\n",
              "    .dataframe thead th {\n",
              "        text-align: right;\n",
              "    }\n",
              "</style>\n",
              "<table border=\"1\" class=\"dataframe\">\n",
              "  <thead>\n",
              "    <tr style=\"text-align: right;\">\n",
              "      <th></th>\n",
              "      <th>year</th>\n",
              "      <th>month</th>\n",
              "      <th>excel_date</th>\n",
              "      <th>dec_date</th>\n",
              "      <th>co2</th>\n",
              "      <th>co2_seasonal</th>\n",
              "      <th>co2_fit</th>\n",
              "      <th>co2_seasonal_fit</th>\n",
              "      <th>co2_filled</th>\n",
              "      <th>co2_seasonal_filled</th>\n",
              "      <th>Sta</th>\n",
              "    </tr>\n",
              "  </thead>\n",
              "  <tbody>\n",
              "    <tr>\n",
              "      <th>0</th>\n",
              "      <td>NaN</td>\n",
              "      <td>NaN</td>\n",
              "      <td>NaN</td>\n",
              "      <td>NaN</td>\n",
              "      <td>NaN</td>\n",
              "      <td>adjusted</td>\n",
              "      <td>NaN</td>\n",
              "      <td>adjusted fit</td>\n",
              "      <td>filled</td>\n",
              "      <td>adjusted filled</td>\n",
              "      <td>NaN</td>\n",
              "    </tr>\n",
              "    <tr>\n",
              "      <th>1</th>\n",
              "      <td>NaN</td>\n",
              "      <td>NaN</td>\n",
              "      <td>Excel</td>\n",
              "      <td>NaN</td>\n",
              "      <td>[ppm]</td>\n",
              "      <td>[ppm]</td>\n",
              "      <td>[ppm]</td>\n",
              "      <td>[ppm]</td>\n",
              "      <td>[ppm]</td>\n",
              "      <td>[ppm]</td>\n",
              "      <td>NaN</td>\n",
              "    </tr>\n",
              "    <tr>\n",
              "      <th>2</th>\n",
              "      <td>1958.0</td>\n",
              "      <td>1.0</td>\n",
              "      <td>21200</td>\n",
              "      <td>1958.0411</td>\n",
              "      <td>-99.99</td>\n",
              "      <td>-99.99</td>\n",
              "      <td>-99.99</td>\n",
              "      <td>-99.99</td>\n",
              "      <td>-99.99</td>\n",
              "      <td>-99.99</td>\n",
              "      <td>MLO</td>\n",
              "    </tr>\n",
              "    <tr>\n",
              "      <th>3</th>\n",
              "      <td>1958.0</td>\n",
              "      <td>2.0</td>\n",
              "      <td>21231</td>\n",
              "      <td>1958.1260</td>\n",
              "      <td>-99.99</td>\n",
              "      <td>-99.99</td>\n",
              "      <td>-99.99</td>\n",
              "      <td>-99.99</td>\n",
              "      <td>-99.99</td>\n",
              "      <td>-99.99</td>\n",
              "      <td>MLO</td>\n",
              "    </tr>\n",
              "    <tr>\n",
              "      <th>4</th>\n",
              "      <td>1958.0</td>\n",
              "      <td>3.0</td>\n",
              "      <td>21259</td>\n",
              "      <td>1958.2027</td>\n",
              "      <td>315.71</td>\n",
              "      <td>314.43</td>\n",
              "      <td>316.20</td>\n",
              "      <td>314.90</td>\n",
              "      <td>315.71</td>\n",
              "      <td>314.43</td>\n",
              "      <td>MLO</td>\n",
              "    </tr>\n",
              "  </tbody>\n",
              "</table>\n",
              "</div>\n",
              "      <button class=\"colab-df-convert\" onclick=\"convertToInteractive('df-03d299a5-ffd4-4350-8a28-bf5caaecca92')\"\n",
              "              title=\"Convert this dataframe to an interactive table.\"\n",
              "              style=\"display:none;\">\n",
              "        \n",
              "  <svg xmlns=\"http://www.w3.org/2000/svg\" height=\"24px\"viewBox=\"0 0 24 24\"\n",
              "       width=\"24px\">\n",
              "    <path d=\"M0 0h24v24H0V0z\" fill=\"none\"/>\n",
              "    <path d=\"M18.56 5.44l.94 2.06.94-2.06 2.06-.94-2.06-.94-.94-2.06-.94 2.06-2.06.94zm-11 1L8.5 8.5l.94-2.06 2.06-.94-2.06-.94L8.5 2.5l-.94 2.06-2.06.94zm10 10l.94 2.06.94-2.06 2.06-.94-2.06-.94-.94-2.06-.94 2.06-2.06.94z\"/><path d=\"M17.41 7.96l-1.37-1.37c-.4-.4-.92-.59-1.43-.59-.52 0-1.04.2-1.43.59L10.3 9.45l-7.72 7.72c-.78.78-.78 2.05 0 2.83L4 21.41c.39.39.9.59 1.41.59.51 0 1.02-.2 1.41-.59l7.78-7.78 2.81-2.81c.8-.78.8-2.07 0-2.86zM5.41 20L4 18.59l7.72-7.72 1.47 1.35L5.41 20z\"/>\n",
              "  </svg>\n",
              "      </button>\n",
              "      \n",
              "  <style>\n",
              "    .colab-df-container {\n",
              "      display:flex;\n",
              "      flex-wrap:wrap;\n",
              "      gap: 12px;\n",
              "    }\n",
              "\n",
              "    .colab-df-convert {\n",
              "      background-color: #E8F0FE;\n",
              "      border: none;\n",
              "      border-radius: 50%;\n",
              "      cursor: pointer;\n",
              "      display: none;\n",
              "      fill: #1967D2;\n",
              "      height: 32px;\n",
              "      padding: 0 0 0 0;\n",
              "      width: 32px;\n",
              "    }\n",
              "\n",
              "    .colab-df-convert:hover {\n",
              "      background-color: #E2EBFA;\n",
              "      box-shadow: 0px 1px 2px rgba(60, 64, 67, 0.3), 0px 1px 3px 1px rgba(60, 64, 67, 0.15);\n",
              "      fill: #174EA6;\n",
              "    }\n",
              "\n",
              "    [theme=dark] .colab-df-convert {\n",
              "      background-color: #3B4455;\n",
              "      fill: #D2E3FC;\n",
              "    }\n",
              "\n",
              "    [theme=dark] .colab-df-convert:hover {\n",
              "      background-color: #434B5C;\n",
              "      box-shadow: 0px 1px 3px 1px rgba(0, 0, 0, 0.15);\n",
              "      filter: drop-shadow(0px 1px 2px rgba(0, 0, 0, 0.3));\n",
              "      fill: #FFFFFF;\n",
              "    }\n",
              "  </style>\n",
              "\n",
              "      <script>\n",
              "        const buttonEl =\n",
              "          document.querySelector('#df-03d299a5-ffd4-4350-8a28-bf5caaecca92 button.colab-df-convert');\n",
              "        buttonEl.style.display =\n",
              "          google.colab.kernel.accessAllowed ? 'block' : 'none';\n",
              "\n",
              "        async function convertToInteractive(key) {\n",
              "          const element = document.querySelector('#df-03d299a5-ffd4-4350-8a28-bf5caaecca92');\n",
              "          const dataTable =\n",
              "            await google.colab.kernel.invokeFunction('convertToInteractive',\n",
              "                                                     [key], {});\n",
              "          if (!dataTable) return;\n",
              "\n",
              "          const docLinkHtml = 'Like what you see? Visit the ' +\n",
              "            '<a target=\"_blank\" href=https://colab.research.google.com/notebooks/data_table.ipynb>data table notebook</a>'\n",
              "            + ' to learn more about interactive tables.';\n",
              "          element.innerHTML = '';\n",
              "          dataTable['output_type'] = 'display_data';\n",
              "          await google.colab.output.renderOutput(dataTable, element);\n",
              "          const docLink = document.createElement('div');\n",
              "          docLink.innerHTML = docLinkHtml;\n",
              "          element.appendChild(docLink);\n",
              "        }\n",
              "      </script>\n",
              "    </div>\n",
              "  </div>\n",
              "  "
            ],
            "text/plain": [
              "     year  month excel_date   dec_date     co2 co2_seasonal co2_fit  \\\n",
              "0     NaN    NaN        NaN        NaN     NaN     adjusted     NaN   \n",
              "1     NaN    NaN      Excel        NaN   [ppm]       [ppm]    [ppm]   \n",
              "2  1958.0    1.0      21200  1958.0411  -99.99       -99.99  -99.99   \n",
              "3  1958.0    2.0      21231  1958.1260  -99.99       -99.99  -99.99   \n",
              "4  1958.0    3.0      21259  1958.2027  315.71       314.43  316.20   \n",
              "\n",
              "  co2_seasonal_fit co2_filled co2_seasonal_filled  Sta  \n",
              "0     adjusted fit     filled     adjusted filled  NaN  \n",
              "1            [ppm]      [ppm]               [ppm]  NaN  \n",
              "2           -99.99     -99.99              -99.99  MLO  \n",
              "3           -99.99     -99.99              -99.99  MLO  \n",
              "4           314.90     315.71              314.43  MLO  "
            ]
          },
          "execution_count": 95,
          "metadata": {},
          "output_type": "execute_result"
        }
      ],
      "source": [
        "col_mapping ={df.columns[0]:'year', df.columns[1]: 'month', df.columns[2]: 'excel_date', \n",
        "              df.columns[3]: 'dec_date', df.columns[4]: 'co2', df.columns[5]: 'co2_seasonal',\n",
        "              df.columns[6]: 'co2_fit', df.columns[7]: 'co2_seasonal_fit', \n",
        "              df.columns[8]:'co2_filled', df.columns[9]: 'co2_seasonal_filled',\n",
        "              df.columns[10]: 'Sta'}\n",
        "\n",
        "# col_mapping ={df.columns[0]:'year', df.columns[1]: 'month', df.columns[2]: 'excel_date', \n",
        "#               df.columns[3]: 'dec_date', df.columns[4]: 'co2', df.columns[5]: 'co2_seasonal',\n",
        "#               df.columns[6]: 'co2_fit', df.columns[7]: 'co2_seasonal_fit', \n",
        "#               df.columns[8]:'co2_filled', df.columns[9]: 'co2_seasonal_filled'}\n",
        "\n",
        "df = df.rename(columns=col_mapping)\n",
        "df.head()\n"
      ]
    },
    {
      "cell_type": "markdown",
      "id": "938561dc",
      "metadata": {
        "id": "938561dc"
      },
      "source": [
        "### Remove the first two column descriptor lines"
      ]
    },
    {
      "cell_type": "code",
      "execution_count": 96,
      "id": "1b12826c",
      "metadata": {
        "colab": {
          "base_uri": "https://localhost:8080/",
          "height": 206
        },
        "id": "1b12826c",
        "outputId": "5b81783f-aa37-4429-99f1-f32d065da488"
      },
      "outputs": [
        {
          "data": {
            "text/html": [
              "\n",
              "  <div id=\"df-90d63ac1-724a-46b3-be75-8f7f3261a141\">\n",
              "    <div class=\"colab-df-container\">\n",
              "      <div>\n",
              "<style scoped>\n",
              "    .dataframe tbody tr th:only-of-type {\n",
              "        vertical-align: middle;\n",
              "    }\n",
              "\n",
              "    .dataframe tbody tr th {\n",
              "        vertical-align: top;\n",
              "    }\n",
              "\n",
              "    .dataframe thead th {\n",
              "        text-align: right;\n",
              "    }\n",
              "</style>\n",
              "<table border=\"1\" class=\"dataframe\">\n",
              "  <thead>\n",
              "    <tr style=\"text-align: right;\">\n",
              "      <th></th>\n",
              "      <th>year</th>\n",
              "      <th>month</th>\n",
              "      <th>excel_date</th>\n",
              "      <th>dec_date</th>\n",
              "      <th>co2</th>\n",
              "      <th>co2_seasonal</th>\n",
              "      <th>co2_fit</th>\n",
              "      <th>co2_seasonal_fit</th>\n",
              "      <th>co2_filled</th>\n",
              "      <th>co2_seasonal_filled</th>\n",
              "      <th>Sta</th>\n",
              "    </tr>\n",
              "  </thead>\n",
              "  <tbody>\n",
              "    <tr>\n",
              "      <th>0</th>\n",
              "      <td>1958.0</td>\n",
              "      <td>1.0</td>\n",
              "      <td>21200</td>\n",
              "      <td>1958.0411</td>\n",
              "      <td>-99.99</td>\n",
              "      <td>-99.99</td>\n",
              "      <td>-99.99</td>\n",
              "      <td>-99.99</td>\n",
              "      <td>-99.99</td>\n",
              "      <td>-99.99</td>\n",
              "      <td>MLO</td>\n",
              "    </tr>\n",
              "    <tr>\n",
              "      <th>1</th>\n",
              "      <td>1958.0</td>\n",
              "      <td>2.0</td>\n",
              "      <td>21231</td>\n",
              "      <td>1958.1260</td>\n",
              "      <td>-99.99</td>\n",
              "      <td>-99.99</td>\n",
              "      <td>-99.99</td>\n",
              "      <td>-99.99</td>\n",
              "      <td>-99.99</td>\n",
              "      <td>-99.99</td>\n",
              "      <td>MLO</td>\n",
              "    </tr>\n",
              "    <tr>\n",
              "      <th>2</th>\n",
              "      <td>1958.0</td>\n",
              "      <td>3.0</td>\n",
              "      <td>21259</td>\n",
              "      <td>1958.2027</td>\n",
              "      <td>315.71</td>\n",
              "      <td>314.43</td>\n",
              "      <td>316.20</td>\n",
              "      <td>314.90</td>\n",
              "      <td>315.71</td>\n",
              "      <td>314.43</td>\n",
              "      <td>MLO</td>\n",
              "    </tr>\n",
              "    <tr>\n",
              "      <th>3</th>\n",
              "      <td>1958.0</td>\n",
              "      <td>4.0</td>\n",
              "      <td>21290</td>\n",
              "      <td>1958.2877</td>\n",
              "      <td>317.45</td>\n",
              "      <td>315.16</td>\n",
              "      <td>317.30</td>\n",
              "      <td>314.98</td>\n",
              "      <td>317.45</td>\n",
              "      <td>315.16</td>\n",
              "      <td>MLO</td>\n",
              "    </tr>\n",
              "    <tr>\n",
              "      <th>4</th>\n",
              "      <td>1958.0</td>\n",
              "      <td>5.0</td>\n",
              "      <td>21320</td>\n",
              "      <td>1958.3699</td>\n",
              "      <td>317.51</td>\n",
              "      <td>314.70</td>\n",
              "      <td>317.87</td>\n",
              "      <td>315.06</td>\n",
              "      <td>317.51</td>\n",
              "      <td>314.70</td>\n",
              "      <td>MLO</td>\n",
              "    </tr>\n",
              "  </tbody>\n",
              "</table>\n",
              "</div>\n",
              "      <button class=\"colab-df-convert\" onclick=\"convertToInteractive('df-90d63ac1-724a-46b3-be75-8f7f3261a141')\"\n",
              "              title=\"Convert this dataframe to an interactive table.\"\n",
              "              style=\"display:none;\">\n",
              "        \n",
              "  <svg xmlns=\"http://www.w3.org/2000/svg\" height=\"24px\"viewBox=\"0 0 24 24\"\n",
              "       width=\"24px\">\n",
              "    <path d=\"M0 0h24v24H0V0z\" fill=\"none\"/>\n",
              "    <path d=\"M18.56 5.44l.94 2.06.94-2.06 2.06-.94-2.06-.94-.94-2.06-.94 2.06-2.06.94zm-11 1L8.5 8.5l.94-2.06 2.06-.94-2.06-.94L8.5 2.5l-.94 2.06-2.06.94zm10 10l.94 2.06.94-2.06 2.06-.94-2.06-.94-.94-2.06-.94 2.06-2.06.94z\"/><path d=\"M17.41 7.96l-1.37-1.37c-.4-.4-.92-.59-1.43-.59-.52 0-1.04.2-1.43.59L10.3 9.45l-7.72 7.72c-.78.78-.78 2.05 0 2.83L4 21.41c.39.39.9.59 1.41.59.51 0 1.02-.2 1.41-.59l7.78-7.78 2.81-2.81c.8-.78.8-2.07 0-2.86zM5.41 20L4 18.59l7.72-7.72 1.47 1.35L5.41 20z\"/>\n",
              "  </svg>\n",
              "      </button>\n",
              "      \n",
              "  <style>\n",
              "    .colab-df-container {\n",
              "      display:flex;\n",
              "      flex-wrap:wrap;\n",
              "      gap: 12px;\n",
              "    }\n",
              "\n",
              "    .colab-df-convert {\n",
              "      background-color: #E8F0FE;\n",
              "      border: none;\n",
              "      border-radius: 50%;\n",
              "      cursor: pointer;\n",
              "      display: none;\n",
              "      fill: #1967D2;\n",
              "      height: 32px;\n",
              "      padding: 0 0 0 0;\n",
              "      width: 32px;\n",
              "    }\n",
              "\n",
              "    .colab-df-convert:hover {\n",
              "      background-color: #E2EBFA;\n",
              "      box-shadow: 0px 1px 2px rgba(60, 64, 67, 0.3), 0px 1px 3px 1px rgba(60, 64, 67, 0.15);\n",
              "      fill: #174EA6;\n",
              "    }\n",
              "\n",
              "    [theme=dark] .colab-df-convert {\n",
              "      background-color: #3B4455;\n",
              "      fill: #D2E3FC;\n",
              "    }\n",
              "\n",
              "    [theme=dark] .colab-df-convert:hover {\n",
              "      background-color: #434B5C;\n",
              "      box-shadow: 0px 1px 3px 1px rgba(0, 0, 0, 0.15);\n",
              "      filter: drop-shadow(0px 1px 2px rgba(0, 0, 0, 0.3));\n",
              "      fill: #FFFFFF;\n",
              "    }\n",
              "  </style>\n",
              "\n",
              "      <script>\n",
              "        const buttonEl =\n",
              "          document.querySelector('#df-90d63ac1-724a-46b3-be75-8f7f3261a141 button.colab-df-convert');\n",
              "        buttonEl.style.display =\n",
              "          google.colab.kernel.accessAllowed ? 'block' : 'none';\n",
              "\n",
              "        async function convertToInteractive(key) {\n",
              "          const element = document.querySelector('#df-90d63ac1-724a-46b3-be75-8f7f3261a141');\n",
              "          const dataTable =\n",
              "            await google.colab.kernel.invokeFunction('convertToInteractive',\n",
              "                                                     [key], {});\n",
              "          if (!dataTable) return;\n",
              "\n",
              "          const docLinkHtml = 'Like what you see? Visit the ' +\n",
              "            '<a target=\"_blank\" href=https://colab.research.google.com/notebooks/data_table.ipynb>data table notebook</a>'\n",
              "            + ' to learn more about interactive tables.';\n",
              "          element.innerHTML = '';\n",
              "          dataTable['output_type'] = 'display_data';\n",
              "          await google.colab.output.renderOutput(dataTable, element);\n",
              "          const docLink = document.createElement('div');\n",
              "          docLink.innerHTML = docLinkHtml;\n",
              "          element.appendChild(docLink);\n",
              "        }\n",
              "      </script>\n",
              "    </div>\n",
              "  </div>\n",
              "  "
            ],
            "text/plain": [
              "     year  month excel_date   dec_date     co2 co2_seasonal co2_fit  \\\n",
              "0  1958.0    1.0      21200  1958.0411  -99.99       -99.99  -99.99   \n",
              "1  1958.0    2.0      21231  1958.1260  -99.99       -99.99  -99.99   \n",
              "2  1958.0    3.0      21259  1958.2027  315.71       314.43  316.20   \n",
              "3  1958.0    4.0      21290  1958.2877  317.45       315.16  317.30   \n",
              "4  1958.0    5.0      21320  1958.3699  317.51       314.70  317.87   \n",
              "\n",
              "  co2_seasonal_fit co2_filled co2_seasonal_filled  Sta  \n",
              "0           -99.99     -99.99              -99.99  MLO  \n",
              "1           -99.99     -99.99              -99.99  MLO  \n",
              "2           314.90     315.71              314.43  MLO  \n",
              "3           314.98     317.45              315.16  MLO  \n",
              "4           315.06     317.51              314.70  MLO  "
            ]
          },
          "execution_count": 96,
          "metadata": {},
          "output_type": "execute_result"
        }
      ],
      "source": [
        "df = df.iloc[2:]\n",
        "\n",
        "# Reindex to start at 0\n",
        "df = df.reset_index(drop=True)\n",
        "df.head()"
      ]
    },
    {
      "cell_type": "markdown",
      "id": "a65c87cc",
      "metadata": {
        "id": "a65c87cc"
      },
      "source": [
        "### Break into dataframes for MLO and MKO stations\n",
        "\n",
        "The decimal date is the midpoint of each month for the monthly record"
      ]
    },
    {
      "cell_type": "code",
      "execution_count": 97,
      "id": "94ecf12c",
      "metadata": {
        "id": "94ecf12c"
      },
      "outputs": [],
      "source": [
        "df_mlo_subset = df[df['Sta'] == 'MLO']\n",
        "df_mko_subset = df[df['Sta'] == 'MKO']\n",
        "\n",
        "# df_mlo_subset_start = df[df['dec_date'] < mko_decimal_start_date]\n",
        "# df_mlo_subset_end = df[df['dec_date'] > mko_decimal_end_date]\n",
        "# df_mlo_subset = pd.concat([df_mlo_subset_start, df_mlo_subset_end])\n",
        "\n",
        "# df_mko_subset = df[(df['dec_date'] >= mko_decimal_start_date) & (df['dec_date'] <= mko_decimal_end_date)]\n",
        "\n",
        "df_mlo = df_mlo_subset[['dec_date', 'co2']].copy()\n",
        "df_mlo_spline = df_mlo_subset[['dec_date', 'co2_fit']].copy()\n",
        "\n",
        "df_mko = df_mko_subset[['dec_date', 'co2']].copy()\n",
        "df_mko_spline = df_mko_subset[['dec_date', 'co2_fit']].copy()\n"
      ]
    },
    {
      "cell_type": "code",
      "execution_count": 98,
      "id": "3e3d0583",
      "metadata": {
        "colab": {
          "base_uri": "https://localhost:8080/",
          "height": 457
        },
        "id": "3e3d0583",
        "outputId": "d94ca1f3-d8e7-46c4-b359-a2026e8f3941"
      },
      "outputs": [
        {
          "data": {
            "text/html": [
              "\n",
              "  <div id=\"df-f71e7079-6203-4825-878f-2b845e71f7ce\">\n",
              "    <div class=\"colab-df-container\">\n",
              "      <div>\n",
              "<style scoped>\n",
              "    .dataframe tbody tr th:only-of-type {\n",
              "        vertical-align: middle;\n",
              "    }\n",
              "\n",
              "    .dataframe tbody tr th {\n",
              "        vertical-align: top;\n",
              "    }\n",
              "\n",
              "    .dataframe thead th {\n",
              "        text-align: right;\n",
              "    }\n",
              "</style>\n",
              "<table border=\"1\" class=\"dataframe\">\n",
              "  <thead>\n",
              "    <tr style=\"text-align: right;\">\n",
              "      <th></th>\n",
              "      <th>dec_date</th>\n",
              "      <th>co2_fit</th>\n",
              "    </tr>\n",
              "  </thead>\n",
              "  <tbody>\n",
              "    <tr>\n",
              "      <th>779</th>\n",
              "      <td>2022.9562</td>\n",
              "      <td>418.31</td>\n",
              "    </tr>\n",
              "    <tr>\n",
              "      <th>780</th>\n",
              "      <td>2023.0411</td>\n",
              "      <td>-99.99</td>\n",
              "    </tr>\n",
              "    <tr>\n",
              "      <th>781</th>\n",
              "      <td>2023.1260</td>\n",
              "      <td>-99.99</td>\n",
              "    </tr>\n",
              "    <tr>\n",
              "      <th>782</th>\n",
              "      <td>2023.2027</td>\n",
              "      <td>-99.99</td>\n",
              "    </tr>\n",
              "    <tr>\n",
              "      <th>783</th>\n",
              "      <td>2023.2877</td>\n",
              "      <td>-99.99</td>\n",
              "    </tr>\n",
              "    <tr>\n",
              "      <th>784</th>\n",
              "      <td>2023.3699</td>\n",
              "      <td>-99.99</td>\n",
              "    </tr>\n",
              "    <tr>\n",
              "      <th>785</th>\n",
              "      <td>2023.4548</td>\n",
              "      <td>-99.99</td>\n",
              "    </tr>\n",
              "    <tr>\n",
              "      <th>786</th>\n",
              "      <td>2023.5370</td>\n",
              "      <td>-99.99</td>\n",
              "    </tr>\n",
              "    <tr>\n",
              "      <th>787</th>\n",
              "      <td>2023.6219</td>\n",
              "      <td>-99.99</td>\n",
              "    </tr>\n",
              "    <tr>\n",
              "      <th>788</th>\n",
              "      <td>2023.7068</td>\n",
              "      <td>-99.99</td>\n",
              "    </tr>\n",
              "    <tr>\n",
              "      <th>789</th>\n",
              "      <td>2023.7890</td>\n",
              "      <td>-99.99</td>\n",
              "    </tr>\n",
              "    <tr>\n",
              "      <th>790</th>\n",
              "      <td>2023.8740</td>\n",
              "      <td>-99.99</td>\n",
              "    </tr>\n",
              "    <tr>\n",
              "      <th>791</th>\n",
              "      <td>2023.9562</td>\n",
              "      <td>-99.99</td>\n",
              "    </tr>\n",
              "  </tbody>\n",
              "</table>\n",
              "</div>\n",
              "      <button class=\"colab-df-convert\" onclick=\"convertToInteractive('df-f71e7079-6203-4825-878f-2b845e71f7ce')\"\n",
              "              title=\"Convert this dataframe to an interactive table.\"\n",
              "              style=\"display:none;\">\n",
              "        \n",
              "  <svg xmlns=\"http://www.w3.org/2000/svg\" height=\"24px\"viewBox=\"0 0 24 24\"\n",
              "       width=\"24px\">\n",
              "    <path d=\"M0 0h24v24H0V0z\" fill=\"none\"/>\n",
              "    <path d=\"M18.56 5.44l.94 2.06.94-2.06 2.06-.94-2.06-.94-.94-2.06-.94 2.06-2.06.94zm-11 1L8.5 8.5l.94-2.06 2.06-.94-2.06-.94L8.5 2.5l-.94 2.06-2.06.94zm10 10l.94 2.06.94-2.06 2.06-.94-2.06-.94-.94-2.06-.94 2.06-2.06.94z\"/><path d=\"M17.41 7.96l-1.37-1.37c-.4-.4-.92-.59-1.43-.59-.52 0-1.04.2-1.43.59L10.3 9.45l-7.72 7.72c-.78.78-.78 2.05 0 2.83L4 21.41c.39.39.9.59 1.41.59.51 0 1.02-.2 1.41-.59l7.78-7.78 2.81-2.81c.8-.78.8-2.07 0-2.86zM5.41 20L4 18.59l7.72-7.72 1.47 1.35L5.41 20z\"/>\n",
              "  </svg>\n",
              "      </button>\n",
              "      \n",
              "  <style>\n",
              "    .colab-df-container {\n",
              "      display:flex;\n",
              "      flex-wrap:wrap;\n",
              "      gap: 12px;\n",
              "    }\n",
              "\n",
              "    .colab-df-convert {\n",
              "      background-color: #E8F0FE;\n",
              "      border: none;\n",
              "      border-radius: 50%;\n",
              "      cursor: pointer;\n",
              "      display: none;\n",
              "      fill: #1967D2;\n",
              "      height: 32px;\n",
              "      padding: 0 0 0 0;\n",
              "      width: 32px;\n",
              "    }\n",
              "\n",
              "    .colab-df-convert:hover {\n",
              "      background-color: #E2EBFA;\n",
              "      box-shadow: 0px 1px 2px rgba(60, 64, 67, 0.3), 0px 1px 3px 1px rgba(60, 64, 67, 0.15);\n",
              "      fill: #174EA6;\n",
              "    }\n",
              "\n",
              "    [theme=dark] .colab-df-convert {\n",
              "      background-color: #3B4455;\n",
              "      fill: #D2E3FC;\n",
              "    }\n",
              "\n",
              "    [theme=dark] .colab-df-convert:hover {\n",
              "      background-color: #434B5C;\n",
              "      box-shadow: 0px 1px 3px 1px rgba(0, 0, 0, 0.15);\n",
              "      filter: drop-shadow(0px 1px 2px rgba(0, 0, 0, 0.3));\n",
              "      fill: #FFFFFF;\n",
              "    }\n",
              "  </style>\n",
              "\n",
              "      <script>\n",
              "        const buttonEl =\n",
              "          document.querySelector('#df-f71e7079-6203-4825-878f-2b845e71f7ce button.colab-df-convert');\n",
              "        buttonEl.style.display =\n",
              "          google.colab.kernel.accessAllowed ? 'block' : 'none';\n",
              "\n",
              "        async function convertToInteractive(key) {\n",
              "          const element = document.querySelector('#df-f71e7079-6203-4825-878f-2b845e71f7ce');\n",
              "          const dataTable =\n",
              "            await google.colab.kernel.invokeFunction('convertToInteractive',\n",
              "                                                     [key], {});\n",
              "          if (!dataTable) return;\n",
              "\n",
              "          const docLinkHtml = 'Like what you see? Visit the ' +\n",
              "            '<a target=\"_blank\" href=https://colab.research.google.com/notebooks/data_table.ipynb>data table notebook</a>'\n",
              "            + ' to learn more about interactive tables.';\n",
              "          element.innerHTML = '';\n",
              "          dataTable['output_type'] = 'display_data';\n",
              "          await google.colab.output.renderOutput(dataTable, element);\n",
              "          const docLink = document.createElement('div');\n",
              "          docLink.innerHTML = docLinkHtml;\n",
              "          element.appendChild(docLink);\n",
              "        }\n",
              "      </script>\n",
              "    </div>\n",
              "  </div>\n",
              "  "
            ],
            "text/plain": [
              "      dec_date co2_fit\n",
              "779  2022.9562  418.31\n",
              "780  2023.0411  -99.99\n",
              "781  2023.1260  -99.99\n",
              "782  2023.2027  -99.99\n",
              "783  2023.2877  -99.99\n",
              "784  2023.3699  -99.99\n",
              "785  2023.4548  -99.99\n",
              "786  2023.5370  -99.99\n",
              "787  2023.6219  -99.99\n",
              "788  2023.7068  -99.99\n",
              "789  2023.7890  -99.99\n",
              "790  2023.8740  -99.99\n",
              "791  2023.9562  -99.99"
            ]
          },
          "execution_count": 98,
          "metadata": {},
          "output_type": "execute_result"
        }
      ],
      "source": [
        "df_mko_spline"
      ]
    },
    {
      "cell_type": "markdown",
      "id": "7cb4da59",
      "metadata": {
        "id": "7cb4da59"
      },
      "source": [
        "### Get dates when MKO data used\n",
        "\n",
        "Will use these date boundaries when plotting MLO to not plot a fit line through the data when there is a gap"
      ]
    },
    {
      "cell_type": "code",
      "execution_count": 99,
      "id": "b1e69dc5",
      "metadata": {
        "id": "b1e69dc5"
      },
      "outputs": [],
      "source": [
        "# Hardcode in the MKO dates to plot that are in the MLO gap\n",
        "\n",
        "#Do this until I write code about finding gaps\n",
        "\n",
        "mko_decimal_start_date = 2022.9562 # Dec\n",
        "mko_decimal_end_date = 2023.126 # Feb\n"
      ]
    },
    {
      "cell_type": "markdown",
      "id": "539f5970",
      "metadata": {
        "id": "539f5970"
      },
      "source": [
        "### Convert columns into decimals\n",
        "\n",
        "This is because there were string values in the columns when they were initially read into the dataframe"
      ]
    },
    {
      "cell_type": "code",
      "execution_count": 100,
      "id": "8d721037",
      "metadata": {
        "id": "8d721037"
      },
      "outputs": [],
      "source": [
        "df_mlo = df_mlo.apply(pd.to_numeric)\n",
        "df_mlo_spline = df_mlo_spline.apply(pd.to_numeric)\n",
        "\n",
        "df_mko = df_mko.apply(pd.to_numeric)\n",
        "df_mko_spline = df_mko_spline.apply(pd.to_numeric)\n"
      ]
    },
    {
      "cell_type": "markdown",
      "id": "41250694",
      "metadata": {
        "id": "41250694"
      },
      "source": [
        "### Remove rows with fill values -99.99 or NaN"
      ]
    },
    {
      "cell_type": "code",
      "execution_count": 101,
      "id": "4cb37533",
      "metadata": {
        "id": "4cb37533",
        "scrolled": true
      },
      "outputs": [],
      "source": [
        "df_mlo = df_mlo[df_mlo['co2'] != -99.99]\n",
        "df_mlo_spline = df_mlo_spline[df_mlo_spline['co2_fit'] != -99.99]\n",
        "\n",
        "df_mlo = df_mlo.dropna()\n",
        "df_mlo_spline = df_mlo_spline.dropna()\n",
        "\n",
        "df_mko = df_mko[df_mko['co2'] != -99.99]\n",
        "df_mko_spline = df_mko_spline[df_mko_spline['co2_fit'] != -99.99]\n",
        "\n",
        "df_mko = df_mko.dropna()\n",
        "df_mko_spline = df_mko_spline.dropna()"
      ]
    },
    {
      "cell_type": "markdown",
      "id": "d372982d",
      "metadata": {
        "id": "d372982d"
      },
      "source": [
        "### Convert to numpy arrays for plotting"
      ]
    },
    {
      "cell_type": "code",
      "execution_count": 102,
      "id": "2c90094f",
      "metadata": {
        "id": "2c90094f"
      },
      "outputs": [],
      "source": [
        "date_mlo = df_mlo['dec_date'].to_numpy()\n",
        "co2_mlo = df_mlo['co2'].to_numpy()\n",
        "\n",
        "date_spline_mlo = df_mlo_spline['dec_date'].to_numpy()\n",
        "co2_spline_mlo = df_mlo_spline['co2_fit'].to_numpy()\n",
        "\n",
        "date_mko = df_mko['dec_date'].to_numpy()\n",
        "co2_mko = df_mko['co2'].to_numpy()\n",
        "\n",
        "date_spline_mko = df_mko_spline['dec_date'].to_numpy()\n",
        "co2_spline_mko = df_mko_spline['co2_fit'].to_numpy()"
      ]
    },
    {
      "cell_type": "markdown",
      "id": "99f59b8d",
      "metadata": {
        "id": "99f59b8d"
      },
      "source": [
        "## Define Plot Functions"
      ]
    },
    {
      "cell_type": "code",
      "execution_count": 103,
      "id": "5f98062d",
      "metadata": {
        "id": "5f98062d"
      },
      "outputs": [],
      "source": [
        "def set_matplotlib_properties():\n",
        "    \n",
        "    # Set default properties for matplotlib\n",
        "    \n",
        "    # Reset rcparams in case modified defaults in another notebook during same session \n",
        "    plt.rcParams.update(plt.rcParamsDefault)\n",
        "\n",
        "    plt.rcParams.update({'axes.linewidth':1.5})\n",
        "    \n",
        "    plt.rcParams.update({\n",
        "        \"text.usetex\": False,\n",
        "        \"font.family\": \"sans-serif\",\n",
        "        \"font.weight\":  \"normal\",\n",
        "        \"font.sans-serif\": [\"Arial\", \"Tahoma\", \"Helvetica\",\"FreeSans\", \"NimbusSans\", \"LiberationSans\",\"DejaVu Sans\"],\n",
        "        \"mathtext.default\":'regular',\n",
        "        \"mathtext.fontset\": \"dejavusans\"\n",
        "    })\n",
        "        \n",
        "    # http://phyletica.org/matplotlib-fonts/\n",
        "    # This causes matplotlib to use Type 42 (a.k.a. TrueType) fonts \n",
        "    # for PostScript and PDF files. This allows you to avoid Type 3 fonts.\n",
        "    # Turning on usetex also works\n",
        "    # Needed on Ubuntu for pdf fonts \n",
        "    plt.rcParams.update({\n",
        "      'pdf.fonttype': 42,\n",
        "        'ps.fonttype': 42 \n",
        "    })"
      ]
    },
    {
      "cell_type": "code",
      "execution_count": 104,
      "id": "ad4ddae6",
      "metadata": {
        "id": "ad4ddae6"
      },
      "outputs": [],
      "source": [
        "def set_website_plot_props(ax, fig, xmin, xmax, ymin, ymax, xlabel, ylabel):\n",
        "\n",
        "\n",
        "    # ------------------------------------\n",
        "    # Set properties to use for matplotlib\n",
        "    # ------------------------------------\n",
        "    \n",
        "    set_matplotlib_properties()\n",
        "\n",
        "\n",
        "    # ---------------------------------\n",
        "    # Plot properties for website plots\n",
        "    # ---------------------------------\n",
        "    \n",
        "    # Allow room at top for the titles\n",
        "    fig.subplots_adjust(top=0.85)\n",
        "\n",
        "    \n",
        "    ax.tick_params(which='both', bottom=True, top=True, left=True, right=True)\n",
        "\n",
        "    ax.tick_params(axis='x', labelsize=14)\n",
        "    ax.tick_params(axis='y', labelsize=16)\n",
        "\n",
        "    ax.tick_params(axis='x', which='major', direction='in', length=8, width=1)\n",
        "    ax.tick_params(axis='y', which='major', direction='in', length=8, width=1)\n",
        "\n",
        "    tick_spacing = 5\n",
        "    ax.xaxis.set_major_locator(ticker.MultipleLocator(tick_spacing))\n",
        "    \n",
        "    tick_spacing = 5\n",
        "    ax.yaxis.set_major_locator(ticker.MultipleLocator(tick_spacing))\n",
        "    \n",
        "    # Display every other y major tick label\n",
        "    for label in ax.yaxis.get_ticklabels()[::2]:\n",
        "        label.set_visible(False)\n",
        "\n",
        "    labels = ax.get_xticklabels() + ax.get_yticklabels()\n",
        "    for label in labels: label.set_fontweight('bold')\n",
        "\n",
        "    tick_length = 5\n",
        "    ax.tick_params(axis='x', which='minor', direction='in', length=tick_length)\n",
        "       \n",
        "    tick_length = 4\n",
        "    ax.tick_params(axis='y', which='minor', direction='in', length=tick_length)\n",
        "        \n",
        "    ax.xaxis.set_minor_locator(AutoMinorLocator(5))\n",
        "    ax.yaxis.set_minor_locator(AutoMinorLocator(5))\n",
        "     \n",
        "    ax.set_xlabel(xlabel, fontweight='bold', fontsize=21, labelpad=5)\n",
        "    ax.set_ylabel(ylabel, fontweight='bold', fontsize=21, labelpad=8)\n",
        "    \n",
        "    ax.set_xlim(xmin, xmax)\n",
        "    ax.set_ylim(ymin, ymax)"
      ]
    },
    {
      "cell_type": "code",
      "execution_count": 105,
      "id": "1abb0524",
      "metadata": {
        "id": "1abb0524"
      },
      "outputs": [],
      "source": [
        "def add_plot_title(ax, title1, title2, title3):\n",
        "\n",
        "    ax.annotate(title1, xy=(0, 1.15), xycoords='axes fraction', fontsize=21,\n",
        "                horizontalalignment='left', verticalalignment='top', fontweight=\"bold\")\n",
        "    ax.annotate(title2, xy=(0, 1.095), xycoords='axes fraction', fontsize=21,\n",
        "                horizontalalignment='left', verticalalignment='top', fontweight=\"bold\")\n",
        "     \n",
        "    ax.annotate(title3, xy=(0, 1.04), xycoords='axes fraction', fontsize=12,\n",
        "                horizontalalignment='left', verticalalignment='top', fontweight=\"normal\")"
      ]
    },
    {
      "cell_type": "code",
      "execution_count": 106,
      "id": "e7e01dc4",
      "metadata": {
        "id": "e7e01dc4"
      },
      "outputs": [],
      "source": [
        "def add_inset_label(ax, label_text):\n",
        "    blue = '#1e47b0'\n",
        "    ax.annotate(label_text, xy=(0.03, 0.95), xycoords='axes fraction', fontsize=12,\n",
        "                horizontalalignment='left', verticalalignment='top', fontweight=\"bold\", color=blue)"
      ]
    },
    {
      "cell_type": "code",
      "execution_count": 107,
      "id": "2d54d57f",
      "metadata": {
        "id": "2d54d57f"
      },
      "outputs": [],
      "source": [
        "def add_sio_logo(fig, logo_file, xpos, ypos):\n",
        "\n",
        "    # Convert the logo svg file to a png file with the\n",
        "    # given scale and dpi\n",
        "\n",
        "    logo_png = 'logo.png'\n",
        "\n",
        "    #logo_path = str(logo_file.resolve())\n",
        "    #svg2png(url=logo_path, write_to=logo_png, scale=10, dpi=300)\n",
        "    svg2png(url=logo_file, write_to=logo_png, scale=10, dpi=300)\n",
        "\n",
        "    logo = mpimg.imread(logo_png)\n",
        "\n",
        "    fig.add_axes([xpos, ypos, 0.2, 0.2], anchor='SE', zorder=1)\n",
        "\n",
        "    plt.imshow(logo)\n",
        "    plt.axis('off')\n",
        "\n",
        "    # Delete the logo png version\n",
        "    os.remove(logo_png)\n"
      ]
    },
    {
      "cell_type": "code",
      "execution_count": 108,
      "id": "b68ca3c4",
      "metadata": {
        "id": "b68ca3c4"
      },
      "outputs": [],
      "source": [
        "def save_plot_for_website(fig):\n",
        "\n",
        "    fig_width, fig_height = fig.get_size_inches()\n",
        "\n",
        "    # For pdf\n",
        "    width_in = 11\n",
        "    #height_in = 8.5\n",
        "    height_in = (fig_height/fig_width) * width_in\n",
        "\n",
        "    fig.set_size_inches(width_in, height_in)\n",
        "\n",
        "    plt.subplots_adjust(left=0.109, right=0.95, top=0.85, bottom=0.15)\n",
        "\n",
        "    # Save to a high dpi so that logo png file has a high resolution\n",
        "    fig.savefig(pdf_file, facecolor='w', edgecolor='w',\n",
        "                orientation='landscape', format=None,\n",
        "                transparent=False, bbox_inches='tight', dpi=600)\n",
        "\n",
        "    # Save png version\n",
        "    png_dpi = 300\n",
        "\n",
        "    fig.savefig(png_file, facecolor='w', edgecolor='w',\n",
        "                orientation='landscape', dpi=png_dpi, bbox_inches='tight')\n",
        "\n"
      ]
    },
    {
      "cell_type": "markdown",
      "id": "0004551f",
      "metadata": {
        "id": "0004551f"
      },
      "source": [
        "## Set plot limits and labeling"
      ]
    },
    {
      "cell_type": "markdown",
      "id": "056603d1",
      "metadata": {
        "id": "056603d1"
      },
      "source": [
        "### Functions to convert dates into various formats\n",
        "For plot limits and labeling"
      ]
    },
    {
      "cell_type": "code",
      "execution_count": 109,
      "id": "172d33d4",
      "metadata": {
        "id": "172d33d4"
      },
      "outputs": [],
      "source": [
        "# Function to convert datetime to a float\n",
        "def dt2t(adatetime):\n",
        "    \"\"\"\n",
        "    Convert adatetime into a float. The integer part of the float should\n",
        "    represent the year.\n",
        "    Order should be preserved. If adate<bdate, then d2t(adate)<d2t(bdate)\n",
        "    time distances should be preserved: If bdate-adate=ddate-cdate then\n",
        "    dt2t(bdate)-dt2t(adate) = dt2t(ddate)-dt2t(cdate)\n",
        "    \"\"\"\n",
        "    year = adatetime.year\n",
        "    boy = datetime(year, 1, 1)\n",
        "    eoy = datetime(year + 1, 1, 1)\n",
        "    return year + ((adatetime - boy).total_seconds() / ((eoy - boy).total_seconds()))"
      ]
    },
    {
      "cell_type": "code",
      "execution_count": 110,
      "id": "0215d8a0",
      "metadata": {
        "id": "0215d8a0"
      },
      "outputs": [],
      "source": [
        "def get_todays_date_variations():\n",
        "    \n",
        "    now = datetime.now()\n",
        "    todays_decimal =  dt2t(now)\n",
        "    \n",
        "    today = date.today()\n",
        "\n",
        "    todays_day = today.day\n",
        "    todays_month = today.strftime(\"%B\")\n",
        "    todays_year = today.year\n",
        "    todays_date_moyr = today.strftime(\"%B %Y\")\n",
        "    todays_date_modyyr = f\"{todays_month} {todays_day}, {todays_year}\"\n",
        "\n",
        "    return todays_date_moyr, todays_date_modyyr, todays_decimal, todays_year"
      ]
    },
    {
      "cell_type": "code",
      "execution_count": 111,
      "id": "03d313ea",
      "metadata": {
        "id": "03d313ea"
      },
      "outputs": [],
      "source": [
        "#  https://stackoverflow.com/questions/19305991/convert-fractional-years-to-a-real-date-in-python\n",
        "def t2dt(atime):\n",
        "    \"\"\"\n",
        "    Convert atime (a float) to DT.datetime\n",
        "    This is the inverse of dt2t.\n",
        "    assert dt2t(t2dt(atime)) == atime\n",
        "    \"\"\"\n",
        "    year = int(atime)\n",
        "    remainder = atime - year\n",
        "    boy = datetime(year, 1, 1)\n",
        "    eoy = datetime(year + 1, 1, 1)\n",
        "    seconds = remainder * (eoy - boy).total_seconds()\n",
        "    return boy + timedelta(seconds=seconds)"
      ]
    },
    {
      "cell_type": "code",
      "execution_count": 112,
      "id": "5085093b",
      "metadata": {
        "id": "5085093b"
      },
      "outputs": [],
      "source": [
        "def get_data_end_date(date_data):\n",
        "    last_date = np.max(date_data)\n",
        "    last_date_datetime = t2dt(last_date)\n",
        "    \n",
        "    # Convert date format to month_name day, year\n",
        "    day = last_date_datetime.day\n",
        "    month = last_date_datetime.strftime(\"%B\")\n",
        "    year = last_date_datetime.year\n",
        "    date_modyyr = f\"{month} {day}, {year}\"\n",
        "    return date_modyyr"
      ]
    },
    {
      "cell_type": "markdown",
      "id": "547109a0",
      "metadata": {
        "id": "547109a0"
      },
      "source": [
        "### Get Todays date for title"
      ]
    },
    {
      "cell_type": "code",
      "execution_count": 113,
      "id": "4006c6f7",
      "metadata": {
        "id": "4006c6f7"
      },
      "outputs": [],
      "source": [
        "# ------------------------------------------------\n",
        "# Get todays date in various formats for labeling\n",
        "# ------------------------------------------------\n",
        "todays_date_moyr, todays_date_modyyr, todays_decimal, todays_year = get_todays_date_variations()"
      ]
    },
    {
      "cell_type": "markdown",
      "id": "363b8569",
      "metadata": {
        "id": "363b8569"
      },
      "source": [
        "### Set titles and axes labels"
      ]
    },
    {
      "cell_type": "code",
      "execution_count": 114,
      "id": "32aeb8ba",
      "metadata": {
        "id": "32aeb8ba"
      },
      "outputs": [],
      "source": [
        "xlabel = 'Year'\n",
        "ylabel = \"$\\mathregular{CO}\\\\bf{_2}$\" + \" Concentration (ppm)\"\n",
        "\n",
        "title1 = 'Mauna Loa Observatory, Hawaii*'\n",
        "title2 = 'Monthly Average Carbon Dioxide Concentration'\n",
        "title3 = \"Data from Scripps \" + \"$CO\\mathregular{_2}$\" + f\" Program   Last updated {todays_date_moyr}\""
      ]
    },
    {
      "cell_type": "markdown",
      "id": "7a78fee9",
      "metadata": {
        "id": "7a78fee9"
      },
      "source": [
        "### Set yaxis min and max limits"
      ]
    },
    {
      "cell_type": "code",
      "execution_count": 115,
      "id": "85cf64ae",
      "metadata": {
        "id": "85cf64ae"
      },
      "outputs": [],
      "source": [
        "ymin = 310\n",
        "ymax = 425"
      ]
    },
    {
      "cell_type": "markdown",
      "id": "07364efa",
      "metadata": {
        "id": "07364efa"
      },
      "source": [
        "### Set xaxis min and max limits\n",
        "The decimal date is the midpoint of each month for the monthly record and for the concatenated daily data from the end of the monthly data to now is at the mid day."
      ]
    },
    {
      "cell_type": "code",
      "execution_count": 116,
      "id": "a5b773e9",
      "metadata": {
        "id": "a5b773e9"
      },
      "outputs": [],
      "source": [
        "xmin = 1957\n",
        "xmax = todays_year + 2"
      ]
    },
    {
      "cell_type": "markdown",
      "id": "7cd47980",
      "metadata": {
        "id": "7cd47980"
      },
      "source": [
        "## Create plot and save"
      ]
    },
    {
      "cell_type": "code",
      "execution_count": 117,
      "id": "a7f1ed2d",
      "metadata": {
        "colab": {
          "base_uri": "https://localhost:8080/",
          "height": 759
        },
        "id": "a7f1ed2d",
        "outputId": "68395d80-4311-4648-9082-6f19f76a460b",
        "scrolled": false
      },
      "outputs": [
        {
          "data": {
            "image/png": "[encoded data removed]",
            "text/plain": [
              "<Figure size 1100x825 with 2 Axes>"
            ]
          },
          "metadata": {},
          "output_type": "display_data"
        }
      ],
      "source": [
        "fig = plt.figure()\n",
        "\n",
        "ax = fig.add_subplot()\n",
        "\n",
        "\n",
        "# -------------\n",
        "# Plot the data\n",
        "# -------------\n",
        "\n",
        "ax.plot(date_mlo, co2_mlo, 'o', color='black',markersize=3.5, \n",
        "         markerfacecolor='black', markeredgecolor='black', markeredgewidth=0)\n",
        "\n",
        "#ax.plot(date_spline_mlo, co2_spline_mlo, '-', color='black', linewidth=0.5)\n",
        "\n",
        "# Add a gap in the line when it skips a date\n",
        "# if between, mko_decimal_start_date and mko_decimal_end_date, don't plot fit line\n",
        "df = pd.DataFrame({'dec_date':date_spline_mlo, 'co2_fit':co2_spline_mlo})\n",
        "df_left = df[df['dec_date'] < mko_decimal_start_date]\n",
        "df_right = df[df['dec_date'] > mko_decimal_end_date]\n",
        "\n",
        "ax.plot(df_left['dec_date'], df_left['co2_fit'], '-', color='black', linewidth=0.5, zorder=4)\n",
        "ax.plot(df_right['dec_date'], df_right['co2_fit'], '-', color='black', linewidth=0.5, zorder=4)\n",
        "\n",
        "# differentiate MKO data\n",
        "blue = '#1e47b0'\n",
        "\n",
        "ax.plot(date_mko, co2_mko, 'o', color=blue,markersize=4.5, \n",
        "         markerfacecolor=blue, markeredgecolor=blue, markeredgewidth=0, zorder=7)\n",
        "\n",
        "ax.plot(date_spline_mko, co2_spline_mko, '-', color=blue, linewidth=0.5, zorder=7)\n",
        "\n",
        "# -------------------\n",
        "# Set plot properties\n",
        "# -------------------\n",
        "set_website_plot_props(ax, fig, xmin, xmax, ymin, ymax, xlabel, ylabel)\n",
        "\n",
        "# ---------------\n",
        "# Add plot titles\n",
        "# ---------------\n",
        "add_plot_title(ax, title1, title2, title3)\n",
        "\n",
        "# --------------\n",
        "# Add inset text\n",
        "# --------------\n",
        "add_inset_label(ax, \"*Maunakea data in blue\")\n",
        "\n",
        "# --------------------\n",
        "# Add SIO logo to plot\n",
        "# --------------------\n",
        "xpos = 0.73\n",
        "ypos = 0.18\n",
        "\n",
        "add_sio_logo(fig, logo_file, xpos, ypos)\n",
        "\n",
        "\n",
        "# ---------------------\n",
        "# Save plot for website\n",
        "# ---------------------\n",
        "fig = plt.gcf()\n",
        "\n",
        "save_plot_for_website(fig)\n",
        "\n",
        "\n",
        "plt.show()"
      ]
    },
    {
      "cell_type": "code",
      "execution_count": 117,
      "id": "c1e57b56",
      "metadata": {
        "id": "c1e57b56"
      },
      "outputs": [],
      "source": []
    }
  ],
  "metadata": {
    "colab": {
      "provenance": []
    },
    "kernelspec": {
      "display_name": "Python 3.8.5 64-bit ('notebooks')",
      "language": "python",
      "name": "python3"
    },
    "language_info": {
      "codemirror_mode": {
        "name": "ipython",
        "version": 3
      },
      "file_extension": ".py",
      "mimetype": "text/x-python",
      "name": "python",
      "nbconvert_exporter": "python",
      "pygments_lexer": "ipython3",
      "version": "3.8.5"
    },
    "vscode": {
      "interpreter": {
        "hash": "756fd7f3f44ab1b408c61a336bc63dd8b2b1c2a4bc9346285fbb85e9c22b620b"
      }
    }
  },
  "nbformat": 4,
  "nbformat_minor": 5
}
